{
 "cells": [
  {
   "cell_type": "markdown",
   "metadata": {},
   "source": [
    "# Financial Distress Prediction\n",
    "\n",
    "## context\n",
    "This data set deals with the financial distress prediction for a sample of companies.\n",
    "\n",
    "## Content\n",
    "**First column:** Company represents sample companies.\n",
    "\n",
    "**Second column:** Time shows different time periods that data belongs to. Time series length varies between 1 to 14 for each company.\n",
    "\n",
    "**Third column:** The target variable is denoted by \"Financial Distress\" if it is greater than -0.50 the company should be considered as healthy (0). Otherwise, it would be regarded as financially distressed (1).\n",
    "\n",
    "**Fourth column to the last column:** The features denoted by x1 to x83, are some financial and non-financial characteristics of the sampled companies. These features belong to the previous time period, which should be used to predict whether the company will be financially distressed or not (classification). Feature x80 is a categorical variable.\n",
    "\n",
    "For example, company 1 is financially distressed at time 4 but company 2 is still healthy at time 14.\n",
    "\n",
    "This data set is imbalanced (there are 136 financially distressed companies against 286 healthy ones i.e., 136 firm-year observations are financially distressed while 3546 firm-year observations are healthy) and skewed, so f-score should be employed as the performance evaluation criterion.\n",
    "\n",
    "It should be noted that 30% of this data set should be randomly assigned as hold-out test set so the remaining 70% is used for feature selection and model selection i.e., train set.\n",
    "\n",
    "Note:\n",
    "1 - This data could be viewed as a classification problem.\n",
    "2 - This data could also be considered as a regression problem and then the result will be converted into a classification.\n",
    "3 - This data could be regarded as a multivariate time series classification.\n",
    "\n",
    "## Inspiration\n",
    "- Which features are most indicative of financial distress?\n",
    "- What types of machine learning models perform best on this dataset?\n",
    "\n",
    "## Reference\n",
    "- https://www.kaggle.com/datasets/shebrahimi/financial-distress"
   ]
  },
  {
   "cell_type": "code",
   "execution_count": 1,
   "metadata": {},
   "outputs": [
    {
     "ename": "ModuleNotFoundError",
     "evalue": "No module named 'numpy'",
     "output_type": "error",
     "traceback": [
      "\u001b[1;31m---------------------------------------------------------------------------\u001b[0m",
      "\u001b[1;31mModuleNotFoundError\u001b[0m                       Traceback (most recent call last)",
      "Cell \u001b[1;32mIn[1], line 1\u001b[0m\n\u001b[1;32m----> 1\u001b[0m \u001b[39mimport\u001b[39;00m \u001b[39mnumpy\u001b[39;00m \u001b[39mas\u001b[39;00m \u001b[39mnp\u001b[39;00m\n\u001b[0;32m      2\u001b[0m \u001b[39mfrom\u001b[39;00m \u001b[39msklearn\u001b[39;00m \u001b[39m.\u001b[39m linear_model \u001b[39mimport\u001b[39;00m \u001b[39mLinearRegression\u001b[39;00m\n\u001b[0;32m      3\u001b[0m \u001b[39mimport\u001b[39;00m \u001b[39mmatplotlib\u001b[39;00m \u001b[39m.\u001b[39m pyplot \u001b[39mas\u001b[39;00m plt\n",
      "\u001b[1;31mModuleNotFoundError\u001b[0m: No module named 'numpy'"
     ]
    }
   ],
   "source": [
    "import numpy as np\n",
    "from sklearn . linear_model import LinearRegression\n",
    "import matplotlib . pyplot as plt\n",
    "# Define the dataset\n",
    "X = np . array ([1 , 2 , 3 , 4 , 5]) . reshape (-1 , 1 ) # Reshape to a 2D array\n",
    "Y = np . array ([2 , 3 , 3.5 , 4.5 , 5])\n",
    "# Create a linear regression model\n",
    "model = LinearRegression ()\n",
    "# Fit the model to the data\n",
    "model . fit (X , Y )\n",
    "# Get the coefficients ( slope and intercept )\n",
    "slope = model . coef_ [0]\n",
    "intercept = model . intercept_\n",
    "# Make predictions for the same X values\n",
    "Y_train_pred = model . predict ( X )\n",
    "# Plot the data points and the regression line\n",
    "plt . scatter (X , Y , label ='Data Points ', color ='blue ')\n",
    "plt . plot (X , Y_train_pred , label ='Regression Line ', color ='red ')\n",
    "plt . xlabel ('x ( Feature )')\n",
    "plt . ylabel ('y ( Target )')\n",
    "plt . legend ()\n",
    "plt . title ('Linear Regression ')\n",
    "plt . show ()\n",
    "# Print the coefficients\n",
    "print ( f\" Slope (b1): { slope }\")\n",
    "print ( f\" Intercept (b0): { intercept }\")"
   ]
  }
 ],
 "metadata": {
  "kernelspec": {
   "display_name": "Python 3",
   "language": "python",
   "name": "python3"
  },
  "language_info": {
   "codemirror_mode": {
    "name": "ipython",
    "version": 3
   },
   "file_extension": ".py",
   "mimetype": "text/x-python",
   "name": "python",
   "nbconvert_exporter": "python",
   "pygments_lexer": "ipython3",
   "version": "3.11.4"
  },
  "orig_nbformat": 4
 },
 "nbformat": 4,
 "nbformat_minor": 2
}
