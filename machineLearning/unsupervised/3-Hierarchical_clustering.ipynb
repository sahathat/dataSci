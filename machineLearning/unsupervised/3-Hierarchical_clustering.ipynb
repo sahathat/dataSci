{
 "cells": [
  {
   "cell_type": "code",
   "execution_count": null,
   "id": "112065b7-c5ee-4ec5-8cde-05a60a8cc53e",
   "metadata": {},
   "outputs": [],
   "source": [
    "import pandas as pd\n",
    "import matplotlib.pyplot as plt\n",
    "from scipy.cluster.hierarchy import dendrogram, linkage, fcluster\n",
    "\n",
    "# Read the CSV file into a pandas DataFrame\n",
    "path_to_csv = 'Mall_Customers.csv'\n",
    "df = pd.read_csv(path_to_csv)\n",
    "\n",
    "# Select the features for clustering\n",
    "selected_features = df[[\"Annual Income (k$)\", \"Spending Score (1-100)\"]]\n",
    "\n",
    "# Perform hierarchical clustering using the linkage function\n",
    "linkage_matrix = linkage(selected_features, method='ward')\n",
    "\n",
    "# Determine the clusters using fcluster\n",
    "max_d = 150  # Adjust this value based on the dendrogram\n",
    "clusters = fcluster(linkage_matrix, t=max_d, criterion='distance')\n",
    "\n",
    "# Add the cluster labels to the DataFrame\n",
    "df['Cluster'] = clusters\n",
    "\n",
    "# Plot the clusters\n",
    "plt.figure(figsize=(10, 6))\n",
    "\n",
    "# Create scatter plot for each cluster\n",
    "for cluster_id in df['Cluster'].unique():\n",
    "    cluster_data = df[df['Cluster'] == cluster_id]\n",
    "    plt.scatter(cluster_data[\"Annual Income (k$)\"], cluster_data[\"Spending Score (1-100)\"], label=f'Cluster {cluster_id}')\n",
    "\n",
    "plt.xlabel(\"Annual Income (k$)\")\n",
    "plt.ylabel(\"Spending Score (1-100)\")\n",
    "plt.title(\"Clusters of Mall Customers\")\n",
    "plt.legend()\n",
    "plt.show()\n"
   ]
  }
 ],
 "metadata": {
  "kernelspec": {
   "display_name": "Python 3 (ipykernel)",
   "language": "python",
   "name": "python3"
  },
  "language_info": {
   "codemirror_mode": {
    "name": "ipython",
    "version": 3
   },
   "file_extension": ".py",
   "mimetype": "text/x-python",
   "name": "python",
   "nbconvert_exporter": "python",
   "pygments_lexer": "ipython3",
   "version": "3.10.5"
  }
 },
 "nbformat": 4,
 "nbformat_minor": 5
}
