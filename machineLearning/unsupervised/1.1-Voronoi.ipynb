{
 "cells": [
  {
   "cell_type": "code",
   "execution_count": 13,
   "metadata": {},
   "outputs": [
    {
     "name": "stderr",
     "output_type": "stream",
     "text": [
      "C:\\Users\\Student\\AppData\\Roaming\\Python\\Python311\\site-packages\\sklearn\\cluster\\_kmeans.py:1412: FutureWarning: The default value of `n_init` will change from 10 to 'auto' in 1.4. Set the value of `n_init` explicitly to suppress the warning\n",
      "  super()._check_params_vs_input(X, default_n_init=10)\n"
     ]
    },
    {
     "name": "stdout",
     "output_type": "stream",
     "text": [
      "Silhouette Coefficient: 0.4500066314687522\n"
     ]
    },
    {
     "ename": "QhullError",
     "evalue": "QH6154 Qhull precision error: Initial simplex is flat (facet 1 is coplanar with the interior point)\n\nWhile executing:  | qhull v Qc Qz Qbb\nOptions selected for Qhull 2019.1.r 2019/06/21:\n  run-id 1450792200  voronoi  Qcoplanar-keep  Qz-infinity-point  Qbbound-last\n  _pre-merge  _zero-centrum  Qinterior-keep  Pgood  _max-width 2.3e+02\n  Error-roundoff 4.8e-13  _one-merge 4.3e-12  Visible-distance 2.9e-12\n  U-max-coplanar 2.9e-12  Width-outside 5.8e-12  _wide-facet 1.7e-11\n  _maxoutside 5.8e-12\n\nprecision problems (corrected unless 'Q0' or an error)\n      7 zero divisors during gaussian elimination\n\nThe input to qhull appears to be less than 4 dimensional, or a\ncomputation has overflowed.\n\nQhull could not construct a clearly convex simplex from points:\n- p1(v5): 2.3e+02 2e+02     0 1.9e+02\n- p0(v4):    97    92     0    36\n- p10(v3): 1.2e+02 1.1e+02     0 2.4e+02\n- p5(v2): 2.4e+02 2.2e+02     0 2.2e+02\n- p2(v1):   9.7    17     0     0\n\nThe center point is coplanar with a facet, or a vertex is coplanar\nwith a neighboring facet.  The maximum round off error for\ncomputing distances is 4.8e-13.  The center point, facets and distances\nto the center point are as follows:\n\ncenter point      139    128.8        0    135.9\n\nfacet p0 p10 p5 p2 distance=    0\nfacet p1 p10 p5 p2 distance=    0\nfacet p1 p0 p5 p2 distance=    0\nfacet p1 p0 p10 p2 distance=    0\nfacet p1 p0 p10 p5 distance=    0\n\nThese points either have a maximum or minimum x-coordinate, or\nthey maximize the determinant for k coordinates.  Trial points\nare first selected from points that maximize a coordinate.\n\nThe min and max coordinates for each dimension are:\n  0:     9.656     239.5  difference= 229.9\n  1:     17.44     222.7  difference= 205.2\n  2:         0         0  difference=    0\n  3:         0     239.5  difference= 239.5\n\nIf the input should be full dimensional, you have several options that\nmay determine an initial simplex:\n  - use 'QJ'  to joggle the input and make it full dimensional\n  - use 'QbB' to scale the points to the unit cube\n  - use 'QR0' to randomly rotate the input for different maximum points\n  - use 'Qs'  to search all points for the initial simplex\n  - use 'En'  to specify a maximum roundoff error less than 4.8e-13.\n  - trace execution with 'T3' to see the determinant for each point.\n\nIf the input is lower dimensional:\n  - use 'QJ' to joggle the input and make it full dimensional\n  - use 'Qbk:0Bk:0' to delete coordinate k from the input.  You should\n    pick the coordinate with the least range.  The hull will have the\n    correct topology.\n  - determine the flat containing the points, rotate the points\n    into a coordinate plane, and delete the other coordinates.\n  - add one or more points to make the input full dimensional.\n",
     "output_type": "error",
     "traceback": [
      "\u001b[1;31m---------------------------------------------------------------------------\u001b[0m",
      "\u001b[1;31mQhullError\u001b[0m                                Traceback (most recent call last)",
      "Cell \u001b[1;32mIn[13], line 26\u001b[0m\n\u001b[0;32m     23\u001b[0m \u001b[39mprint\u001b[39m(\u001b[39mf\u001b[39m\u001b[39m\"\u001b[39m\u001b[39mSilhouette Coefficient: \u001b[39m\u001b[39m{\u001b[39;00msilhouette_avg\u001b[39m}\u001b[39;00m\u001b[39m\"\u001b[39m)\n\u001b[0;32m     25\u001b[0m \u001b[39m# Step 5: Visualize the clustering results using Voronoi cells\u001b[39;00m\n\u001b[1;32m---> 26\u001b[0m vor \u001b[39m=\u001b[39m Voronoi(kmeans\u001b[39m.\u001b[39;49mcluster_centers_[:, :\u001b[39m3\u001b[39;49m])  \u001b[39m# Use only RGB values\u001b[39;00m\n\u001b[0;32m     27\u001b[0m fig, ax \u001b[39m=\u001b[39m plt\u001b[39m.\u001b[39msubplots()\n\u001b[0;32m     28\u001b[0m voronoi_plot_2d(vor, ax\u001b[39m=\u001b[39max)\n",
      "File \u001b[1;32m_qhull.pyx:2617\u001b[0m, in \u001b[0;36mscipy.spatial._qhull.Voronoi.__init__\u001b[1;34m()\u001b[0m\n",
      "File \u001b[1;32m_qhull.pyx:353\u001b[0m, in \u001b[0;36mscipy.spatial._qhull._Qhull.__init__\u001b[1;34m()\u001b[0m\n",
      "\u001b[1;31mQhullError\u001b[0m: QH6154 Qhull precision error: Initial simplex is flat (facet 1 is coplanar with the interior point)\n\nWhile executing:  | qhull v Qc Qz Qbb\nOptions selected for Qhull 2019.1.r 2019/06/21:\n  run-id 1450792200  voronoi  Qcoplanar-keep  Qz-infinity-point  Qbbound-last\n  _pre-merge  _zero-centrum  Qinterior-keep  Pgood  _max-width 2.3e+02\n  Error-roundoff 4.8e-13  _one-merge 4.3e-12  Visible-distance 2.9e-12\n  U-max-coplanar 2.9e-12  Width-outside 5.8e-12  _wide-facet 1.7e-11\n  _maxoutside 5.8e-12\n\nprecision problems (corrected unless 'Q0' or an error)\n      7 zero divisors during gaussian elimination\n\nThe input to qhull appears to be less than 4 dimensional, or a\ncomputation has overflowed.\n\nQhull could not construct a clearly convex simplex from points:\n- p1(v5): 2.3e+02 2e+02     0 1.9e+02\n- p0(v4):    97    92     0    36\n- p10(v3): 1.2e+02 1.1e+02     0 2.4e+02\n- p5(v2): 2.4e+02 2.2e+02     0 2.2e+02\n- p2(v1):   9.7    17     0     0\n\nThe center point is coplanar with a facet, or a vertex is coplanar\nwith a neighboring facet.  The maximum round off error for\ncomputing distances is 4.8e-13.  The center point, facets and distances\nto the center point are as follows:\n\ncenter point      139    128.8        0    135.9\n\nfacet p0 p10 p5 p2 distance=    0\nfacet p1 p10 p5 p2 distance=    0\nfacet p1 p0 p5 p2 distance=    0\nfacet p1 p0 p10 p2 distance=    0\nfacet p1 p0 p10 p5 distance=    0\n\nThese points either have a maximum or minimum x-coordinate, or\nthey maximize the determinant for k coordinates.  Trial points\nare first selected from points that maximize a coordinate.\n\nThe min and max coordinates for each dimension are:\n  0:     9.656     239.5  difference= 229.9\n  1:     17.44     222.7  difference= 205.2\n  2:         0         0  difference=    0\n  3:         0     239.5  difference= 239.5\n\nIf the input should be full dimensional, you have several options that\nmay determine an initial simplex:\n  - use 'QJ'  to joggle the input and make it full dimensional\n  - use 'QbB' to scale the points to the unit cube\n  - use 'QR0' to randomly rotate the input for different maximum points\n  - use 'Qs'  to search all points for the initial simplex\n  - use 'En'  to specify a maximum roundoff error less than 4.8e-13.\n  - trace execution with 'T3' to see the determinant for each point.\n\nIf the input is lower dimensional:\n  - use 'QJ' to joggle the input and make it full dimensional\n  - use 'Qbk:0Bk:0' to delete coordinate k from the input.  You should\n    pick the coordinate with the least range.  The hull will have the\n    correct topology.\n  - determine the flat containing the points, rotate the points\n    into a coordinate plane, and delete the other coordinates.\n  - add one or more points to make the input full dimensional.\n"
     ]
    }
   ],
   "source": [
    "import numpy as np\n",
    "import matplotlib.pyplot as plt\n",
    "from sklearn.cluster import KMeans\n",
    "from sklearn.metrics import silhouette_score\n",
    "from scipy.spatial import Voronoi, voronoi_plot_2d\n",
    "from PIL import Image\n",
    "\n",
    "# Step 1: Read the image from a PNG file\n",
    "image_path = \"rose-yellow.png\"\n",
    "image = Image.open(image_path)\n",
    "image_array = np.array(image)\n",
    "\n",
    "# Step 2: Use the RGB values as features\n",
    "features = image_array.reshape((-1, 4))  # Assuming a 4D image array (RGB + alpha)\n",
    "\n",
    "# Step 3: Cluster using K-Means with K = 10\n",
    "k = 10\n",
    "kmeans = KMeans(n_clusters=k, random_state=42)\n",
    "labels = kmeans.fit_predict(features)\n",
    "\n",
    "# Step 4: Calculate the Silhouette Coefficient\n",
    "silhouette_avg = silhouette_score(features, labels)\n",
    "print(f\"Silhouette Coefficient: {silhouette_avg}\")\n",
    "\n",
    "# Step 5: Visualize the clustering results using Voronoi cells\n",
    "vor = Voronoi(kmeans.cluster_centers_[:, :3])  # Use only RGB values\n",
    "fig, ax = plt.subplots()\n",
    "voronoi_plot_2d(vor, ax=ax)\n",
    "ax.scatter(features[:, 0], features[:, 1], c=features[:, :3] / 255.0, s=1)  # Color points based on RGB values\n",
    "plt.title(\"Voronoi Cells and Clustering\")\n",
    "plt.show()\n",
    "\n",
    "# Step 6: Display image with color by cluster centers\n",
    "cluster_colors = kmeans.cluster_centers_[:, :3].astype(int)\n",
    "cluster_image = np.array([cluster_colors[label] for label in labels])\n",
    "cluster_image = cluster_image.reshape(image_array.shape)\n",
    "\n",
    "plt.imshow(cluster_image)\n",
    "plt.title(\"Image with Cluster Centers' Colors\")\n",
    "plt.axis('off')\n",
    "plt.show()\n",
    "\n",
    "# Step 7: Save the resulting image\n",
    "output_image_path = \"rose-yellow-kmeans.png\"\n",
    "output_image = Image.fromarray(cluster_image)\n",
    "output_image.save(output_image_path)\n",
    "print(f\"Saved image as {output_image_path}\")\n"
   ]
  }
 ],
 "metadata": {
  "kernelspec": {
   "display_name": "Python 3",
   "language": "python",
   "name": "python3"
  },
  "language_info": {
   "codemirror_mode": {
    "name": "ipython",
    "version": 3
   },
   "file_extension": ".py",
   "mimetype": "text/x-python",
   "name": "python",
   "nbconvert_exporter": "python",
   "pygments_lexer": "ipython3",
   "version": "3.11.4"
  },
  "orig_nbformat": 4
 },
 "nbformat": 4,
 "nbformat_minor": 2
}
