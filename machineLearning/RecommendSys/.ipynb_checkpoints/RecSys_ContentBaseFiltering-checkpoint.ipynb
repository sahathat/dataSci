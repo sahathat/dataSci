{
 "cells": [
  {
   "cell_type": "code",
   "execution_count": 40,
   "id": "a083a7ad-1c0b-4591-bf11-1173938fc925",
   "metadata": {},
   "outputs": [
    {
     "name": "stdout",
     "output_type": "stream",
     "text": [
      "<class 'pandas.core.frame.DataFrame'>\n",
      "RangeIndex: 9742 entries, 0 to 9741\n",
      "Data columns (total 3 columns):\n",
      " #   Column   Non-Null Count  Dtype \n",
      "---  ------   --------------  ----- \n",
      " 0   movieId  9742 non-null   int64 \n",
      " 1   title    9742 non-null   object\n",
      " 2   genres   9742 non-null   object\n",
      "dtypes: int64(1), object(2)\n",
      "memory usage: 228.5+ KB\n",
      "None\n",
      "(9742, 3)\n",
      "<class 'pandas.core.frame.DataFrame'>\n",
      "RangeIndex: 100836 entries, 0 to 100835\n",
      "Data columns (total 4 columns):\n",
      " #   Column     Non-Null Count   Dtype  \n",
      "---  ------     --------------   -----  \n",
      " 0   userId     100836 non-null  int64  \n",
      " 1   movieId    100836 non-null  int64  \n",
      " 2   rating     100836 non-null  float64\n",
      " 3   timestamp  100836 non-null  int64  \n",
      "dtypes: float64(1), int64(3)\n",
      "memory usage: 3.1 MB\n",
      "None\n",
      "(100836, 4)\n"
     ]
    }
   ],
   "source": [
    "import pandas as pd\n",
    "from surprise import Dataset,Reader\n",
    "from surprise.model_selection import train_test_split\n",
    "from surprise import SVD, SVDpp, NMF\n",
    "from surprise import accuracy\n",
    "# Load the MovieLens dataset (ml-latest-small)\n",
    "movies=pd.read_csv('ml-latest-small/movies.csv')\n",
    "ratings=pd.read_csv('ml-latest-small/ratings.csv')\n",
    "print(movies.info())\n",
    "print(movies.shape)\n",
    "print(ratings.info())\n",
    "print(ratings.shape)"
   ]
  },
  {
   "cell_type": "code",
   "execution_count": 17,
   "id": "b34cb08d-ed15-4d83-b504-0bf2b15a66e9",
   "metadata": {},
   "outputs": [
    {
     "data": {
      "text/html": [
       "<div>\n",
       "<style scoped>\n",
       "    .dataframe tbody tr th:only-of-type {\n",
       "        vertical-align: middle;\n",
       "    }\n",
       "\n",
       "    .dataframe tbody tr th {\n",
       "        vertical-align: top;\n",
       "    }\n",
       "\n",
       "    .dataframe thead th {\n",
       "        text-align: right;\n",
       "    }\n",
       "</style>\n",
       "<table border=\"1\" class=\"dataframe\">\n",
       "  <thead>\n",
       "    <tr style=\"text-align: right;\">\n",
       "      <th></th>\n",
       "      <th>userId</th>\n",
       "      <th>movieId</th>\n",
       "      <th>rating</th>\n",
       "      <th>timestamp</th>\n",
       "      <th>title</th>\n",
       "      <th>genres</th>\n",
       "    </tr>\n",
       "  </thead>\n",
       "  <tbody>\n",
       "    <tr>\n",
       "      <th>0</th>\n",
       "      <td>1</td>\n",
       "      <td>1</td>\n",
       "      <td>4.0</td>\n",
       "      <td>964982703</td>\n",
       "      <td>Toy Story (1995)</td>\n",
       "      <td>Adventure|Animation|Children|Comedy|Fantasy</td>\n",
       "    </tr>\n",
       "    <tr>\n",
       "      <th>1</th>\n",
       "      <td>5</td>\n",
       "      <td>1</td>\n",
       "      <td>4.0</td>\n",
       "      <td>847434962</td>\n",
       "      <td>Toy Story (1995)</td>\n",
       "      <td>Adventure|Animation|Children|Comedy|Fantasy</td>\n",
       "    </tr>\n",
       "    <tr>\n",
       "      <th>2</th>\n",
       "      <td>7</td>\n",
       "      <td>1</td>\n",
       "      <td>4.5</td>\n",
       "      <td>1106635946</td>\n",
       "      <td>Toy Story (1995)</td>\n",
       "      <td>Adventure|Animation|Children|Comedy|Fantasy</td>\n",
       "    </tr>\n",
       "    <tr>\n",
       "      <th>3</th>\n",
       "      <td>15</td>\n",
       "      <td>1</td>\n",
       "      <td>2.5</td>\n",
       "      <td>1510577970</td>\n",
       "      <td>Toy Story (1995)</td>\n",
       "      <td>Adventure|Animation|Children|Comedy|Fantasy</td>\n",
       "    </tr>\n",
       "    <tr>\n",
       "      <th>4</th>\n",
       "      <td>17</td>\n",
       "      <td>1</td>\n",
       "      <td>4.5</td>\n",
       "      <td>1305696483</td>\n",
       "      <td>Toy Story (1995)</td>\n",
       "      <td>Adventure|Animation|Children|Comedy|Fantasy</td>\n",
       "    </tr>\n",
       "  </tbody>\n",
       "</table>\n",
       "</div>"
      ],
      "text/plain": [
       "   userId  movieId  rating   timestamp             title  \\\n",
       "0       1        1     4.0   964982703  Toy Story (1995)   \n",
       "1       5        1     4.0   847434962  Toy Story (1995)   \n",
       "2       7        1     4.5  1106635946  Toy Story (1995)   \n",
       "3      15        1     2.5  1510577970  Toy Story (1995)   \n",
       "4      17        1     4.5  1305696483  Toy Story (1995)   \n",
       "\n",
       "                                        genres  \n",
       "0  Adventure|Animation|Children|Comedy|Fantasy  \n",
       "1  Adventure|Animation|Children|Comedy|Fantasy  \n",
       "2  Adventure|Animation|Children|Comedy|Fantasy  \n",
       "3  Adventure|Animation|Children|Comedy|Fantasy  \n",
       "4  Adventure|Animation|Children|Comedy|Fantasy  "
      ]
     },
     "execution_count": 17,
     "metadata": {},
     "output_type": "execute_result"
    }
   ],
   "source": [
    "# Merge movies and ratings data\n",
    "movie_ratings=pd.merge(ratings,movies,on='movieId')\n",
    "movie_ratings.head()"
   ]
  },
  {
   "cell_type": "code",
   "execution_count": 19,
   "id": "2edf5e6b-36ba-471c-92fe-dc40cbb3017a",
   "metadata": {},
   "outputs": [
    {
     "data": {
      "text/plain": [
       "<surprise.reader.Reader at 0x19a1303b940>"
      ]
     },
     "execution_count": 19,
     "metadata": {},
     "output_type": "execute_result"
    }
   ],
   "source": [
    "# Create a Surprise Reader\n",
    "reader=Reader(rating_scale=(1,5))\n",
    "reader"
   ]
  },
  {
   "cell_type": "code",
   "execution_count": 20,
   "id": "c13601dc-3b6e-4dfa-8739-81f609d61d9a",
   "metadata": {},
   "outputs": [
    {
     "data": {
      "text/plain": [
       "<surprise.dataset.DatasetAutoFolds at 0x19a13039690>"
      ]
     },
     "execution_count": 20,
     "metadata": {},
     "output_type": "execute_result"
    }
   ],
   "source": [
    "# Load the data into Surprise Dataset\n",
    "surpised_data=Dataset.load_from_df(movie_ratings[['userId','movieId','rating']],reader)\n",
    "surpised_data"
   ]
  },
  {
   "cell_type": "code",
   "execution_count": 29,
   "id": "6e8b30d6-0e25-473b-bf79-9299091d0b42",
   "metadata": {},
   "outputs": [
    {
     "name": "stdout",
     "output_type": "stream",
     "text": [
      "<surprise.trainset.Trainset object at 0x0000019A1303A110>\n",
      "[(177, 1288, 3.5), (551, 165549, 1.0), (212, 81834, 4.0), (249, 40815, 3.5), (492, 1363, 4.0)]\n",
      "20168\n"
     ]
    }
   ],
   "source": [
    "# Split the data into training and testing sets\n",
    "trainset,testset=train_test_split(surpised_data,test_size=0.2,random_state=42)\n",
    "print(trainset)\n",
    "print(testset[:5])\n",
    "print(len(testset))"
   ]
  },
  {
   "cell_type": "code",
   "execution_count": 37,
   "id": "f7cec062-fd79-46a6-8197-721cb3676880",
   "metadata": {},
   "outputs": [
    {
     "data": {
      "text/plain": [
       "<surprise.prediction_algorithms.matrix_factorization.SVD at 0x19a130c1840>"
      ]
     },
     "execution_count": 37,
     "metadata": {},
     "output_type": "execute_result"
    }
   ],
   "source": [
    "# Use the SVD algorithm\n",
    "svd=SVD()\n",
    "# Train the algorithm on the training set\n",
    "svd.fit(trainset)"
   ]
  },
  {
   "cell_type": "code",
   "execution_count": 38,
   "id": "0bfe82dc-a509-4b56-8230-6ca7f43700a1",
   "metadata": {},
   "outputs": [
    {
     "data": {
      "text/plain": [
       "<surprise.prediction_algorithms.matrix_factorization.SVDpp at 0x19a130c1d20>"
      ]
     },
     "execution_count": 38,
     "metadata": {},
     "output_type": "execute_result"
    }
   ],
   "source": [
    "# Use the SVD algorithm\n",
    "svdpp=SVDpp()\n",
    "# Train the algorithm on the training set\n",
    "svdpp.fit(trainset)"
   ]
  },
  {
   "cell_type": "code",
   "execution_count": 41,
   "id": "688984d8-b827-45f1-a552-a54275e24fc2",
   "metadata": {},
   "outputs": [
    {
     "data": {
      "text/plain": [
       "<surprise.prediction_algorithms.matrix_factorization.NMF at 0x19a13004730>"
      ]
     },
     "execution_count": 41,
     "metadata": {},
     "output_type": "execute_result"
    }
   ],
   "source": [
    "# Use the SVD algorithm\n",
    "nmf=NMF()\n",
    "# Train the algorithm on the training set\n",
    "nmf.fit(trainset)"
   ]
  },
  {
   "cell_type": "code",
   "execution_count": 45,
   "id": "03095e30-b6c5-433f-9f7f-e8659299a433",
   "metadata": {},
   "outputs": [
    {
     "name": "stdout",
     "output_type": "stream",
     "text": [
      "svd\n",
      "RMSE: 0.8723\n",
      "RMSE on the test set of svd: 0.8723020745470047\n",
      "svdpp\n",
      "RMSE: 0.8616\n",
      "RMSE on the test set of svdpp: 0.8616124031563398\n",
      "nmf\n",
      "RMSE: 0.9221\n",
      "RMSE on the test set of nmf: 0.9221251598244359\n"
     ]
    }
   ],
   "source": [
    "model = {\"svd\":svd,\"svdpp\":svdpp,\"nmf\":nmf}\n",
    "for i in model:\n",
    "    print(i)\n",
    "    # Make predictions on the test set\n",
    "    predictions=model[i].test(testset)\n",
    "    # Evaluate the predictions using RMSE (Root Mean Squared Error)\n",
    "    rmse=accuracy.rmse(predictions)\n",
    "    print(f\"RMSE on the test set of {i}: {rmse}\")"
   ]
  },
  {
   "cell_type": "code",
   "execution_count": 46,
   "id": "5d799d70-5b7b-46af-a6f2-2235e2b3facb",
   "metadata": {},
   "outputs": [
    {
     "name": "stdout",
     "output_type": "stream",
     "text": [
      "\n",
      "Top 10 movie recommendations for User 1:\n",
      "Sense and Sensibility (1995) (Estimated Rating: 5)\n",
      "Persuasion (1995) (Estimated Rating: 5)\n",
      "Lamerica (1994) (Estimated Rating: 5)\n",
      "Angels and Insects (1995) (Estimated Rating: 5)\n",
      "Heidi Fleiss: Hollywood Madam (1995) (Estimated Rating: 5)\n",
      "Heavenly Creatures (1994) (Estimated Rating: 5)\n",
      "Priest (1994) (Estimated Rating: 5)\n",
      "Three Colors: Red (Trois couleurs: Rouge) (1994) (Estimated Rating: 5)\n",
      "Three Colors: Blue (Trois couleurs: Bleu) (1993) (Estimated Rating: 5)\n",
      "Shawshank Redemption, The (1994) (Estimated Rating: 5)\n"
     ]
    }
   ],
   "source": [
    "# Get recommendations for a specific user\n",
    "user_id=1\n",
    "user_movies=movie_ratings[movie_ratings['userId']==user_id]['movieId'].unique()\n",
    "# Filter out movies the user has already rated\n",
    "unrated_movies=movies[~movies['movieId'].isin(user_movies)]['movieId']\n",
    "# Make predictions for unrated movies\n",
    "user_predictions=[nmf.predict(user_id,movie_id) for movie_id in unrated_movies]\n",
    "# Sort predictions by estimated rating in descending order\n",
    "sorted_predictions=sorted(user_predictions,key=lambda x:x.est,reverse=True)\n",
    "# Get top 10 movie recommendations\n",
    "top_recommendations=sorted_predictions[:10]\n",
    "# Print top recommendations\n",
    "print(f\"\\nTop 10 movie recommendations for User {user_id}:\")\n",
    "for recommendation in top_recommendations:\n",
    "   movie_title=movies[movies['movieId']==recommendation.iid]['title'].values[0]\n",
    "   print(f\"{movie_title} (Estimated Rating: {recommendation.est})\")"
   ]
  },
  {
   "cell_type": "code",
   "execution_count": null,
   "id": "bc89c512-3bd0-4afa-a2d9-539c584a05e3",
   "metadata": {},
   "outputs": [],
   "source": []
  }
 ],
 "metadata": {
  "kernelspec": {
   "display_name": "Python 3 (ipykernel)",
   "language": "python",
   "name": "python3"
  },
  "language_info": {
   "codemirror_mode": {
    "name": "ipython",
    "version": 3
   },
   "file_extension": ".py",
   "mimetype": "text/x-python",
   "name": "python",
   "nbconvert_exporter": "python",
   "pygments_lexer": "ipython3",
   "version": "3.10.5"
  }
 },
 "nbformat": 4,
 "nbformat_minor": 5
}
