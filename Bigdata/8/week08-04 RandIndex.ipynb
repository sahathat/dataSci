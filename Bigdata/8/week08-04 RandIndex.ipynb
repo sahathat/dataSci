{
 "cells": [
  {
   "cell_type": "code",
   "execution_count": 24,
   "id": "c2ec1aec-5c5c-42e3-8cb4-4604d4fd00e4",
   "metadata": {},
   "outputs": [],
   "source": [
    "import matplotlib\n",
    "import matplotlib.pyplot as plt\n",
    "import numpy as np\n",
    "import pandas as pd\n",
    "from sklearn.preprocessing import StandardScaler\n",
    "from sklearn.cluster import KMeans\n",
    "from sklearn.metrics import rand_score, silhouette_score\n",
    "from scipy.stats import entropy\n",
    "\n",
    "df = pd.read_csv('Iris.csv')"
   ]
  },
  {
   "cell_type": "code",
   "execution_count": 5,
   "id": "bab4ab7d-a3de-43e0-b51c-30f4ae5f1671",
   "metadata": {},
   "outputs": [],
   "source": [
    "x = df[[\"SepalLengthCm\",\"SepalWidthCm\",\"PetalLengthCm\",\"PetalWidthCm\"]]\n",
    "y = df[[\"Species\"]]"
   ]
  },
  {
   "cell_type": "code",
   "execution_count": 6,
   "id": "a20a49ce-fc00-4243-a79b-de0185a811ec",
   "metadata": {},
   "outputs": [
    {
     "data": {
      "text/html": [
       "<style>#sk-container-id-1 {color: black;background-color: white;}#sk-container-id-1 pre{padding: 0;}#sk-container-id-1 div.sk-toggleable {background-color: white;}#sk-container-id-1 label.sk-toggleable__label {cursor: pointer;display: block;width: 100%;margin-bottom: 0;padding: 0.3em;box-sizing: border-box;text-align: center;}#sk-container-id-1 label.sk-toggleable__label-arrow:before {content: \"▸\";float: left;margin-right: 0.25em;color: #696969;}#sk-container-id-1 label.sk-toggleable__label-arrow:hover:before {color: black;}#sk-container-id-1 div.sk-estimator:hover label.sk-toggleable__label-arrow:before {color: black;}#sk-container-id-1 div.sk-toggleable__content {max-height: 0;max-width: 0;overflow: hidden;text-align: left;background-color: #f0f8ff;}#sk-container-id-1 div.sk-toggleable__content pre {margin: 0.2em;color: black;border-radius: 0.25em;background-color: #f0f8ff;}#sk-container-id-1 input.sk-toggleable__control:checked~div.sk-toggleable__content {max-height: 200px;max-width: 100%;overflow: auto;}#sk-container-id-1 input.sk-toggleable__control:checked~label.sk-toggleable__label-arrow:before {content: \"▾\";}#sk-container-id-1 div.sk-estimator input.sk-toggleable__control:checked~label.sk-toggleable__label {background-color: #d4ebff;}#sk-container-id-1 div.sk-label input.sk-toggleable__control:checked~label.sk-toggleable__label {background-color: #d4ebff;}#sk-container-id-1 input.sk-hidden--visually {border: 0;clip: rect(1px 1px 1px 1px);clip: rect(1px, 1px, 1px, 1px);height: 1px;margin: -1px;overflow: hidden;padding: 0;position: absolute;width: 1px;}#sk-container-id-1 div.sk-estimator {font-family: monospace;background-color: #f0f8ff;border: 1px dotted black;border-radius: 0.25em;box-sizing: border-box;margin-bottom: 0.5em;}#sk-container-id-1 div.sk-estimator:hover {background-color: #d4ebff;}#sk-container-id-1 div.sk-parallel-item::after {content: \"\";width: 100%;border-bottom: 1px solid gray;flex-grow: 1;}#sk-container-id-1 div.sk-label:hover label.sk-toggleable__label {background-color: #d4ebff;}#sk-container-id-1 div.sk-serial::before {content: \"\";position: absolute;border-left: 1px solid gray;box-sizing: border-box;top: 0;bottom: 0;left: 50%;z-index: 0;}#sk-container-id-1 div.sk-serial {display: flex;flex-direction: column;align-items: center;background-color: white;padding-right: 0.2em;padding-left: 0.2em;position: relative;}#sk-container-id-1 div.sk-item {position: relative;z-index: 1;}#sk-container-id-1 div.sk-parallel {display: flex;align-items: stretch;justify-content: center;background-color: white;position: relative;}#sk-container-id-1 div.sk-item::before, #sk-container-id-1 div.sk-parallel-item::before {content: \"\";position: absolute;border-left: 1px solid gray;box-sizing: border-box;top: 0;bottom: 0;left: 50%;z-index: -1;}#sk-container-id-1 div.sk-parallel-item {display: flex;flex-direction: column;z-index: 1;position: relative;background-color: white;}#sk-container-id-1 div.sk-parallel-item:first-child::after {align-self: flex-end;width: 50%;}#sk-container-id-1 div.sk-parallel-item:last-child::after {align-self: flex-start;width: 50%;}#sk-container-id-1 div.sk-parallel-item:only-child::after {width: 0;}#sk-container-id-1 div.sk-dashed-wrapped {border: 1px dashed gray;margin: 0 0.4em 0.5em 0.4em;box-sizing: border-box;padding-bottom: 0.4em;background-color: white;}#sk-container-id-1 div.sk-label label {font-family: monospace;font-weight: bold;display: inline-block;line-height: 1.2em;}#sk-container-id-1 div.sk-label-container {text-align: center;}#sk-container-id-1 div.sk-container {/* jupyter's `normalize.less` sets `[hidden] { display: none; }` but bootstrap.min.css set `[hidden] { display: none !important; }` so we also need the `!important` here to be able to override the default hidden behavior on the sphinx rendered scikit-learn.org. See: https://github.com/scikit-learn/scikit-learn/issues/21755 */display: inline-block !important;position: relative;}#sk-container-id-1 div.sk-text-repr-fallback {display: none;}</style><div id=\"sk-container-id-1\" class=\"sk-top-container\"><div class=\"sk-text-repr-fallback\"><pre>KMeans(n_clusters=5, random_state=0)</pre><b>In a Jupyter environment, please rerun this cell to show the HTML representation or trust the notebook. <br />On GitHub, the HTML representation is unable to render, please try loading this page with nbviewer.org.</b></div><div class=\"sk-container\" hidden><div class=\"sk-item\"><div class=\"sk-estimator sk-toggleable\"><input class=\"sk-toggleable__control sk-hidden--visually\" id=\"sk-estimator-id-1\" type=\"checkbox\" checked><label for=\"sk-estimator-id-1\" class=\"sk-toggleable__label sk-toggleable__label-arrow\">KMeans</label><div class=\"sk-toggleable__content\"><pre>KMeans(n_clusters=5, random_state=0)</pre></div></div></div></div></div>"
      ],
      "text/plain": [
       "KMeans(n_clusters=5, random_state=0)"
      ]
     },
     "execution_count": 6,
     "metadata": {},
     "output_type": "execute_result"
    }
   ],
   "source": [
    "model = KMeans(n_clusters=5, random_state = 0)\n",
    "model.fit(x)"
   ]
  },
  {
   "cell_type": "code",
   "execution_count": 7,
   "id": "8461a4ea-29a9-46cc-89eb-964eaba8177c",
   "metadata": {},
   "outputs": [],
   "source": [
    "cls_id = model.labels_"
   ]
  },
  {
   "cell_type": "markdown",
   "id": "358e2f4a-56d3-4870-ac4d-3adc09083343",
   "metadata": {},
   "source": [
    "# Evaluate by Rand Index/Score and Sum Square Error"
   ]
  },
  {
   "cell_type": "code",
   "execution_count": 8,
   "id": "3261a904-a749-4a44-8cff-7b9524d317f5",
   "metadata": {},
   "outputs": [
    {
     "data": {
      "text/plain": [
       "(150,)"
      ]
     },
     "execution_count": 8,
     "metadata": {},
     "output_type": "execute_result"
    }
   ],
   "source": [
    "cls_id.shape"
   ]
  },
  {
   "cell_type": "code",
   "execution_count": 9,
   "id": "61f69637-500c-471b-92db-6e924717ba71",
   "metadata": {},
   "outputs": [
    {
     "data": {
      "text/plain": [
       "array(['Iris-setosa', 'Iris-setosa', 'Iris-setosa', 'Iris-setosa',\n",
       "       'Iris-setosa', 'Iris-setosa', 'Iris-setosa', 'Iris-setosa',\n",
       "       'Iris-setosa', 'Iris-setosa', 'Iris-setosa', 'Iris-setosa',\n",
       "       'Iris-setosa', 'Iris-setosa', 'Iris-setosa', 'Iris-setosa',\n",
       "       'Iris-setosa', 'Iris-setosa', 'Iris-setosa', 'Iris-setosa',\n",
       "       'Iris-setosa', 'Iris-setosa', 'Iris-setosa', 'Iris-setosa',\n",
       "       'Iris-setosa', 'Iris-setosa', 'Iris-setosa', 'Iris-setosa',\n",
       "       'Iris-setosa', 'Iris-setosa', 'Iris-setosa', 'Iris-setosa',\n",
       "       'Iris-setosa', 'Iris-setosa', 'Iris-setosa', 'Iris-setosa',\n",
       "       'Iris-setosa', 'Iris-setosa', 'Iris-setosa', 'Iris-setosa',\n",
       "       'Iris-setosa', 'Iris-setosa', 'Iris-setosa', 'Iris-setosa',\n",
       "       'Iris-setosa', 'Iris-setosa', 'Iris-setosa', 'Iris-setosa',\n",
       "       'Iris-setosa', 'Iris-setosa', 'Iris-versicolor', 'Iris-versicolor',\n",
       "       'Iris-versicolor', 'Iris-versicolor', 'Iris-versicolor',\n",
       "       'Iris-versicolor', 'Iris-versicolor', 'Iris-versicolor',\n",
       "       'Iris-versicolor', 'Iris-versicolor', 'Iris-versicolor',\n",
       "       'Iris-versicolor', 'Iris-versicolor', 'Iris-versicolor',\n",
       "       'Iris-versicolor', 'Iris-versicolor', 'Iris-versicolor',\n",
       "       'Iris-versicolor', 'Iris-versicolor', 'Iris-versicolor',\n",
       "       'Iris-versicolor', 'Iris-versicolor', 'Iris-versicolor',\n",
       "       'Iris-versicolor', 'Iris-versicolor', 'Iris-versicolor',\n",
       "       'Iris-versicolor', 'Iris-versicolor', 'Iris-versicolor',\n",
       "       'Iris-versicolor', 'Iris-versicolor', 'Iris-versicolor',\n",
       "       'Iris-versicolor', 'Iris-versicolor', 'Iris-versicolor',\n",
       "       'Iris-versicolor', 'Iris-versicolor', 'Iris-versicolor',\n",
       "       'Iris-versicolor', 'Iris-versicolor', 'Iris-versicolor',\n",
       "       'Iris-versicolor', 'Iris-versicolor', 'Iris-versicolor',\n",
       "       'Iris-versicolor', 'Iris-versicolor', 'Iris-versicolor',\n",
       "       'Iris-versicolor', 'Iris-versicolor', 'Iris-versicolor',\n",
       "       'Iris-virginica', 'Iris-virginica', 'Iris-virginica',\n",
       "       'Iris-virginica', 'Iris-virginica', 'Iris-virginica',\n",
       "       'Iris-virginica', 'Iris-virginica', 'Iris-virginica',\n",
       "       'Iris-virginica', 'Iris-virginica', 'Iris-virginica',\n",
       "       'Iris-virginica', 'Iris-virginica', 'Iris-virginica',\n",
       "       'Iris-virginica', 'Iris-virginica', 'Iris-virginica',\n",
       "       'Iris-virginica', 'Iris-virginica', 'Iris-virginica',\n",
       "       'Iris-virginica', 'Iris-virginica', 'Iris-virginica',\n",
       "       'Iris-virginica', 'Iris-virginica', 'Iris-virginica',\n",
       "       'Iris-virginica', 'Iris-virginica', 'Iris-virginica',\n",
       "       'Iris-virginica', 'Iris-virginica', 'Iris-virginica',\n",
       "       'Iris-virginica', 'Iris-virginica', 'Iris-virginica',\n",
       "       'Iris-virginica', 'Iris-virginica', 'Iris-virginica',\n",
       "       'Iris-virginica', 'Iris-virginica', 'Iris-virginica',\n",
       "       'Iris-virginica', 'Iris-virginica', 'Iris-virginica',\n",
       "       'Iris-virginica', 'Iris-virginica', 'Iris-virginica',\n",
       "       'Iris-virginica', 'Iris-virginica'], dtype=object)"
      ]
     },
     "execution_count": 9,
     "metadata": {},
     "output_type": "execute_result"
    }
   ],
   "source": [
    "y['Species'].values"
   ]
  },
  {
   "cell_type": "code",
   "execution_count": 10,
   "id": "5474616d-7e05-4d0a-bc0e-77b3dd196dcf",
   "metadata": {},
   "outputs": [
    {
     "data": {
      "text/plain": [
       "array([0, 0, 0, 0, 0, 0, 0, 0, 0, 0, 0, 0, 0, 0, 0, 0, 0, 0, 0, 0, 0, 0,\n",
       "       0, 0, 0, 0, 0, 0, 0, 0, 0, 0, 0, 0, 0, 0, 0, 0, 0, 0, 0, 0, 0, 0,\n",
       "       0, 0, 0, 0, 0, 0, 4, 4, 4, 2, 4, 2, 4, 2, 4, 2, 2, 2, 2, 4, 2, 4,\n",
       "       2, 2, 4, 2, 4, 2, 4, 4, 4, 4, 4, 4, 4, 2, 2, 2, 2, 4, 2, 4, 4, 4,\n",
       "       2, 2, 2, 4, 2, 2, 2, 2, 2, 4, 2, 2, 1, 4, 3, 1, 1, 3, 2, 3, 1, 3,\n",
       "       1, 1, 1, 4, 1, 1, 1, 3, 3, 4, 1, 4, 3, 4, 1, 3, 4, 4, 1, 3, 3, 3,\n",
       "       1, 4, 4, 3, 1, 1, 4, 1, 1, 1, 4, 1, 1, 1, 4, 1, 1, 4])"
      ]
     },
     "execution_count": 10,
     "metadata": {},
     "output_type": "execute_result"
    }
   ],
   "source": [
    "cls_id"
   ]
  },
  {
   "cell_type": "code",
   "execution_count": 28,
   "id": "2360ec92-2e55-4b2f-a4b6-e40faabbeabc",
   "metadata": {},
   "outputs": [
    {
     "data": {
      "text/html": [
       "<div>\n",
       "<style scoped>\n",
       "    .dataframe tbody tr th:only-of-type {\n",
       "        vertical-align: middle;\n",
       "    }\n",
       "\n",
       "    .dataframe tbody tr th {\n",
       "        vertical-align: top;\n",
       "    }\n",
       "\n",
       "    .dataframe thead th {\n",
       "        text-align: right;\n",
       "    }\n",
       "</style>\n",
       "<table border=\"1\" class=\"dataframe\">\n",
       "  <thead>\n",
       "    <tr style=\"text-align: right;\">\n",
       "      <th></th>\n",
       "      <th>Species</th>\n",
       "    </tr>\n",
       "  </thead>\n",
       "  <tbody>\n",
       "    <tr>\n",
       "      <th>0</th>\n",
       "      <td>0</td>\n",
       "    </tr>\n",
       "    <tr>\n",
       "      <th>1</th>\n",
       "      <td>0</td>\n",
       "    </tr>\n",
       "    <tr>\n",
       "      <th>2</th>\n",
       "      <td>0</td>\n",
       "    </tr>\n",
       "    <tr>\n",
       "      <th>3</th>\n",
       "      <td>0</td>\n",
       "    </tr>\n",
       "    <tr>\n",
       "      <th>4</th>\n",
       "      <td>0</td>\n",
       "    </tr>\n",
       "    <tr>\n",
       "      <th>...</th>\n",
       "      <td>...</td>\n",
       "    </tr>\n",
       "    <tr>\n",
       "      <th>145</th>\n",
       "      <td>2</td>\n",
       "    </tr>\n",
       "    <tr>\n",
       "      <th>146</th>\n",
       "      <td>2</td>\n",
       "    </tr>\n",
       "    <tr>\n",
       "      <th>147</th>\n",
       "      <td>2</td>\n",
       "    </tr>\n",
       "    <tr>\n",
       "      <th>148</th>\n",
       "      <td>2</td>\n",
       "    </tr>\n",
       "    <tr>\n",
       "      <th>149</th>\n",
       "      <td>2</td>\n",
       "    </tr>\n",
       "  </tbody>\n",
       "</table>\n",
       "<p>150 rows × 1 columns</p>\n",
       "</div>"
      ],
      "text/plain": [
       "    Species\n",
       "0         0\n",
       "1         0\n",
       "2         0\n",
       "3         0\n",
       "4         0\n",
       "..      ...\n",
       "145       2\n",
       "146       2\n",
       "147       2\n",
       "148       2\n",
       "149       2\n",
       "\n",
       "[150 rows x 1 columns]"
      ]
     },
     "execution_count": 28,
     "metadata": {},
     "output_type": "execute_result"
    }
   ],
   "source": [
    "y_id = y.copy()\n",
    "\n",
    "y_id[y_id['Species'] == \"Iris-setosa\"] = 0\n",
    "y_id[y_id['Species'] == \"Iris-versicolor\"] = 1\n",
    "y_id[y_id['Species'] == \"Iris-virginica\"] = 2\n",
    "y_id"
   ]
  },
  {
   "cell_type": "code",
   "execution_count": 29,
   "id": "fb10e708-955f-425e-9907-e7d42ca9d0c7",
   "metadata": {},
   "outputs": [
    {
     "data": {
      "text/plain": [
       "(150,)"
      ]
     },
     "execution_count": 29,
     "metadata": {},
     "output_type": "execute_result"
    }
   ],
   "source": [
    "## Reshape (150,1) to (150,)\n",
    "y_id = y_id[\"Species\"]\n",
    "y_id.shape"
   ]
  },
  {
   "cell_type": "code",
   "execution_count": 30,
   "id": "5e011cac-13af-4ad7-ae46-63fdd12395b0",
   "metadata": {},
   "outputs": [
    {
     "data": {
      "text/plain": [
       "0.8432214765100671"
      ]
     },
     "execution_count": 30,
     "metadata": {},
     "output_type": "execute_result"
    }
   ],
   "source": [
    "# Rand score\n",
    "ri = rand_score(y_id,cls_id)\n",
    "ri"
   ]
  },
  {
   "cell_type": "code",
   "execution_count": 38,
   "id": "06d91bbc-ab6c-4b0a-809d-b16342b90540",
   "metadata": {},
   "outputs": [
    {
     "data": {
      "text/plain": [
       "[array([0, 0, 0, 0, 0, 0, 0, 0, 0, 0, 0, 0, 0, 0, 0, 0, 0, 0, 0, 0, 0, 0,\n",
       "        0, 0, 0, 0, 0, 0, 0, 0, 0, 0, 0, 0, 0, 0, 0, 0, 0, 0, 0, 0, 0, 0,\n",
       "        0, 0, 0, 0, 0, 0, 1, 1, 1, 1, 1, 1, 1, 1, 1, 1, 1, 1, 1, 1, 1, 1,\n",
       "        1, 1, 1, 1, 1, 1, 1, 1, 1, 1, 1, 1, 1, 1, 1, 1, 1, 1, 1, 1, 1, 1,\n",
       "        1, 1, 1, 1, 1, 1, 1, 1, 1, 1, 1, 1, 2, 2, 2, 2, 2, 2, 2, 2, 2, 2,\n",
       "        2, 2, 2, 2, 2, 2, 2, 2, 2, 2, 2, 2, 2, 2, 2, 2, 2, 2, 2, 2, 2, 2,\n",
       "        2, 2, 2, 2, 2, 2, 2, 2, 2, 2, 2, 2, 2, 2, 2, 2, 2, 2], dtype=object),\n",
       " array([0, 0, 0, 0, 0, 0, 0, 0, 0, 0, 0, 0, 0, 0, 0, 0, 0, 0, 0, 0, 0, 0,\n",
       "        0, 0, 0, 0, 0, 0, 0, 0, 0, 0, 0, 0, 0, 0, 0, 0, 0, 0, 0, 0, 0, 0,\n",
       "        0, 0, 0, 0, 0, 0, 4, 4, 4, 2, 4, 2, 4, 2, 4, 2, 2, 2, 2, 4, 2, 4,\n",
       "        2, 2, 4, 2, 4, 2, 4, 4, 4, 4, 4, 4, 4, 2, 2, 2, 2, 4, 2, 4, 4, 4,\n",
       "        2, 2, 2, 4, 2, 2, 2, 2, 2, 4, 2, 2, 1, 4, 3, 1, 1, 3, 2, 3, 1, 3,\n",
       "        1, 1, 1, 4, 1, 1, 1, 3, 3, 4, 1, 4, 3, 4, 1, 3, 4, 4, 1, 3, 3, 3,\n",
       "        1, 4, 4, 3, 1, 1, 4, 1, 1, 1, 4, 1, 1, 1, 4, 1, 1, 4])]"
      ]
     },
     "execution_count": 38,
     "metadata": {},
     "output_type": "execute_result"
    }
   ],
   "source": [
    "# Entropy\n",
    "etp_data = [np.array(y_id), cls_id]\n",
    "etp_data"
   ]
  },
  {
   "cell_type": "code",
   "execution_count": 59,
   "id": "72443c54-2c4c-434b-963d-f5041738af3c",
   "metadata": {},
   "outputs": [
    {
     "name": "stdout",
     "output_type": "stream",
     "text": [
      "0\n",
      "0\n",
      "0\n",
      "0\n",
      "0\n",
      "0\n",
      "0\n",
      "0\n",
      "0\n",
      "0\n",
      "0\n",
      "0\n",
      "0\n",
      "0\n",
      "0\n",
      "0\n",
      "0\n",
      "0\n",
      "0\n",
      "0\n",
      "0\n",
      "0\n",
      "0\n",
      "0\n",
      "0\n",
      "0\n",
      "0\n",
      "0\n",
      "0\n",
      "0\n",
      "0\n",
      "0\n",
      "0\n",
      "0\n",
      "0\n",
      "0\n",
      "0\n",
      "0\n",
      "0\n",
      "0\n",
      "0\n",
      "0\n",
      "0\n",
      "0\n",
      "0\n",
      "0\n",
      "0\n",
      "0\n",
      "0\n",
      "0\n",
      "0.7219280948873623\n",
      "0.7219280948873623\n",
      "0.7219280948873623\n",
      "0.9182958340544894\n",
      "0.7219280948873623\n",
      "0.9182958340544894\n",
      "0.7219280948873623\n",
      "0.9182958340544894\n",
      "0.7219280948873623\n",
      "0.9182958340544894\n",
      "0.9182958340544894\n",
      "0.9182958340544894\n",
      "0.9182958340544894\n",
      "0.7219280948873623\n",
      "0.9182958340544894\n",
      "0.7219280948873623\n",
      "0.9182958340544894\n",
      "0.9182958340544894\n",
      "0.7219280948873623\n",
      "0.9182958340544894\n",
      "0.7219280948873623\n",
      "0.9182958340544894\n",
      "0.7219280948873623\n",
      "0.7219280948873623\n",
      "0.7219280948873623\n",
      "0.7219280948873623\n",
      "0.7219280948873623\n",
      "0.7219280948873623\n",
      "0.7219280948873623\n",
      "0.9182958340544894\n",
      "0.9182958340544894\n",
      "0.9182958340544894\n",
      "0.9182958340544894\n",
      "0.7219280948873623\n",
      "0.9182958340544894\n",
      "0.7219280948873623\n",
      "0.7219280948873623\n",
      "0.7219280948873623\n",
      "0.9182958340544894\n",
      "0.9182958340544894\n",
      "0.9182958340544894\n",
      "0.7219280948873623\n",
      "0.9182958340544894\n",
      "0.9182958340544894\n",
      "0.9182958340544894\n",
      "0.9182958340544894\n",
      "0.9182958340544894\n",
      "0.7219280948873623\n",
      "0.9182958340544894\n",
      "0.9182958340544894\n",
      "0.9182958340544894\n",
      "0.9182958340544894\n",
      "0.9709505944546688\n",
      "0.9182958340544894\n",
      "0.9182958340544894\n",
      "0.9709505944546688\n",
      "1.0\n",
      "0.9709505944546688\n",
      "0.9182958340544894\n",
      "0.9709505944546688\n",
      "0.9182958340544894\n",
      "0.9182958340544894\n",
      "0.9182958340544894\n",
      "0.9182958340544894\n",
      "0.9182958340544894\n",
      "0.9182958340544894\n",
      "0.9182958340544894\n",
      "0.9709505944546688\n",
      "0.9709505944546688\n",
      "0.9182958340544894\n",
      "0.9182958340544894\n",
      "0.9182958340544894\n",
      "0.9709505944546688\n",
      "0.9182958340544894\n",
      "0.9182958340544894\n",
      "0.9709505944546688\n",
      "0.9182958340544894\n",
      "0.9182958340544894\n",
      "0.9182958340544894\n",
      "0.9709505944546688\n",
      "0.9709505944546688\n",
      "0.9709505944546688\n",
      "0.9182958340544894\n",
      "0.9182958340544894\n",
      "0.9182958340544894\n",
      "0.9709505944546688\n",
      "0.9182958340544894\n",
      "0.9182958340544894\n",
      "0.9182958340544894\n",
      "0.9182958340544894\n",
      "0.9182958340544894\n",
      "0.9182958340544894\n",
      "0.9182958340544894\n",
      "0.9182958340544894\n",
      "0.9182958340544894\n",
      "0.9182958340544894\n",
      "0.9182958340544894\n",
      "0.9182958340544894\n",
      "0.9182958340544894\n",
      "0.9182958340544894\n",
      "0\n",
      "0\n",
      "0\n",
      "0\n",
      "0\n",
      "0\n",
      "0\n",
      "0\n",
      "0\n",
      "0\n",
      "0\n",
      "0\n",
      "0\n",
      "0\n",
      "0\n",
      "0\n",
      "0\n",
      "0\n",
      "0\n",
      "0\n",
      "0\n",
      "0\n",
      "0\n",
      "0\n",
      "0\n",
      "0\n",
      "0\n",
      "0\n",
      "0\n",
      "0\n",
      "0\n",
      "0\n",
      "0\n",
      "0\n",
      "0\n",
      "0\n",
      "0\n",
      "0\n",
      "0\n",
      "0\n",
      "0\n",
      "0\n",
      "0\n",
      "0\n",
      "0\n",
      "0\n",
      "0\n",
      "0\n",
      "0\n",
      "0\n",
      "0.7219280948873623\n",
      "0.7219280948873623\n",
      "0.7219280948873623\n",
      "0.9182958340544894\n",
      "0.7219280948873623\n",
      "0.9182958340544894\n",
      "0.7219280948873623\n",
      "0.9182958340544894\n",
      "0.7219280948873623\n",
      "0.9182958340544894\n",
      "0.9182958340544894\n",
      "0.9182958340544894\n",
      "0.9182958340544894\n",
      "0.7219280948873623\n",
      "0.9182958340544894\n",
      "0.7219280948873623\n",
      "0.9182958340544894\n",
      "0.9182958340544894\n",
      "0.7219280948873623\n",
      "0.9182958340544894\n",
      "0.7219280948873623\n",
      "0.9182958340544894\n",
      "0.7219280948873623\n",
      "0.7219280948873623\n",
      "0.7219280948873623\n",
      "0.7219280948873623\n",
      "0.7219280948873623\n",
      "0.7219280948873623\n",
      "0.7219280948873623\n",
      "0.9182958340544894\n",
      "0.9182958340544894\n",
      "0.9182958340544894\n",
      "0.9182958340544894\n",
      "0.7219280948873623\n",
      "0.9182958340544894\n",
      "0.7219280948873623\n",
      "0.7219280948873623\n",
      "0.7219280948873623\n",
      "0.9182958340544894\n",
      "0.9182958340544894\n",
      "0.9182958340544894\n",
      "0.7219280948873623\n",
      "0.9182958340544894\n",
      "0.9182958340544894\n",
      "0.9182958340544894\n",
      "0.9182958340544894\n",
      "0.9182958340544894\n",
      "0.7219280948873623\n",
      "0.9182958340544894\n",
      "0.9182958340544894\n",
      "0.9182958340544894\n",
      "0.9182958340544894\n",
      "0.9709505944546688\n",
      "0.9182958340544894\n",
      "0.9182958340544894\n",
      "0.9709505944546688\n",
      "1.0\n",
      "0.9709505944546688\n",
      "0.9182958340544894\n",
      "0.9709505944546688\n",
      "0.9182958340544894\n",
      "0.9182958340544894\n",
      "0.9182958340544894\n",
      "0.9182958340544894\n",
      "0.9182958340544894\n",
      "0.9182958340544894\n",
      "0.9182958340544894\n",
      "0.9709505944546688\n",
      "0.9709505944546688\n",
      "0.9182958340544894\n",
      "0.9182958340544894\n",
      "0.9182958340544894\n",
      "0.9709505944546688\n",
      "0.9182958340544894\n",
      "0.9182958340544894\n",
      "0.9709505944546688\n",
      "0.9182958340544894\n",
      "0.9182958340544894\n",
      "0.9182958340544894\n",
      "0.9709505944546688\n",
      "0.9709505944546688\n",
      "0.9709505944546688\n",
      "0.9182958340544894\n",
      "0.9182958340544894\n",
      "0.9182958340544894\n",
      "0.9709505944546688\n",
      "0.9182958340544894\n",
      "0.9182958340544894\n",
      "0.9182958340544894\n",
      "0.9182958340544894\n",
      "0.9182958340544894\n",
      "0.9182958340544894\n",
      "0.9182958340544894\n",
      "0.9182958340544894\n",
      "0.9182958340544894\n",
      "0.9182958340544894\n",
      "0.9182958340544894\n",
      "0.9182958340544894\n",
      "0.9182958340544894\n",
      "0.9182958340544894\n"
     ]
    },
    {
     "name": "stderr",
     "output_type": "stream",
     "text": [
      "C:\\Users\\Window10\\AppData\\Local\\Temp\\ipykernel_14060\\1059096086.py:5: RuntimeWarning: invalid value encountered in long_scalars\n",
      "  a = etp_data[0][j]/sum\n",
      "C:\\Users\\Window10\\AppData\\Local\\Temp\\ipykernel_14060\\1059096086.py:6: RuntimeWarning: invalid value encountered in long_scalars\n",
      "  b = etp_data[1][j]/sum\n"
     ]
    }
   ],
   "source": [
    "# sum of p\n",
    "for i in range(len(etp_data)):\n",
    "    for j in range(len(etp_data[i])):\n",
    "        sum = etp_data[0][j] + etp_data[1][j]\n",
    "        a = etp_data[0][j]/sum\n",
    "        b = etp_data[1][j]/sum\n",
    "        etp = entropy([a,b], base=2)\n",
    "        print(0) if np.isnan(etp) else print(etp)"
   ]
  },
  {
   "cell_type": "code",
   "execution_count": 32,
   "id": "efe418b2-1778-47a1-bcca-713d0463b324",
   "metadata": {},
   "outputs": [
    {
     "data": {
      "text/plain": [
       "46.56163015873017"
      ]
     },
     "execution_count": 32,
     "metadata": {},
     "output_type": "execute_result"
    }
   ],
   "source": [
    "# SSE\n",
    "sse = model.inertia_\n",
    "sse"
   ]
  },
  {
   "cell_type": "code",
   "execution_count": 31,
   "id": "0ee6d2b5-02f7-43c2-9898-1ae3e848a407",
   "metadata": {},
   "outputs": [
    {
     "data": {
      "text/plain": [
       "0.49285559183161204"
      ]
     },
     "execution_count": 31,
     "metadata": {},
     "output_type": "execute_result"
    }
   ],
   "source": [
    "# Silhouette Coefficient\n",
    "sil_coeff = silhouette_score(x, cls_id, metric='euclidean')\n",
    "sil_coeff"
   ]
  },
  {
   "cell_type": "code",
   "execution_count": null,
   "id": "d3ab1647-c1d4-438e-89ab-312bc98c8189",
   "metadata": {},
   "outputs": [],
   "source": []
  }
 ],
 "metadata": {
  "kernelspec": {
   "display_name": "Python 3 (ipykernel)",
   "language": "python",
   "name": "python3"
  },
  "language_info": {
   "codemirror_mode": {
    "name": "ipython",
    "version": 3
   },
   "file_extension": ".py",
   "mimetype": "text/x-python",
   "name": "python",
   "nbconvert_exporter": "python",
   "pygments_lexer": "ipython3",
   "version": "3.10.5"
  }
 },
 "nbformat": 4,
 "nbformat_minor": 5
}
