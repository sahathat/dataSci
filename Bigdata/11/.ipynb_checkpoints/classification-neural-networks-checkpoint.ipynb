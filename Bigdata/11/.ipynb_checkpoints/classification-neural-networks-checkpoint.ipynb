{
 "cells": [
  {
   "cell_type": "code",
   "execution_count": 31,
   "id": "2c3327ed-ecb6-4af2-982b-b6a2e5843698",
   "metadata": {},
   "outputs": [],
   "source": [
    "import numpy as np\n",
    "import pandas as pd\n",
    "from sklearn.preprocessing import StandardScaler\n",
    "from sklearn.model_selection import train_test_split\n",
    "from sklearn.metrics import confusion_matrix, classification_report\n",
    "\n",
    "from sklearn.neural_network import MLPClassifier\n"
   ]
  },
  {
   "cell_type": "code",
   "execution_count": 32,
   "id": "21561bea-9dab-4a96-a497-d82bc9196162",
   "metadata": {},
   "outputs": [],
   "source": [
    "df_org = pd.read_csv('data/Social_Network_AdsYesNo.csv')"
   ]
  },
  {
   "cell_type": "code",
   "execution_count": 33,
   "id": "18bed0f2-348c-4c26-84ba-0a2b04c666b6",
   "metadata": {},
   "outputs": [],
   "source": [
    "#Categorical data - One hot Encoding\n",
    "df=pd.get_dummies(data=df_org, columns=['Gender'])"
   ]
  },
  {
   "cell_type": "code",
   "execution_count": 34,
   "id": "86d8d625-98ef-47c5-90c7-0e73f3c3b1c2",
   "metadata": {},
   "outputs": [],
   "source": [
    "#Prepare data (X) and label (y)\n",
    "X = df.drop(['User ID','Purchased'],axis=1)\n",
    "y = df['Purchased']\n",
    "X = X.to_numpy()\n",
    "y = y.to_numpy()"
   ]
  },
  {
   "cell_type": "code",
   "execution_count": 35,
   "id": "232d52fe-2b6f-41b3-983c-36249977e227",
   "metadata": {},
   "outputs": [],
   "source": [
    "#Separate data : Training and Testing\n",
    "X_train, X_test, y_train, y_test = train_test_split(X, y, test_size = 0.25, random_state = 0)"
   ]
  },
  {
   "cell_type": "code",
   "execution_count": 36,
   "id": "d77f99de-b186-4c3d-a572-e9df85ee1a53",
   "metadata": {},
   "outputs": [],
   "source": [
    "# Data Normalization \n",
    "sc_x = StandardScaler()\n",
    "sc_x = sc_x.fit(X_train)\n",
    "xtrain =  sc_x.transform(X_train) \n"
   ]
  },
  {
   "cell_type": "code",
   "execution_count": 1,
   "id": "9e899fd7-1196-4805-8827-b5b95f3240ad",
   "metadata": {},
   "outputs": [
    {
     "ename": "NameError",
     "evalue": "name 'MLPClassifier' is not defined",
     "output_type": "error",
     "traceback": [
      "\u001b[1;31m---------------------------------------------------------------------------\u001b[0m",
      "\u001b[1;31mNameError\u001b[0m                                 Traceback (most recent call last)",
      "Input \u001b[1;32mIn [1]\u001b[0m, in \u001b[0;36m<cell line: 3>\u001b[1;34m()\u001b[0m\n\u001b[0;32m      1\u001b[0m \u001b[38;5;66;03m#Create model\u001b[39;00m\n\u001b[1;32m----> 3\u001b[0m classifier \u001b[38;5;241m=\u001b[39m \u001b[43mMLPClassifier\u001b[49m(hidden_layer_sizes\u001b[38;5;241m=\u001b[39m(\u001b[38;5;241m4\u001b[39m,\u001b[38;5;241m2\u001b[39m),max_iter\u001b[38;5;241m=\u001b[39m\u001b[38;5;241m10000\u001b[39m)\n\u001b[0;32m      4\u001b[0m classifier\u001b[38;5;241m.\u001b[39mfit(x_train, y_train)\n",
      "\u001b[1;31mNameError\u001b[0m: name 'MLPClassifier' is not defined"
     ]
    }
   ],
   "source": [
    "#Create model\n",
    "\n",
    "classifier = MLPClassifier(hidden_layer_sizes=(4,2),max_iter=10000)\n",
    "classifier.fit(xtrain, y_train)\n"
   ]
  },
  {
   "cell_type": "code",
   "execution_count": 42,
   "id": "5a792fc1-0756-49a5-8bd8-180f70c183c0",
   "metadata": {},
   "outputs": [],
   "source": [
    "#Prediction\n",
    "xtest = sc_x.transform(X_test)\n",
    "y_pred = classifier.predict(xtest)\n"
   ]
  },
  {
   "cell_type": "code",
   "execution_count": 43,
   "id": "b69f8ce0-c815-4a24-859e-7958c2107461",
   "metadata": {},
   "outputs": [
    {
     "data": {
      "text/html": [
       "<div>\n",
       "<style scoped>\n",
       "    .dataframe tbody tr th:only-of-type {\n",
       "        vertical-align: middle;\n",
       "    }\n",
       "\n",
       "    .dataframe tbody tr th {\n",
       "        vertical-align: top;\n",
       "    }\n",
       "\n",
       "    .dataframe thead th {\n",
       "        text-align: right;\n",
       "    }\n",
       "</style>\n",
       "<table border=\"1\" class=\"dataframe\">\n",
       "  <thead>\n",
       "    <tr style=\"text-align: right;\">\n",
       "      <th></th>\n",
       "      <th>actual</th>\n",
       "      <th>predict</th>\n",
       "    </tr>\n",
       "  </thead>\n",
       "  <tbody>\n",
       "    <tr>\n",
       "      <th>0</th>\n",
       "      <td>No</td>\n",
       "      <td>No</td>\n",
       "    </tr>\n",
       "    <tr>\n",
       "      <th>1</th>\n",
       "      <td>No</td>\n",
       "      <td>No</td>\n",
       "    </tr>\n",
       "    <tr>\n",
       "      <th>2</th>\n",
       "      <td>No</td>\n",
       "      <td>No</td>\n",
       "    </tr>\n",
       "    <tr>\n",
       "      <th>3</th>\n",
       "      <td>No</td>\n",
       "      <td>No</td>\n",
       "    </tr>\n",
       "    <tr>\n",
       "      <th>4</th>\n",
       "      <td>No</td>\n",
       "      <td>No</td>\n",
       "    </tr>\n",
       "    <tr>\n",
       "      <th>...</th>\n",
       "      <td>...</td>\n",
       "      <td>...</td>\n",
       "    </tr>\n",
       "    <tr>\n",
       "      <th>95</th>\n",
       "      <td>Yes</td>\n",
       "      <td>No</td>\n",
       "    </tr>\n",
       "    <tr>\n",
       "      <th>96</th>\n",
       "      <td>No</td>\n",
       "      <td>No</td>\n",
       "    </tr>\n",
       "    <tr>\n",
       "      <th>97</th>\n",
       "      <td>Yes</td>\n",
       "      <td>Yes</td>\n",
       "    </tr>\n",
       "    <tr>\n",
       "      <th>98</th>\n",
       "      <td>Yes</td>\n",
       "      <td>Yes</td>\n",
       "    </tr>\n",
       "    <tr>\n",
       "      <th>99</th>\n",
       "      <td>Yes</td>\n",
       "      <td>Yes</td>\n",
       "    </tr>\n",
       "  </tbody>\n",
       "</table>\n",
       "<p>100 rows × 2 columns</p>\n",
       "</div>"
      ],
      "text/plain": [
       "   actual predict\n",
       "0      No      No\n",
       "1      No      No\n",
       "2      No      No\n",
       "3      No      No\n",
       "4      No      No\n",
       "..    ...     ...\n",
       "95    Yes      No\n",
       "96     No      No\n",
       "97    Yes     Yes\n",
       "98    Yes     Yes\n",
       "99    Yes     Yes\n",
       "\n",
       "[100 rows x 2 columns]"
      ]
     },
     "execution_count": 43,
     "metadata": {},
     "output_type": "execute_result"
    }
   ],
   "source": [
    "#Display as table to compare actual vs. predicted \n",
    "tab = pd.DataFrame()\n",
    "tab['actual'] = y_test\n",
    "tab['predict'] = y_pred\n",
    "tab"
   ]
  },
  {
   "cell_type": "code",
   "execution_count": 44,
   "id": "d0175850-dbae-437c-8c41-d590349109dd",
   "metadata": {},
   "outputs": [
    {
     "name": "stdout",
     "output_type": "stream",
     "text": [
      "Confusion Matrix : \n",
      " [[64  4]\n",
      " [ 5 27]]\n",
      "Summary : \n",
      "               precision    recall  f1-score   support\n",
      "\n",
      "          No       0.93      0.94      0.93        68\n",
      "         Yes       0.87      0.84      0.86        32\n",
      "\n",
      "    accuracy                           0.91       100\n",
      "   macro avg       0.90      0.89      0.90       100\n",
      "weighted avg       0.91      0.91      0.91       100\n",
      "\n"
     ]
    }
   ],
   "source": [
    "#Evaluation\n",
    "cm = confusion_matrix(y_test, y_pred)\n",
    "eval_report = classification_report(y_test, y_pred)\n",
    "print (\"Confusion Matrix : \\n\", cm)\n",
    "print (\"Summary : \\n\", eval_report)"
   ]
  },
  {
   "cell_type": "code",
   "execution_count": null,
   "id": "660d8357-29a2-4224-b6df-8f21f8fd8154",
   "metadata": {},
   "outputs": [],
   "source": []
  }
 ],
 "metadata": {
  "kernelspec": {
   "display_name": "Python 3 (ipykernel)",
   "language": "python",
   "name": "python3"
  },
  "language_info": {
   "codemirror_mode": {
    "name": "ipython",
    "version": 3
   },
   "file_extension": ".py",
   "mimetype": "text/x-python",
   "name": "python",
   "nbconvert_exporter": "python",
   "pygments_lexer": "ipython3",
   "version": "3.10.5"
  }
 },
 "nbformat": 4,
 "nbformat_minor": 5
}
