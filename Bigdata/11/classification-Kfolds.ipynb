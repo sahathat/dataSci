{
 "cells": [
  {
   "cell_type": "code",
   "execution_count": 1,
   "id": "2c3327ed-ecb6-4af2-982b-b6a2e5843698",
   "metadata": {},
   "outputs": [],
   "source": [
    "import numpy as np\n",
    "import pandas as pd\n",
    "from sklearn.preprocessing import StandardScaler\n",
    "from sklearn.model_selection import train_test_split\n",
    "from sklearn.model_selection import StratifiedKFold\n",
    "from sklearn.metrics import confusion_matrix, classification_report\n",
    "\n",
    "from sklearn.linear_model import LogisticRegression"
   ]
  },
  {
   "cell_type": "code",
   "execution_count": 2,
   "id": "21561bea-9dab-4a96-a497-d82bc9196162",
   "metadata": {},
   "outputs": [],
   "source": [
    "df_org = pd.read_csv('data/Social_Network_AdsYesNo.csv')"
   ]
  },
  {
   "cell_type": "code",
   "execution_count": 3,
   "id": "18bed0f2-348c-4c26-84ba-0a2b04c666b6",
   "metadata": {},
   "outputs": [],
   "source": [
    "#Categorical data - One hot Encoding\n",
    "df=pd.get_dummies(data=df_org, columns=['Gender'])"
   ]
  },
  {
   "cell_type": "code",
   "execution_count": 4,
   "id": "86d8d625-98ef-47c5-90c7-0e73f3c3b1c2",
   "metadata": {},
   "outputs": [],
   "source": [
    "#Prepare data (X) and label (y)\n",
    "X = df.drop(['User ID','Purchased'],axis=1)\n",
    "y = df['Purchased']\n",
    "X = X.to_numpy()\n",
    "y = y.to_numpy()"
   ]
  },
  {
   "cell_type": "code",
   "execution_count": 5,
   "id": "232d52fe-2b6f-41b3-983c-36249977e227",
   "metadata": {},
   "outputs": [],
   "source": [
    "#Separate data : Training and Testing\n",
    "# X_train, X_test, y_train, y_test = train_test_split(X, y, test_size = 0.25, random_state = 0)"
   ]
  },
  {
   "cell_type": "code",
   "execution_count": 6,
   "id": "1af47c49-fd4b-473b-9b46-2f3ac7a2352c",
   "metadata": {},
   "outputs": [],
   "source": [
    "# K folds  https://scikit-learn.org/stable/modules/generated/sklearn.model_selection.StratifiedKFold.html#sklearn.model_selection.StratifiedKFold\n",
    "skf = StratifiedKFold(n_splits=5) \n"
   ]
  },
  {
   "cell_type": "code",
   "execution_count": 9,
   "id": "d7fd45c7-bbd2-4a5d-894e-0144985bce34",
   "metadata": {},
   "outputs": [
    {
     "name": "stdout",
     "output_type": "stream",
     "text": [
      "Fold 1\n",
      "Confusion Matrix : \n",
      " [[51  1]\n",
      " [23  5]]\n",
      "Summary : \n",
      "               precision    recall  f1-score   support\n",
      "\n",
      "          No       0.69      0.98      0.81        52\n",
      "         Yes       0.83      0.18      0.29        28\n",
      "\n",
      "    accuracy                           0.70        80\n",
      "   macro avg       0.76      0.58      0.55        80\n",
      "weighted avg       0.74      0.70      0.63        80\n",
      "\n",
      "----------------------------------------------------------\n",
      "Fold 2\n",
      "Confusion Matrix : \n",
      " [[51  1]\n",
      " [ 3 25]]\n",
      "Summary : \n",
      "               precision    recall  f1-score   support\n",
      "\n",
      "          No       0.94      0.98      0.96        52\n",
      "         Yes       0.96      0.89      0.93        28\n",
      "\n",
      "    accuracy                           0.95        80\n",
      "   macro avg       0.95      0.94      0.94        80\n",
      "weighted avg       0.95      0.95      0.95        80\n",
      "\n",
      "----------------------------------------------------------\n",
      "Fold 3\n",
      "Confusion Matrix : \n",
      " [[50  1]\n",
      " [ 4 25]]\n",
      "Summary : \n",
      "               precision    recall  f1-score   support\n",
      "\n",
      "          No       0.93      0.98      0.95        51\n",
      "         Yes       0.96      0.86      0.91        29\n",
      "\n",
      "    accuracy                           0.94        80\n",
      "   macro avg       0.94      0.92      0.93        80\n",
      "weighted avg       0.94      0.94      0.94        80\n",
      "\n",
      "----------------------------------------------------------\n",
      "Fold 4\n",
      "Confusion Matrix : \n",
      " [[40 11]\n",
      " [ 4 25]]\n",
      "Summary : \n",
      "               precision    recall  f1-score   support\n",
      "\n",
      "          No       0.91      0.78      0.84        51\n",
      "         Yes       0.69      0.86      0.77        29\n",
      "\n",
      "    accuracy                           0.81        80\n",
      "   macro avg       0.80      0.82      0.81        80\n",
      "weighted avg       0.83      0.81      0.82        80\n",
      "\n",
      "----------------------------------------------------------\n",
      "Fold 5\n",
      "Confusion Matrix : \n",
      " [[40 11]\n",
      " [13 16]]\n",
      "Summary : \n",
      "               precision    recall  f1-score   support\n",
      "\n",
      "          No       0.75      0.78      0.77        51\n",
      "         Yes       0.59      0.55      0.57        29\n",
      "\n",
      "    accuracy                           0.70        80\n",
      "   macro avg       0.67      0.67      0.67        80\n",
      "weighted avg       0.70      0.70      0.70        80\n",
      "\n",
      "----------------------------------------------------------\n"
     ]
    }
   ],
   "source": [
    "i=1\n",
    "for train_index, test_index in skf.split(X,y):\n",
    "    X_train, X_test = X[train_index], X[test_index]\n",
    "    y_train, y_test = y[train_index], y[test_index]\n",
    "    \n",
    "    # Data Normalization \n",
    "    sc_x = StandardScaler()\n",
    "    sc_x = sc_x.fit(X_train)\n",
    "    xtrain =  sc_x.transform(X_train) \n",
    "\n",
    "    #Create model\n",
    "    classifier = LogisticRegression(random_state = 0)\n",
    "    classifier.fit(xtrain, y_train)\n",
    "    \n",
    "    #Prediction\n",
    "    xtest = sc_x.transform(X_test)\n",
    "    y_pred = classifier.predict(xtest)\n",
    "\n",
    "    #Evaluation\n",
    "    print('Fold', i)\n",
    "    cm = confusion_matrix(y_test, y_pred)\n",
    "    eval_report = classification_report(y_test, y_pred)\n",
    "    print (\"Confusion Matrix : \\n\", cm)\n",
    "    print (\"Summary : \\n\", eval_report)\n",
    "    print('----------------------------------------------------------')\n",
    "    i = i+1 "
   ]
  },
  {
   "cell_type": "code",
   "execution_count": 6,
   "id": "d77f99de-b186-4c3d-a572-e9df85ee1a53",
   "metadata": {},
   "outputs": [],
   "source": [
    "# Data Normalization \n",
    "sc_x = StandardScaler()\n",
    "sc_x = sc_x.fit(X_train)\n",
    "xtrain =  sc_x.transform(X_train) \n"
   ]
  },
  {
   "cell_type": "code",
   "execution_count": 7,
   "id": "9e899fd7-1196-4805-8827-b5b95f3240ad",
   "metadata": {},
   "outputs": [
    {
     "data": {
      "text/html": [
       "<style>#sk-container-id-1 {color: black;background-color: white;}#sk-container-id-1 pre{padding: 0;}#sk-container-id-1 div.sk-toggleable {background-color: white;}#sk-container-id-1 label.sk-toggleable__label {cursor: pointer;display: block;width: 100%;margin-bottom: 0;padding: 0.3em;box-sizing: border-box;text-align: center;}#sk-container-id-1 label.sk-toggleable__label-arrow:before {content: \"▸\";float: left;margin-right: 0.25em;color: #696969;}#sk-container-id-1 label.sk-toggleable__label-arrow:hover:before {color: black;}#sk-container-id-1 div.sk-estimator:hover label.sk-toggleable__label-arrow:before {color: black;}#sk-container-id-1 div.sk-toggleable__content {max-height: 0;max-width: 0;overflow: hidden;text-align: left;background-color: #f0f8ff;}#sk-container-id-1 div.sk-toggleable__content pre {margin: 0.2em;color: black;border-radius: 0.25em;background-color: #f0f8ff;}#sk-container-id-1 input.sk-toggleable__control:checked~div.sk-toggleable__content {max-height: 200px;max-width: 100%;overflow: auto;}#sk-container-id-1 input.sk-toggleable__control:checked~label.sk-toggleable__label-arrow:before {content: \"▾\";}#sk-container-id-1 div.sk-estimator input.sk-toggleable__control:checked~label.sk-toggleable__label {background-color: #d4ebff;}#sk-container-id-1 div.sk-label input.sk-toggleable__control:checked~label.sk-toggleable__label {background-color: #d4ebff;}#sk-container-id-1 input.sk-hidden--visually {border: 0;clip: rect(1px 1px 1px 1px);clip: rect(1px, 1px, 1px, 1px);height: 1px;margin: -1px;overflow: hidden;padding: 0;position: absolute;width: 1px;}#sk-container-id-1 div.sk-estimator {font-family: monospace;background-color: #f0f8ff;border: 1px dotted black;border-radius: 0.25em;box-sizing: border-box;margin-bottom: 0.5em;}#sk-container-id-1 div.sk-estimator:hover {background-color: #d4ebff;}#sk-container-id-1 div.sk-parallel-item::after {content: \"\";width: 100%;border-bottom: 1px solid gray;flex-grow: 1;}#sk-container-id-1 div.sk-label:hover label.sk-toggleable__label {background-color: #d4ebff;}#sk-container-id-1 div.sk-serial::before {content: \"\";position: absolute;border-left: 1px solid gray;box-sizing: border-box;top: 0;bottom: 0;left: 50%;z-index: 0;}#sk-container-id-1 div.sk-serial {display: flex;flex-direction: column;align-items: center;background-color: white;padding-right: 0.2em;padding-left: 0.2em;position: relative;}#sk-container-id-1 div.sk-item {position: relative;z-index: 1;}#sk-container-id-1 div.sk-parallel {display: flex;align-items: stretch;justify-content: center;background-color: white;position: relative;}#sk-container-id-1 div.sk-item::before, #sk-container-id-1 div.sk-parallel-item::before {content: \"\";position: absolute;border-left: 1px solid gray;box-sizing: border-box;top: 0;bottom: 0;left: 50%;z-index: -1;}#sk-container-id-1 div.sk-parallel-item {display: flex;flex-direction: column;z-index: 1;position: relative;background-color: white;}#sk-container-id-1 div.sk-parallel-item:first-child::after {align-self: flex-end;width: 50%;}#sk-container-id-1 div.sk-parallel-item:last-child::after {align-self: flex-start;width: 50%;}#sk-container-id-1 div.sk-parallel-item:only-child::after {width: 0;}#sk-container-id-1 div.sk-dashed-wrapped {border: 1px dashed gray;margin: 0 0.4em 0.5em 0.4em;box-sizing: border-box;padding-bottom: 0.4em;background-color: white;}#sk-container-id-1 div.sk-label label {font-family: monospace;font-weight: bold;display: inline-block;line-height: 1.2em;}#sk-container-id-1 div.sk-label-container {text-align: center;}#sk-container-id-1 div.sk-container {/* jupyter's `normalize.less` sets `[hidden] { display: none; }` but bootstrap.min.css set `[hidden] { display: none !important; }` so we also need the `!important` here to be able to override the default hidden behavior on the sphinx rendered scikit-learn.org. See: https://github.com/scikit-learn/scikit-learn/issues/21755 */display: inline-block !important;position: relative;}#sk-container-id-1 div.sk-text-repr-fallback {display: none;}</style><div id=\"sk-container-id-1\" class=\"sk-top-container\"><div class=\"sk-text-repr-fallback\"><pre>LogisticRegression(random_state=0)</pre><b>In a Jupyter environment, please rerun this cell to show the HTML representation or trust the notebook. <br />On GitHub, the HTML representation is unable to render, please try loading this page with nbviewer.org.</b></div><div class=\"sk-container\" hidden><div class=\"sk-item\"><div class=\"sk-estimator sk-toggleable\"><input class=\"sk-toggleable__control sk-hidden--visually\" id=\"sk-estimator-id-1\" type=\"checkbox\" checked><label for=\"sk-estimator-id-1\" class=\"sk-toggleable__label sk-toggleable__label-arrow\">LogisticRegression</label><div class=\"sk-toggleable__content\"><pre>LogisticRegression(random_state=0)</pre></div></div></div></div></div>"
      ],
      "text/plain": [
       "LogisticRegression(random_state=0)"
      ]
     },
     "execution_count": 7,
     "metadata": {},
     "output_type": "execute_result"
    }
   ],
   "source": [
    "#Create model\n",
    "\n",
    "classifier = LogisticRegression(random_state = 0)\n",
    "classifier.fit(xtrain, y_train)\n"
   ]
  },
  {
   "cell_type": "code",
   "execution_count": 8,
   "id": "d494c9cc-b52e-442a-a6bf-8eb51fbf74f7",
   "metadata": {},
   "outputs": [
    {
     "name": "stdout",
     "output_type": "stream",
     "text": [
      "[[ 2.09617526  1.11788402 -0.04789188  0.04789188]]\n",
      "[-0.96134888]\n",
      "['No' 'Yes']\n"
     ]
    }
   ],
   "source": [
    "#Display some parameters\n",
    "print(classifier.coef_)\n",
    "print(classifier.intercept_)\n",
    "print(classifier.classes_)\n"
   ]
  },
  {
   "cell_type": "code",
   "execution_count": 20,
   "id": "5a792fc1-0756-49a5-8bd8-180f70c183c0",
   "metadata": {},
   "outputs": [],
   "source": [
    "#Prediction\n",
    "xtest = sc_x.transform(X_test)\n",
    "y_pred = classifier.predict(xtest)\n"
   ]
  },
  {
   "cell_type": "code",
   "execution_count": 22,
   "id": "b69f8ce0-c815-4a24-859e-7958c2107461",
   "metadata": {},
   "outputs": [],
   "source": [
    "#Display as table to compare actual vs. predicted \n",
    "tab = pd.DataFrame()\n",
    "tab['actual'] = y_test\n",
    "tab['predict'] = y_pred"
   ]
  },
  {
   "cell_type": "code",
   "execution_count": 32,
   "id": "d0175850-dbae-437c-8c41-d590349109dd",
   "metadata": {},
   "outputs": [
    {
     "name": "stdout",
     "output_type": "stream",
     "text": [
      "Confusion Matrix : \n",
      " [[65  3]\n",
      " [ 6 26]]\n",
      "Summary : \n",
      "               precision    recall  f1-score   support\n",
      "\n",
      "          No       0.92      0.96      0.94        68\n",
      "         Yes       0.90      0.81      0.85        32\n",
      "\n",
      "    accuracy                           0.91       100\n",
      "   macro avg       0.91      0.88      0.89       100\n",
      "weighted avg       0.91      0.91      0.91       100\n",
      "\n"
     ]
    }
   ],
   "source": [
    "#Evaluation\n",
    "cm = confusion_matrix(y_test, y_pred)\n",
    "eval_report = classification_report(y_test, y_pred)\n",
    "print (\"Confusion Matrix : \\n\", cm)\n",
    "print (\"Summary : \\n\", eval_report)"
   ]
  },
  {
   "cell_type": "code",
   "execution_count": null,
   "id": "660d8357-29a2-4224-b6df-8f21f8fd8154",
   "metadata": {},
   "outputs": [],
   "source": []
  }
 ],
 "metadata": {
  "kernelspec": {
   "display_name": "Python 3 (ipykernel)",
   "language": "python",
   "name": "python3"
  },
  "language_info": {
   "codemirror_mode": {
    "name": "ipython",
    "version": 3
   },
   "file_extension": ".py",
   "mimetype": "text/x-python",
   "name": "python",
   "nbconvert_exporter": "python",
   "pygments_lexer": "ipython3",
   "version": "3.10.5"
  }
 },
 "nbformat": 4,
 "nbformat_minor": 5
}
