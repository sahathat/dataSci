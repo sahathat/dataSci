{
 "cells": [
  {
   "cell_type": "markdown",
   "id": "2918c152-293b-4741-b807-db6ef1a4b34a",
   "metadata": {},
   "source": [
    "# Hierarchical custering"
   ]
  },
  {
   "cell_type": "code",
   "execution_count": 19,
   "id": "551094b1-f29a-46c5-be9e-1f9a9125b13c",
   "metadata": {},
   "outputs": [
    {
     "data": {
      "text/html": [
       "<div>\n",
       "<style scoped>\n",
       "    .dataframe tbody tr th:only-of-type {\n",
       "        vertical-align: middle;\n",
       "    }\n",
       "\n",
       "    .dataframe tbody tr th {\n",
       "        vertical-align: top;\n",
       "    }\n",
       "\n",
       "    .dataframe thead th {\n",
       "        text-align: right;\n",
       "    }\n",
       "</style>\n",
       "<table border=\"1\" class=\"dataframe\">\n",
       "  <thead>\n",
       "    <tr style=\"text-align: right;\">\n",
       "      <th></th>\n",
       "      <th>Apples</th>\n",
       "      <th>Oranges</th>\n",
       "    </tr>\n",
       "  </thead>\n",
       "  <tbody>\n",
       "    <tr>\n",
       "      <th>0</th>\n",
       "      <td>4</td>\n",
       "      <td>15</td>\n",
       "    </tr>\n",
       "    <tr>\n",
       "      <th>1</th>\n",
       "      <td>5</td>\n",
       "      <td>14</td>\n",
       "    </tr>\n",
       "    <tr>\n",
       "      <th>2</th>\n",
       "      <td>10</td>\n",
       "      <td>19</td>\n",
       "    </tr>\n",
       "    <tr>\n",
       "      <th>3</th>\n",
       "      <td>4</td>\n",
       "      <td>12</td>\n",
       "    </tr>\n",
       "    <tr>\n",
       "      <th>4</th>\n",
       "      <td>3</td>\n",
       "      <td>11</td>\n",
       "    </tr>\n",
       "    <tr>\n",
       "      <th>5</th>\n",
       "      <td>11</td>\n",
       "      <td>20</td>\n",
       "    </tr>\n",
       "    <tr>\n",
       "      <th>6</th>\n",
       "      <td>14</td>\n",
       "      <td>15</td>\n",
       "    </tr>\n",
       "    <tr>\n",
       "      <th>7</th>\n",
       "      <td>6</td>\n",
       "      <td>17</td>\n",
       "    </tr>\n",
       "    <tr>\n",
       "      <th>8</th>\n",
       "      <td>10</td>\n",
       "      <td>16</td>\n",
       "    </tr>\n",
       "    <tr>\n",
       "      <th>9</th>\n",
       "      <td>12</td>\n",
       "      <td>16</td>\n",
       "    </tr>\n",
       "  </tbody>\n",
       "</table>\n",
       "</div>"
      ],
      "text/plain": [
       "   Apples  Oranges\n",
       "0       4       15\n",
       "1       5       14\n",
       "2      10       19\n",
       "3       4       12\n",
       "4       3       11\n",
       "5      11       20\n",
       "6      14       15\n",
       "7       6       17\n",
       "8      10       16\n",
       "9      12       16"
      ]
     },
     "execution_count": 19,
     "metadata": {},
     "output_type": "execute_result"
    }
   ],
   "source": [
    "import numpy as np\n",
    "import matplotlib.pyplot as plt\n",
    "from scipy.cluster.hierarchy import dendrogram, linkage, fcluster\n",
    "from scipy.spatial import distance_matrix\n",
    "import pandas as pd\n",
    "\n",
    "x = [4, 5, 10, 4, 3, 11, 14, 6, 10, 12]\n",
    "y = [15, 14, 19, 12, 11, 20, 15, 17, 16, 16]\n",
    "store = ['A','B','C','D','E','F','G','H','I','J']\n",
    "\n",
    "df = pd.DataFrame()\n",
    "df['Store'] = store\n",
    "df['Apples'] = x\n",
    "df['Oranges'] = y\n",
    "data = df[['Apples','Oranges']]\n",
    "data"
   ]
  },
  {
   "cell_type": "markdown",
   "id": "a53e7a5b-f8a2-4cca-87e6-49ee406b4f4f",
   "metadata": {},
   "source": [
    "## Single type distance"
   ]
  },
  {
   "cell_type": "code",
   "execution_count": 20,
   "id": "7a587440-68ab-444b-a10f-712b731b9aaf",
   "metadata": {},
   "outputs": [
    {
     "data": {
      "image/png": "[encoded data removed]",
      "text/plain": [
       "<Figure size 432x288 with 1 Axes>"
      ]
     },
     "metadata": {
      "needs_background": "light"
     },
     "output_type": "display_data"
    }
   ],
   "source": [
    "linkage_data = linkage(data, method = 'single', metric = 'euclidean')\n",
    "dendrogram(linkage_data, labels =  df['Store'].to_list())\n",
    "\n",
    "plt.title(\"method='single'\")\n",
    "plt.show()"
   ]
  },
  {
   "cell_type": "markdown",
   "id": "49964200-f420-4df8-8605-e682e4964903",
   "metadata": {},
   "source": [
    "## Complete type distance"
   ]
  },
  {
   "cell_type": "code",
   "execution_count": 6,
   "id": "664d8216-4117-4e16-8848-b84f518c3b75",
   "metadata": {},
   "outputs": [
    {
     "data": {
      "image/png": "[encoded data removed]",
      "text/plain": [
       "<Figure size 432x288 with 1 Axes>"
      ]
     },
     "metadata": {
      "needs_background": "light"
     },
     "output_type": "display_data"
    }
   ],
   "source": [
    "linkage_data = linkage(data, method = 'complete', metric = 'euclidean')\n",
    "dendrogram(linkage_data, labels =  df['Store'].to_list())\n",
    "\n",
    "plt.title(\"method='complete'\")\n",
    "plt.show()"
   ]
  },
  {
   "cell_type": "markdown",
   "id": "10890ff4-e5ce-4285-8d05-b37ab1f31549",
   "metadata": {},
   "source": [
    "## Average linkage type distance"
   ]
  },
  {
   "cell_type": "code",
   "execution_count": 11,
   "id": "85fc1e6c-0b2a-427d-92f7-3c96c4753642",
   "metadata": {},
   "outputs": [
    {
     "data": {
      "image/png": "[encoded data removed]",
      "text/plain": [
       "<Figure size 432x288 with 1 Axes>"
      ]
     },
     "metadata": {
      "needs_background": "light"
     },
     "output_type": "display_data"
    }
   ],
   "source": [
    "linkage_data = linkage(data, method = 'average', metric = 'euclidean')\n",
    "dendrogram(linkage_data, labels =  df['Store'].to_list())\n",
    "\n",
    "plt.title(\"method='average'\")\n",
    "plt.show()"
   ]
  },
  {
   "cell_type": "markdown",
   "id": "dbbceaf0-0932-4c1b-9a3d-d8c47c3cd5d9",
   "metadata": {},
   "source": [
    "## F Clustering"
   ]
  },
  {
   "cell_type": "code",
   "execution_count": 16,
   "id": "5cacf067-a2b7-4250-ba5f-638bcce2b1b5",
   "metadata": {},
   "outputs": [
    {
     "data": {
      "image/png": "[encoded data removed]",
      "text/plain": [
       "<Figure size 432x288 with 1 Axes>"
      ]
     },
     "metadata": {
      "needs_background": "light"
     },
     "output_type": "display_data"
    }
   ],
   "source": [
    "cluster_id = fcluster(linkage_data, t=2.5, criterion='distance')\n",
    "plt.scatter(df['Apples'],df['Oranges'], c=cluster_id)\n",
    "plt.show()"
   ]
  },
  {
   "cell_type": "markdown",
   "id": "d2eb09e2-6b1a-4357-a02e-515edea3ba2d",
   "metadata": {},
   "source": [
    "# K mean"
   ]
  },
  {
   "cell_type": "code",
   "execution_count": 39,
   "id": "14f412cf-4f92-4f9b-b041-3415b305fe45",
   "metadata": {},
   "outputs": [
    {
     "name": "stdout",
     "output_type": "stream",
     "text": [
      "KMeans(max_iter=50, n_clusters=3, random_state=1)\n",
      "[[11.4        17.2       ]\n",
      " [ 3.5        11.5       ]\n",
      " [ 5.         15.33333333]]\n"
     ]
    }
   ],
   "source": [
    "from sklearn import cluster\n",
    "\n",
    "k_mean_model = cluster.KMeans(n_clusters=3, max_iter=50, random_state=1)\n",
    "k_mean_model.fit(data)\n",
    "\n",
    "print(k_mean_model)\n",
    "\n",
    "df['cluster_id'] = k_mean_model.labels_\n",
    "\n",
    "centroids = k_mean_model.cluster_centers_\n",
    "print(centroids)"
   ]
  },
  {
   "cell_type": "code",
   "execution_count": 40,
   "id": "c35f82e5-0048-45d1-a556-58a1b18d9153",
   "metadata": {},
   "outputs": [
    {
     "data": {
      "image/png": "[encoded data removed]",
      "text/plain": [
       "<Figure size 432x288 with 1 Axes>"
      ]
     },
     "metadata": {
      "needs_background": "light"
     },
     "output_type": "display_data"
    }
   ],
   "source": [
    "plt.scatter(df['Apples'],df['Oranges'], c=df['cluster_id'])\n",
    "plt.scatter(centroids[:,0],centroids[:,1],marker='X', c='r')\n",
    "plt.show()"
   ]
  }
 ],
 "metadata": {
  "kernelspec": {
   "display_name": "Python 3 (ipykernel)",
   "language": "python",
   "name": "python3"
  },
  "language_info": {
   "codemirror_mode": {
    "name": "ipython",
    "version": 3
   },
   "file_extension": ".py",
   "mimetype": "text/x-python",
   "name": "python",
   "nbconvert_exporter": "python",
   "pygments_lexer": "ipython3",
   "version": "3.10.5"
  }
 },
 "nbformat": 4,
 "nbformat_minor": 5
}
