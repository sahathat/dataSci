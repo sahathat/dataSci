{
 "cells": [
  {
   "cell_type": "markdown",
   "id": "a523f520-eaea-454f-b2aa-b5b8255cf517",
   "metadata": {},
   "source": [
    "# INT420-491 : Intro Python Programming\n",
    "45-minutes study\n"
   ]
  },
  {
   "cell_type": "markdown",
   "id": "a7adf162-1b37-4f1e-8a70-32daf9bf9f85",
   "metadata": {},
   "source": [
    "## Variable & Indexing \n",
    "\n",
    "Variables do not need to be declared (ไม่ต้องมีการประกาศตัวแปร)\n"
   ]
  },
  {
   "cell_type": "code",
   "execution_count": 13,
   "id": "94e345e1-e584-4a6f-8ed8-7d04ead1b434",
   "metadata": {
    "tags": []
   },
   "outputs": [
    {
     "name": "stdout",
     "output_type": "stream",
     "text": [
      "5.0\n",
      "tu\n",
      "sun\n",
      "stu\n"
     ]
    }
   ],
   "source": [
    "x = 5.\n",
    "print(x)\n",
    "type(x)\n",
    "\n",
    "str = \"student\"\n",
    "print(str[-1]+str[2])\n",
    "\n",
    "# todo: print \"sun\" by use str variable\n",
    "print(str[0]+str[2]+str[-2])\n",
    "\n",
    "# todo: print \"stu\" from str\n",
    "print(str[0:3])"
   ]
  },
  {
   "cell_type": "markdown",
   "id": "9aeca29f-3625-4162-a696-06904ae5f84d",
   "metadata": {},
   "source": [
    "## List\n",
    "- List values are placed in between  [ ] \n",
    "- Each element separated by , \n"
   ]
  },
  {
   "cell_type": "code",
   "execution_count": 14,
   "id": "9d88e62e-cc8d-4fcc-8d2f-391e35431f9e",
   "metadata": {
    "tags": []
   },
   "outputs": [
    {
     "name": "stdout",
     "output_type": "stream",
     "text": [
      "greenred\n",
      "green red\n"
     ]
    }
   ],
   "source": [
    "color =[\"red\", \"green\",\"blue\"]\n",
    "print(color[1]+color[0])\n",
    "\n",
    "print(color[1],color[0]) ## , = + ' ' +\n"
   ]
  },
  {
   "cell_type": "code",
   "execution_count": 31,
   "id": "a7a3e170-28c5-44a8-95fb-8a1e67699242",
   "metadata": {
    "tags": []
   },
   "outputs": [
    {
     "name": "stdout",
     "output_type": "stream",
     "text": [
      "['apple', 'orange', 'banana', 'mango']\n",
      "['apple', 'storeberry', 'orange', 'banana', 'mango']\n"
     ]
    },
    {
     "name": "stdin",
     "output_type": "stream",
     "text": [
      "Enter text in array >>  a\n"
     ]
    },
    {
     "name": "stdout",
     "output_type": "stream",
     "text": [
      "a is not a fruit.\n",
      "['a', 'apple', 'storeberry', 'orange', 'banana', 'mango']\n"
     ]
    }
   ],
   "source": [
    "fruit = [\"apple\",\"orange\",\"banana\"]\n",
    "\n",
    "fruit.append(\"mango\")\n",
    "\n",
    "print(fruit)\n",
    "\n",
    "fruit.insert(1,\"storeberry\")\n",
    "\n",
    "print(fruit)\n",
    "\n",
    "# todo: input check that if fruit that not in array that insert them on first index of fruits array\n",
    "\n",
    "a = input(\"Enter text in array >> \")\n",
    "if a in fruit:\n",
    "    print(a + \" is a fruit.\")\n",
    "else:\n",
    "    print(a + \" is not a fruit.\")\n",
    "    fruit.insert(0,a)\n",
    "\n",
    "print(fruit)"
   ]
  },
  {
   "cell_type": "code",
   "execution_count": 24,
   "id": "5e2a1f99-a212-4767-8e5b-e754987968c2",
   "metadata": {},
   "outputs": [
    {
     "name": "stdout",
     "output_type": "stream",
     "text": [
      "[1, 2, 3, 10, 20, 30]\n"
     ]
    }
   ],
   "source": [
    "num1 = [1,2,3]\n",
    "num2 = [10,20,30]\n",
    "\n",
    "print(num1+num2)"
   ]
  },
  {
   "cell_type": "markdown",
   "id": "ff8c621f-651d-460d-b223-250d312d6e04",
   "metadata": {
    "tags": []
   },
   "source": [
    "## Tuples\n",
    "- Tuple values are placed in between ( )\n",
    "- Each element separated by , \n",
    "- Tuples are unchangeable.\n"
   ]
  },
  {
   "cell_type": "code",
   "execution_count": 29,
   "id": "259915fb-03d7-4024-811f-d1f0cd70b66b",
   "metadata": {
    "tags": []
   },
   "outputs": [
    {
     "name": "stdout",
     "output_type": "stream",
     "text": [
      "<class 'tuple'>\n",
      "<class 'list'>\n",
      "('red', 'green', 'blue')\n",
      "['red', 'black', 'blue']\n"
     ]
    }
   ],
   "source": [
    "#tuples\n",
    "color1 = (\"red\",\"green\",\"blue\") # tuple เปลี่ยนค่าไม่ได้\n",
    "print(type(color1))\n",
    "print(color1)\n",
    "\n",
    "#list\n",
    "color2 = [\"red\",\"green\",\"blue\"] # list เปลี่ยนค่าได้ \n",
    "print(type(color2))\n",
    "color2[1] = \"black\"\n",
    "print(color2)"
   ]
  },
  {
   "cell_type": "markdown",
   "id": "ec0f3b34-8bb3-410e-9364-0fa39c712d05",
   "metadata": {},
   "source": [
    "## Set\n",
    "\n",
    "- Set values are placed in between { }\n",
    "- Each element separated by , \n",
    "\n",
    "- non-dupplicated members\n",
    "\n",
    "- index is unable \n"
   ]
  },
  {
   "cell_type": "code",
   "execution_count": 36,
   "id": "2114947c-fee9-48c8-a9f6-3fa639bd4f91",
   "metadata": {
    "tags": []
   },
   "outputs": [
    {
     "name": "stdout",
     "output_type": "stream",
     "text": [
      "4\n",
      "5\n",
      "5\n",
      "7\n",
      "7\n",
      "4\n",
      "5\n",
      "5\n",
      "{'c', 'd', 'a', 'b'}\n",
      "c\n",
      "c\n"
     ]
    }
   ],
   "source": [
    "#set\n",
    "num1 = {1,5,7,7,10}\n",
    "\n",
    "#list\n",
    "num2 = [1,5,7,7,10]\n",
    "\n",
    "#tuple\n",
    "num3 = (1,5,7,7,10)\n",
    "\n",
    "print(len(num1))\n",
    "print(len(num2))\n",
    "print(len(num3))\n",
    "\n",
    "#print(num1[2]) # set ไม่สามารถหา index ได้\n",
    "print(num2[-2])\n",
    "print(num3[2])\n",
    "\n",
    "# todo: prove set vs list vs tuple of alphabet letter\n",
    "#set\n",
    "num1 = {'a','b','c','c','d'}\n",
    "\n",
    "#list\n",
    "num2 = ['a','b','c','c','d']\n",
    "\n",
    "#tuple\n",
    "num3 = ('a','b','c','c','d')\n",
    "\n",
    "print(len(num1))\n",
    "print(len(num2))\n",
    "print(len(num3))\n",
    "\n",
    "print(num1)\n",
    "print(num2[2])\n",
    "print(num3[2])"
   ]
  },
  {
   "cell_type": "markdown",
   "id": "1e9ff3ce-e11f-415d-9de4-3b2a6265e508",
   "metadata": {
    "tags": []
   },
   "source": [
    "## Dictionary\n",
    "\n",
    "- Syntax:  {\"key1\": val1, \"key2\": val2 } \n",
    "\n",
    "- Values in a Python dictionary can be accessed by placing the key within square brackets next to the dictionary.\n"
   ]
  },
  {
   "cell_type": "code",
   "execution_count": 38,
   "id": "b21ca196-2efc-4583-a270-f79982f5c0f7",
   "metadata": {},
   "outputs": [
    {
     "name": "stdout",
     "output_type": "stream",
     "text": [
      "How You Like That\n",
      "{'song': \"Don't Know What To Do\", 'artist': 'BLACKPINK'}\n"
     ]
    }
   ],
   "source": [
    "my_dictionary = {\"song\": \"How You Like That\", \"artist\": \"BLACKPINK\"}\n",
    "print(my_dictionary[\"song\"])\n",
    "my_dictionary[\"song\"] = \"Don't Know What To Do\"\n",
    "print(my_dictionary)"
   ]
  },
  {
   "cell_type": "code",
   "execution_count": 39,
   "id": "5c0a7914-2d71-4c79-be2f-9759c7d8ef67",
   "metadata": {
    "tags": []
   },
   "outputs": [
    {
     "name": "stdout",
     "output_type": "stream",
     "text": [
      "nan\n",
      "18\n"
     ]
    }
   ],
   "source": [
    "person = {\"name\":[\"nat\", \"non\", \"nan\", \"noi\", \"niw\"], \n",
    "          \"age\":[15,23,18,19,18]}\n",
    "print(person[\"name\"][2])\n",
    "print(person[\"age\"][2])\n"
   ]
  },
  {
   "cell_type": "markdown",
   "id": "ff50af61-52b7-43a8-9a87-a9dbdf674db8",
   "metadata": {},
   "source": [
    "## For, If-else, While"
   ]
  },
  {
   "cell_type": "code",
   "execution_count": 40,
   "id": "90739035-ef0c-4d63-aef6-22ff5ad0ce97",
   "metadata": {
    "tags": []
   },
   "outputs": [
    {
     "name": "stdout",
     "output_type": "stream",
     "text": [
      "2\n",
      "2\n",
      "6\n",
      "6\n",
      "8\n"
     ]
    }
   ],
   "source": [
    "number = [1,2,5,6,8]\n",
    "for x in number:\n",
    "    if x%2 == 0:\n",
    "        print(x)\n",
    "    else:\n",
    "        print(x+1)"
   ]
  },
  {
   "cell_type": "code",
   "execution_count": 45,
   "id": "d25b4747-20cb-4519-8a1d-05dd101e6e06",
   "metadata": {},
   "outputs": [
    {
     "name": "stdout",
     "output_type": "stream",
     "text": [
      "ans: 1\n",
      "ans: 2\n",
      "ans: 3\n",
      "ans: 4\n",
      "2 * 1 = 2\n",
      "2 * 2 = 4\n",
      "2 * 3 = 6\n",
      "2 * 4 = 8\n",
      "2 * 5 = 10\n",
      "2 * 6 = 12\n",
      "2 * 7 = 14\n",
      "2 * 8 = 16\n",
      "2 * 9 = 18\n",
      "2 * 10 = 20\n",
      "2 * 11 = 22\n",
      "2 * 12 = 24\n"
     ]
    }
   ],
   "source": [
    "i = 1 \n",
    "while i<5 :\n",
    "    print(\"ans:\",i)\n",
    "    i+=1\n",
    "    \n",
    "# todo: make multiply table by 2 from 1-12\n",
    "j=0\n",
    "while j<12 :\n",
    "    print(\"2 *\",j+1,\"=\",2*(j+1))\n",
    "    j+=1"
   ]
  },
  {
   "cell_type": "markdown",
   "id": "a41ba240-cbd3-4428-a678-dc58ce751b61",
   "metadata": {},
   "source": [
    "## range() function \n",
    "The range() function returns a sequence of numbers, starting from 0 by default, and increments by 1 (by default), and ends at a specified number.\n"
   ]
  },
  {
   "cell_type": "code",
   "execution_count": 46,
   "id": "680441e2-0484-4adf-8e84-a7cab21f0d26",
   "metadata": {
    "tags": []
   },
   "outputs": [
    {
     "name": "stdout",
     "output_type": "stream",
     "text": [
      "0 A\n",
      "1 B\n",
      "2 O\n",
      "3 AB\n"
     ]
    }
   ],
   "source": [
    "x = [\"A\",\"B\",\"O\",\"AB\"]\n",
    "for i in range(4) :  \n",
    "    print(i,x[i])"
   ]
  },
  {
   "cell_type": "code",
   "execution_count": 47,
   "id": "094ac957-7cf9-4080-98ee-5abafb3c5cc6",
   "metadata": {
    "tags": []
   },
   "outputs": [
    {
     "name": "stdout",
     "output_type": "stream",
     "text": [
      "3\n",
      "4\n"
     ]
    }
   ],
   "source": [
    "for i in range(3,5) :  \n",
    "    print(i)\n",
    "    i = i+1"
   ]
  },
  {
   "cell_type": "code",
   "execution_count": 49,
   "id": "b3828620-1fde-437a-9280-e3da89f1568b",
   "metadata": {
    "tags": []
   },
   "outputs": [
    {
     "name": "stdout",
     "output_type": "stream",
     "text": [
      "2\n",
      "5\n",
      "8\n",
      "2 * 1 = 2\n",
      "2 * 2 = 4\n",
      "2 * 3 = 6\n",
      "2 * 4 = 8\n",
      "2 * 5 = 10\n",
      "2 * 6 = 12\n",
      "2 * 7 = 14\n",
      "2 * 8 = 16\n",
      "2 * 9 = 18\n",
      "2 * 10 = 20\n",
      "2 * 11 = 22\n",
      "2 * 12 = 24\n"
     ]
    }
   ],
   "source": [
    "for i in range(2,10,3) :  \n",
    "    print(i)\n",
    "    i = i+1\n",
    "\n",
    "# todo: make multiply table by 2 from 1-12 using by range()\n",
    "for j in range(0,12,1) :\n",
    "    print(\"2 *\",j+1,\"=\",2*(j+1))"
   ]
  },
  {
   "cell_type": "markdown",
   "id": "ba025f92-a597-4b1b-94ba-6bf72ec8636f",
   "metadata": {},
   "source": [
    "## User-Defined Functions"
   ]
  },
  {
   "cell_type": "code",
   "execution_count": 59,
   "id": "13c55cdd-5e24-4ac0-b78a-9f555cfffd66",
   "metadata": {},
   "outputs": [
    {
     "name": "stdout",
     "output_type": "stream",
     "text": [
      "This is a function.\n",
      "default parameter is  0\n",
      "n is 5\n",
      "8\n",
      "2 * 1 = 2\n",
      "2 * 2 = 4\n",
      "2 * 3 = 6\n",
      "2 * 4 = 8\n",
      "2 * 5 = 10\n",
      "2 * 6 = 12\n",
      "2 * 7 = 14\n",
      "2 * 8 = 16\n",
      "2 * 9 = 18\n",
      "2 * 10 = 20\n",
      "2 * 11 = 22\n",
      "2 * 12 = 24\n",
      "100\n"
     ]
    }
   ],
   "source": [
    "#%%writefile my_py_function.py\n",
    "def myfunc():\n",
    "    print(\"This is a function.\")\n",
    "\n",
    "def myfunc2(n=0):\n",
    "    if n==0 :\n",
    "        print(\"default parameter is \", n)\n",
    "    else:\n",
    "        print(\"n is\", n)\n",
    "        \n",
    "def mul(x,y):\n",
    "    m = x*y\n",
    "    return m\n",
    "\n",
    "myfunc()\n",
    "myfunc2()\n",
    "myfunc2(5)\n",
    "a = mul(2,4)\n",
    "print(a)\n",
    "\n",
    "# todo: make function that make multiply by number that param from 1-12 using by range()\n",
    "b = 2\n",
    "def multiply(b):\n",
    "    for j in range(0,12,1) :\n",
    "        print(b,\"*\",j+1,\"=\",b*(j+1))\n",
    "\n",
    "multiply(2)\n",
    "        \n",
    "# todo: make function that sum loop of arimethric sequence and show return result by have 3 paramter is first number, number of series and step to increment\n",
    "first = 1\n",
    "num = 10\n",
    "step = 2\n",
    "def sum(first,num,step):\n",
    "    sum = 0\n",
    "    for i in range(0,num):\n",
    "        sum += first\n",
    "        first += step\n",
    "    return sum\n",
    "\n",
    "print(sum(first,num,step))"
   ]
  },
  {
   "cell_type": "code",
   "execution_count": null,
   "id": "af1cd803-9a60-4d83-acf5-af81a276fa96",
   "metadata": {},
   "outputs": [],
   "source": [
    "myfunc()\n",
    "myfunc2()\n",
    "myfunc2(5)\n",
    "a = mul(2,4)\n",
    "print(a)"
   ]
  },
  {
   "cell_type": "markdown",
   "id": "89e79364-9f07-40f8-9017-06c888120134",
   "metadata": {},
   "source": [
    "## Load User-defined Functions from file\n",
    "\n",
    "We need to load functions from my_py_function.py"
   ]
  },
  {
   "cell_type": "code",
   "execution_count": null,
   "id": "ed58bc45-53e0-4e0c-a514-d9d3419b5ab6",
   "metadata": {
    "tags": []
   },
   "outputs": [],
   "source": [
    "import my_py_function as mf\n"
   ]
  },
  {
   "cell_type": "code",
   "execution_count": null,
   "id": "99202c11-bcfc-4567-8de0-dd8865df3a70",
   "metadata": {},
   "outputs": [],
   "source": [
    "mf.myfunc()\n",
    "mf.myfunc2()\n",
    "mf.myfunc2(5)\n",
    "a = mf.mul(2,4)\n",
    "print(a)"
   ]
  },
  {
   "cell_type": "code",
   "execution_count": 50,
   "id": "45458d8e-b04e-493d-9e41-7f44e31a0fcd",
   "metadata": {},
   "outputs": [
    {
     "ename": "ModuleNotFoundError",
     "evalue": "No module named 'my_py_function'",
     "output_type": "error",
     "traceback": [
      "\u001b[1;31m---------------------------------------------------------------------------\u001b[0m",
      "\u001b[1;31mModuleNotFoundError\u001b[0m                       Traceback (most recent call last)",
      "Input \u001b[1;32mIn [50]\u001b[0m, in \u001b[0;36m<cell line: 1>\u001b[1;34m()\u001b[0m\n\u001b[1;32m----> 1\u001b[0m \u001b[38;5;28;01mfrom\u001b[39;00m \u001b[38;5;21;01mmy_py_function\u001b[39;00m \u001b[38;5;28;01mimport\u001b[39;00m mul\n\u001b[0;32m      2\u001b[0m mul(\u001b[38;5;241m5\u001b[39m,\u001b[38;5;241m8\u001b[39m)\n",
      "\u001b[1;31mModuleNotFoundError\u001b[0m: No module named 'my_py_function'"
     ]
    }
   ],
   "source": [
    "from my_py_function import mul\n",
    "mul(5,8)"
   ]
  },
  {
   "cell_type": "markdown",
   "id": "ef903829-642f-45da-a7df-ee9bd835869b",
   "metadata": {},
   "source": [
    "## Classes"
   ]
  },
  {
   "cell_type": "code",
   "execution_count": null,
   "id": "c77335ba-29d7-40c6-82bf-5c1938154536",
   "metadata": {
    "tags": []
   },
   "outputs": [],
   "source": [
    "#Create a Class\n",
    "class myNN:\n",
    "    x = 7\n",
    "    y = 9\n",
    "\n",
    "    def mul(self,a,b):\n",
    "        return a*b\n",
    "        "
   ]
  },
  {
   "cell_type": "code",
   "execution_count": null,
   "id": "d1c526d2-a0f6-4dfe-844c-afb3532b2c4b",
   "metadata": {},
   "outputs": [],
   "source": [
    "#Create Object\n",
    "a = myNN()\n",
    "\n",
    "print(\"x=\",a.x,\" y=\",a.y)\n",
    "\n",
    "a.x = 10\n",
    "a.y = 15\n",
    "print(\"x=\",a.x,\" y=\",a.y)\n",
    "\n",
    "a.mul(3,4)\n"
   ]
  },
  {
   "cell_type": "markdown",
   "id": "d587a23d-0d0f-45c9-8230-66063fdb49c9",
   "metadata": {},
   "source": [
    "### \\_\\_init\\_\\_( ) Function\n",
    "\n",
    "Always executed when the class is being initiated"
   ]
  },
  {
   "cell_type": "code",
   "execution_count": 60,
   "id": "6c326426-a6a4-4081-8479-5dc3b3cdaa90",
   "metadata": {},
   "outputs": [],
   "source": [
    "#Create a Class\n",
    "class myNN:\n",
    "    def __init__(self, x, y):\n",
    "        self.x = x\n",
    "        self.y = y\n",
    "        \n",
    "    def weight(self):\n",
    "        w = self.x\n",
    "        for i in range(len(w)):\n",
    "            w[i] = w[i]*w[i]\n",
    "        return w\n",
    "        "
   ]
  },
  {
   "cell_type": "code",
   "execution_count": 61,
   "id": "16ebd8be-546b-4e73-b107-f26c2960655e",
   "metadata": {},
   "outputs": [],
   "source": [
    "p = myNN([2,3],[1, 0])"
   ]
  },
  {
   "cell_type": "code",
   "execution_count": 62,
   "id": "0a563a9b-7dc6-406e-bbd4-af56456c116a",
   "metadata": {},
   "outputs": [
    {
     "data": {
      "text/plain": [
       "[4, 9]"
      ]
     },
     "execution_count": 62,
     "metadata": {},
     "output_type": "execute_result"
    }
   ],
   "source": [
    "p.weight()"
   ]
  },
  {
   "cell_type": "code",
   "execution_count": 63,
   "id": "572f6ba4-c1f8-4e99-a398-4d693b1a928d",
   "metadata": {},
   "outputs": [
    {
     "data": {
      "text/plain": [
       "[0.6, 0.8, 0.2, 0.0, 1.0]"
      ]
     },
     "execution_count": 63,
     "metadata": {},
     "output_type": "execute_result"
    }
   ],
   "source": [
    "class niwanAna:\n",
    "    \n",
    "    def getX(self,x):\n",
    "        self.x = x\n",
    "\n",
    "    def scaleX(self):\n",
    "        minX = min(self.x)\n",
    "        maxX = max(self.x)\n",
    "        \n",
    "        a = self.x\n",
    "        for i in range(len(a)):\n",
    "            a[i] = (a[i]-minX)/(maxX-minX) \n",
    "        \n",
    "        return a\n",
    "        \n",
    "p = niwanAna()\n",
    "p.getX([4,5,2,1,6])\n",
    "\n",
    "p.scaleX()\n",
    "\n",
    "# todo: create class that get person by person id, name and age\n"
   ]
  },
  {
   "cell_type": "markdown",
   "id": "45decf6a-6c99-4a3c-9524-a215bb578652",
   "metadata": {},
   "source": [
    "## NumPy\n",
    "\n",
    "NumPy is the fundamental package for scientific computing in Python\n"
   ]
  },
  {
   "cell_type": "code",
   "execution_count": 65,
   "id": "a5b550cb-b80d-4d59-96df-8e65c6124f66",
   "metadata": {
    "tags": []
   },
   "outputs": [],
   "source": [
    "import numpy as np"
   ]
  },
  {
   "cell_type": "code",
   "execution_count": 68,
   "id": "aa5bef39-f236-4ac1-94fb-7e40db62c43b",
   "metadata": {},
   "outputs": [
    {
     "name": "stdout",
     "output_type": "stream",
     "text": [
      "4\n",
      "[ 4 -6 -1  4  3]\n",
      "(5,)\n"
     ]
    }
   ],
   "source": [
    "#print(dir(np))\n",
    "\n",
    "#List\n",
    "a = [9,1,7,5,6]\n",
    "b = [5,7,8,1,3]\n",
    "\n",
    "#1D-array\n",
    "x = np.array([9,1,7,5,6])\n",
    "y = np.array([5,7,8,1,3])\n",
    "\n",
    "print(a[0]-b[0]) # List cannot be processed as the vector\n",
    "print(x-y) # numpy array can be processed as the vector \n",
    "print(x.shape) # size of array"
   ]
  },
  {
   "cell_type": "code",
   "execution_count": 75,
   "id": "b269223a-8174-4738-bc1b-48816a03a737",
   "metadata": {},
   "outputs": [
    {
     "name": "stdout",
     "output_type": "stream",
     "text": [
      "[2 4 5 6 8]\n",
      "9\n",
      "[2 4 5 6 8]\n",
      "[2 7 4 1 9]\n",
      "[8 9]\n",
      "(2, 5)\n"
     ]
    }
   ],
   "source": [
    "#2D-array\n",
    "data = np.array([[2,4,5,6,8],[2,7,4,1,9]])\n",
    "print(data[0])\n",
    "print(data[1,4])\n",
    "print(data[0,:])\n",
    "print(data[1,:])\n",
    "print(data[:,4])\n",
    "print(data.shape)"
   ]
  },
  {
   "cell_type": "code",
   "execution_count": 84,
   "id": "74bc7678-8b30-4600-b7cf-1d209e63667e",
   "metadata": {},
   "outputs": [
    {
     "name": "stdout",
     "output_type": "stream",
     "text": [
      "4\n",
      "[[2 7 4 1 9]\n",
      " [2 7 4 1 9]]\n",
      "[9 9]\n",
      "(2, 2, 5)\n"
     ]
    }
   ],
   "source": [
    "#3D-array\n",
    "data3 = np.array([\n",
    "    [\n",
    "        [2,4,5,6,8],[2,7,4,1,9]\n",
    "    ], [\n",
    "        [2,4,5,6,8],[2,7,4,1,9]\n",
    "    ]\n",
    "])\n",
    "print(data3[0,1,2])\n",
    "print(data3[:,1,:])\n",
    "print(data3[:,1,4])\n",
    "print(data3.shape)"
   ]
  },
  {
   "cell_type": "code",
   "execution_count": 89,
   "id": "adde8c01-53b2-4dc1-a40c-5ad71800eb2d",
   "metadata": {},
   "outputs": [
    {
     "name": "stdout",
     "output_type": "stream",
     "text": [
      "[[0. 0. 0.]\n",
      " [0. 0. 0.]\n",
      " [0. 0. 0.]]\n",
      "[[1. 1. 1.]\n",
      " [1. 1. 1.]\n",
      " [1. 1. 1.]]\n",
      "[[1. 0. 0.]\n",
      " [0. 1. 0.]\n",
      " [0. 0. 1.]]\n",
      "[[ 3.  0.  1.]\n",
      " [ 3.  0. -2.]\n",
      " [ 5. -4.  1.]]\n"
     ]
    }
   ],
   "source": [
    "x1 = np.zeros([3,3])\n",
    "y1 = np.ones([3,3])\n",
    "I = np.eye(3)\n",
    "A = np.array([[2,0,1],[3,-1,-2],[5,-4,0]])\n",
    "print(x1)\n",
    "print(y1)\n",
    "print(I)\n",
    "print(I+A)"
   ]
  },
  {
   "cell_type": "code",
   "execution_count": 160,
   "id": "a2a50404-e2ea-42fb-8ad0-32d0c1fa08bc",
   "metadata": {},
   "outputs": [
    {
     "name": "stdout",
     "output_type": "stream",
     "text": [
      "[[2 4]\n",
      " [5 6]]\n",
      "[[2]\n",
      " [4]\n",
      " [5]\n",
      " [6]]\n"
     ]
    }
   ],
   "source": [
    "x = [2,4,5,6]\n",
    "x1 = np.reshape(x,[2,2])\n",
    "print(x1) # turn array 1-D to 2-D by 2*2\n",
    "x2 = np.reshape(x,(4,1))\n",
    "print(x2) # turn array 1-D to 2-D by 4*1"
   ]
  },
  {
   "cell_type": "code",
   "execution_count": 102,
   "id": "cb05d4f4-c01f-4c07-bc1f-13cca58c6bb5",
   "metadata": {},
   "outputs": [
    {
     "data": {
      "text/plain": [
       "array([0.        , 0.69314718, 1.        , 2.30258509])"
      ]
     },
     "execution_count": 102,
     "metadata": {},
     "output_type": "execute_result"
    }
   ],
   "source": [
    "x = [1,2,np.e,10]\n",
    "np.log(x)"
   ]
  },
  {
   "cell_type": "code",
   "execution_count": 161,
   "id": "72788d03-51cd-4dbc-8d6f-ce9a2a36c8a1",
   "metadata": {},
   "outputs": [
    {
     "name": "stdout",
     "output_type": "stream",
     "text": [
      "[[ 9 16 21]\n",
      " [24 25 24]\n",
      " [21 16  9]]\n",
      "[[1 2]\n",
      " [3 4]\n",
      " [5 6]]\n"
     ]
    },
    {
     "data": {
      "image/png": "[encoded data removed]",
      "text/plain": [
       "<Figure size 432x288 with 1 Axes>"
      ]
     },
     "metadata": {
      "needs_background": "light"
     },
     "output_type": "display_data"
    }
   ],
   "source": [
    "import numpy as np\n",
    "import matplotlib.pyplot as plt\n",
    "\n",
    "x = np.linspace(0,5,100)\n",
    "y = np.sin(x)\n",
    "\n",
    "plt.plot(x,y)\n",
    "\n",
    "# todo: use numpy for calculate multiply value of matrix 3*3\n",
    "A = np.array([[1,2,3],[4,5,6],[7,8,9]])\n",
    "B = np.array([[9,8,7],[6,5,4],[3,2,1]])\n",
    "print(A*B)\n",
    "\n",
    "# todo: use numpy for turn array 1-D to 2-D\n",
    "C = np.array([1,2,3,4,5,6])\n",
    "D = np.reshape(C,[3,2])\n",
    "\n",
    "print(D)"
   ]
  },
  {
   "cell_type": "markdown",
   "id": "f9e78f2e-3fde-4f5d-b3d4-ce85325806ac",
   "metadata": {},
   "source": [
    "## Pandas\n",
    "\n",
    "Powerful data structures for data analysis, time series, and statistics\n",
    "\n",
    "https://pandas.pydata.org/ \n",
    "\n"
   ]
  },
  {
   "cell_type": "code",
   "execution_count": 104,
   "id": "b1d9e0c4-9e1a-4270-8dee-27ee4fe53ad4",
   "metadata": {},
   "outputs": [],
   "source": [
    "import pandas as pd"
   ]
  },
  {
   "cell_type": "markdown",
   "id": "0fa132e5-fd20-408b-814e-cf171798146c",
   "metadata": {
    "tags": []
   },
   "source": [
    "### Series "
   ]
  },
  {
   "cell_type": "markdown",
   "id": "bcee11ba-48fe-472f-890c-4d697af719e3",
   "metadata": {},
   "source": [
    "#### Declaring"
   ]
  },
  {
   "cell_type": "code",
   "execution_count": 107,
   "id": "1f5b3b23-b444-4375-822a-5a39fd4813c4",
   "metadata": {},
   "outputs": [
    {
     "name": "stdout",
     "output_type": "stream",
     "text": [
      "0    12\n",
      "1    -4\n",
      "2     7\n",
      "3     9\n",
      "dtype: int64\n"
     ]
    }
   ],
   "source": [
    "s = pd.Series([12,-4,7,9])"
   ]
  },
  {
   "cell_type": "code",
   "execution_count": 109,
   "id": "f3970ceb-21f9-44d7-8209-6912d888f254",
   "metadata": {},
   "outputs": [
    {
     "name": "stdout",
     "output_type": "stream",
     "text": [
      "0    12\n",
      "1    -4\n",
      "2     7\n",
      "3     9\n",
      "dtype: int64\n",
      "[12 -4  7  9]\n",
      "RangeIndex(start=0, stop=4, step=1)\n"
     ]
    }
   ],
   "source": [
    "# Check in Consol\n",
    "print(s)\n",
    "print(s.values)\n",
    "print(s.index)"
   ]
  },
  {
   "cell_type": "markdown",
   "id": "f9ba8b0e-5d41-43f0-9cb1-6f09c957bdce",
   "metadata": {},
   "source": [
    "#### Selecting the Internal Elements"
   ]
  },
  {
   "cell_type": "code",
   "execution_count": 111,
   "id": "b2df2ffb-84cf-4fb9-8824-1bc23af84119",
   "metadata": {},
   "outputs": [
    {
     "name": "stdout",
     "output_type": "stream",
     "text": [
      "12\n"
     ]
    }
   ],
   "source": [
    "s = pd.Series([12,-4,7,9], index=['a','b','c','d'])"
   ]
  },
  {
   "cell_type": "code",
   "execution_count": 112,
   "id": "7ada855b-95b0-44cf-b7b3-3e1deaa2539e",
   "metadata": {},
   "outputs": [
    {
     "data": {
      "text/plain": [
       "7"
      ]
     },
     "execution_count": 112,
     "metadata": {},
     "output_type": "execute_result"
    }
   ],
   "source": [
    "s[2]"
   ]
  },
  {
   "cell_type": "code",
   "execution_count": 113,
   "id": "b67a5b68-5990-4a02-896c-ab6cf81da648",
   "metadata": {},
   "outputs": [
    {
     "data": {
      "text/plain": [
       "-4"
      ]
     },
     "execution_count": 113,
     "metadata": {},
     "output_type": "execute_result"
    }
   ],
   "source": [
    "s['b']"
   ]
  },
  {
   "cell_type": "code",
   "execution_count": 114,
   "id": "5b1feb8e-b241-4c5b-9510-7059330bb416",
   "metadata": {},
   "outputs": [
    {
     "data": {
      "text/plain": [
       "a    12\n",
       "b    -4\n",
       "c     7\n",
       "dtype: int64"
      ]
     },
     "execution_count": 114,
     "metadata": {},
     "output_type": "execute_result"
    }
   ],
   "source": [
    "s[:3]"
   ]
  },
  {
   "cell_type": "code",
   "execution_count": 115,
   "id": "83fd38a5-b218-44ea-b88b-f3aa29584c5a",
   "metadata": {},
   "outputs": [
    {
     "data": {
      "text/plain": [
       "d    9\n",
       "dtype: int64"
      ]
     },
     "execution_count": 115,
     "metadata": {},
     "output_type": "execute_result"
    }
   ],
   "source": [
    "s[3:]"
   ]
  },
  {
   "cell_type": "code",
   "execution_count": 116,
   "id": "2fcabde3-0786-47ff-a05e-f705a689027f",
   "metadata": {},
   "outputs": [
    {
     "data": {
      "text/plain": [
       "b   -4\n",
       "d    9\n",
       "dtype: int64"
      ]
     },
     "execution_count": 116,
     "metadata": {},
     "output_type": "execute_result"
    }
   ],
   "source": [
    "s[['b','d']]"
   ]
  },
  {
   "cell_type": "markdown",
   "id": "3b6f96ac-c553-4d6b-94db-d0b661360413",
   "metadata": {},
   "source": [
    "#### Assigning Values to the Elements"
   ]
  },
  {
   "cell_type": "code",
   "execution_count": 118,
   "id": "28fbf81f-0606-4cb4-9847-7d724c2ddc1c",
   "metadata": {},
   "outputs": [
    {
     "name": "stdout",
     "output_type": "stream",
     "text": [
      "a    12\n",
      "b    -4\n",
      "c     0\n",
      "d     9\n",
      "dtype: int64\n"
     ]
    }
   ],
   "source": [
    "s[2]=0\n",
    "print(s)"
   ]
  },
  {
   "cell_type": "code",
   "execution_count": 120,
   "id": "6f1cc510-66e0-43ae-a86b-288492f93602",
   "metadata": {},
   "outputs": [
    {
     "name": "stdout",
     "output_type": "stream",
     "text": [
      "a    12\n",
      "b    -4\n",
      "c     8\n",
      "d     9\n",
      "dtype: int64\n"
     ]
    }
   ],
   "source": [
    "s['c'] = 8\n",
    "print(s)"
   ]
  },
  {
   "cell_type": "code",
   "execution_count": 121,
   "id": "db2cbf3d-08be-40f2-be53-a7bc392eebc8",
   "metadata": {},
   "outputs": [
    {
     "name": "stdout",
     "output_type": "stream",
     "text": [
      "a    12\n",
      "b    14\n",
      "c     8\n",
      "d     9\n",
      "dtype: int64\n"
     ]
    }
   ],
   "source": [
    "s[['a','b']] = [12,14]\n",
    "print(s)"
   ]
  },
  {
   "cell_type": "markdown",
   "id": "347cce0f-9247-4aef-b0d9-2d6907093fd2",
   "metadata": {},
   "source": [
    "#### Filtering Values"
   ]
  },
  {
   "cell_type": "code",
   "execution_count": 122,
   "id": "d30df699-5782-43cd-a044-cd9e33608a71",
   "metadata": {},
   "outputs": [
    {
     "data": {
      "text/plain": [
       "c    8\n",
       "d    9\n",
       "dtype: int64"
      ]
     },
     "execution_count": 122,
     "metadata": {},
     "output_type": "execute_result"
    }
   ],
   "source": [
    "s[s<10]"
   ]
  },
  {
   "cell_type": "code",
   "execution_count": 123,
   "id": "af6b36e3-a53d-4b4f-9ce0-9b4f2de1c179",
   "metadata": {},
   "outputs": [
    {
     "data": {
      "text/plain": [
       "a    12\n",
       "d     9\n",
       "dtype: int64"
      ]
     },
     "execution_count": 123,
     "metadata": {},
     "output_type": "execute_result"
    }
   ],
   "source": [
    "s[(s>8) & (s<14)]"
   ]
  },
  {
   "cell_type": "markdown",
   "id": "7960c41a-2fda-43b6-b17c-2dfedf85a69f",
   "metadata": {},
   "source": [
    "#### Operations and Mathematical Functions"
   ]
  },
  {
   "cell_type": "code",
   "execution_count": 124,
   "id": "b4ada642-1701-40e5-90a5-f914092b63b6",
   "metadata": {},
   "outputs": [],
   "source": [
    "import numpy as np"
   ]
  },
  {
   "cell_type": "code",
   "execution_count": 125,
   "id": "22469116-1dea-4868-bfb2-6bc3fec63d47",
   "metadata": {},
   "outputs": [
    {
     "data": {
      "text/plain": [
       "a    4.000000\n",
       "b    4.666667\n",
       "c    2.666667\n",
       "d    3.000000\n",
       "dtype: float64"
      ]
     },
     "execution_count": 125,
     "metadata": {},
     "output_type": "execute_result"
    }
   ],
   "source": [
    "s/3"
   ]
  },
  {
   "cell_type": "code",
   "execution_count": 126,
   "id": "c16caa77-f2e7-488e-b5a5-57e5bb3b5b4e",
   "metadata": {},
   "outputs": [
    {
     "data": {
      "text/plain": [
       "a    3.464102\n",
       "b    3.741657\n",
       "c    2.828427\n",
       "d    3.000000\n",
       "dtype: float64"
      ]
     },
     "execution_count": 126,
     "metadata": {},
     "output_type": "execute_result"
    }
   ],
   "source": [
    "np.sqrt(s)"
   ]
  },
  {
   "cell_type": "code",
   "execution_count": null,
   "id": "4219b599-a185-430f-86fb-407ee7232853",
   "metadata": {},
   "outputs": [],
   "source": [
    "np.log(s)"
   ]
  },
  {
   "cell_type": "markdown",
   "id": "4b000513-3550-4f77-952f-bc5dd4d53c62",
   "metadata": {},
   "source": [
    "#### Useful Methods "
   ]
  },
  {
   "cell_type": "code",
   "execution_count": 137,
   "id": "227969d4-8981-42c5-82b1-b3b355d2df5f",
   "metadata": {},
   "outputs": [
    {
     "name": "stdout",
     "output_type": "stream",
     "text": [
      "white     1\n",
      "white     0\n",
      "blue      2\n",
      "green     1\n",
      "green     2\n",
      "yellow    3\n",
      "dtype: int64\n"
     ]
    }
   ],
   "source": [
    "s = pd.Series([1,0,2,1,2,3], index=['white','white','blue','green','green','yellow'])\n",
    "print(s)"
   ]
  },
  {
   "cell_type": "code",
   "execution_count": 141,
   "id": "56c31180-8275-437f-ae99-b68c7c5dfc8b",
   "metadata": {},
   "outputs": [
    {
     "name": "stdout",
     "output_type": "stream",
     "text": [
      "green     1\n",
      "white     0\n",
      "blue      2\n",
      "yellow    3\n",
      "dtype: int64\n"
     ]
    }
   ],
   "source": [
    "# todo: show table of s that unique\n",
    "s = pd.Series(s.unique(), index=['green','white','blue','yellow'])\n",
    "print(s)"
   ]
  },
  {
   "cell_type": "code",
   "execution_count": 138,
   "id": "884b7404-b106-4a89-a061-48152ac27030",
   "metadata": {},
   "outputs": [
    {
     "data": {
      "text/plain": [
       "1    2\n",
       "2    2\n",
       "0    1\n",
       "3    1\n",
       "dtype: int64"
      ]
     },
     "execution_count": 138,
     "metadata": {},
     "output_type": "execute_result"
    }
   ],
   "source": [
    "s.value_counts()"
   ]
  },
  {
   "cell_type": "code",
   "execution_count": 139,
   "id": "0b0fff54-4cc3-40d9-8aa1-e2ed274061d1",
   "metadata": {},
   "outputs": [
    {
     "data": {
      "text/plain": [
       "white     False\n",
       "white     False\n",
       "blue       True\n",
       "green     False\n",
       "green      True\n",
       "yellow     True\n",
       "dtype: bool"
      ]
     },
     "execution_count": 139,
     "metadata": {},
     "output_type": "execute_result"
    }
   ],
   "source": [
    "s.isin([2,3])"
   ]
  },
  {
   "cell_type": "code",
   "execution_count": 142,
   "id": "bf3cce58-14b3-4237-8a4c-4a9fd86d79a9",
   "metadata": {},
   "outputs": [
    {
     "data": {
      "text/plain": [
       "blue      2\n",
       "yellow    3\n",
       "dtype: int64"
      ]
     },
     "execution_count": 142,
     "metadata": {},
     "output_type": "execute_result"
    }
   ],
   "source": [
    "s[s.isin([2,3])]"
   ]
  },
  {
   "cell_type": "code",
   "execution_count": 145,
   "id": "d93e9f71-7332-4d9d-a715-f0570462f293",
   "metadata": {},
   "outputs": [
    {
     "name": "stdout",
     "output_type": "stream",
     "text": [
      "green     1.0\n",
      "white     NaN\n",
      "blue      2.0\n",
      "yellow    3.0\n",
      "dtype: float64\n"
     ]
    }
   ],
   "source": [
    "#Nan Value\n",
    "s['white'] =  np.NaN\n",
    "print(s)"
   ]
  },
  {
   "cell_type": "code",
   "execution_count": 144,
   "id": "2797fd35-368d-49cc-9cc4-7826fcdbee16",
   "metadata": {},
   "outputs": [
    {
     "data": {
      "text/plain": [
       "green     False\n",
       "white      True\n",
       "blue      False\n",
       "yellow    False\n",
       "dtype: bool"
      ]
     },
     "execution_count": 144,
     "metadata": {},
     "output_type": "execute_result"
    }
   ],
   "source": [
    "s.isna()"
   ]
  },
  {
   "cell_type": "code",
   "execution_count": 146,
   "id": "1226eda8-54a3-4fd0-890e-f0a48e791bea",
   "metadata": {},
   "outputs": [
    {
     "data": {
      "text/plain": [
       "green     False\n",
       "white      True\n",
       "blue      False\n",
       "yellow    False\n",
       "dtype: bool"
      ]
     },
     "execution_count": 146,
     "metadata": {},
     "output_type": "execute_result"
    }
   ],
   "source": [
    "s.isnull()"
   ]
  },
  {
   "cell_type": "code",
   "execution_count": 147,
   "id": "5e317645-e3b3-490c-975a-4ea36c3d64c8",
   "metadata": {},
   "outputs": [
    {
     "data": {
      "text/plain": [
       "green      True\n",
       "white     False\n",
       "blue       True\n",
       "yellow     True\n",
       "dtype: bool"
      ]
     },
     "execution_count": 147,
     "metadata": {},
     "output_type": "execute_result"
    }
   ],
   "source": [
    "s.notnull()"
   ]
  },
  {
   "cell_type": "code",
   "execution_count": 148,
   "id": "68a40ee8-a232-40fc-b621-c551307c8792",
   "metadata": {},
   "outputs": [
    {
     "data": {
      "text/plain": [
       "green     1.0\n",
       "blue      2.0\n",
       "yellow    3.0\n",
       "dtype: float64"
      ]
     },
     "execution_count": 148,
     "metadata": {},
     "output_type": "execute_result"
    }
   ],
   "source": [
    "s[s.notnull()]"
   ]
  },
  {
   "cell_type": "code",
   "execution_count": 149,
   "id": "7917c206-cd9f-45ef-b232-a05eab8f267f",
   "metadata": {},
   "outputs": [
    {
     "data": {
      "text/plain": [
       "2.0"
      ]
     },
     "execution_count": 149,
     "metadata": {},
     "output_type": "execute_result"
    }
   ],
   "source": [
    "s.mean()"
   ]
  },
  {
   "cell_type": "code",
   "execution_count": 169,
   "id": "d5f64576-1a22-4630-b52f-16587e3ceeb1",
   "metadata": {},
   "outputs": [
    {
     "data": {
      "text/plain": [
       "20.2"
      ]
     },
     "execution_count": 169,
     "metadata": {},
     "output_type": "execute_result"
    }
   ],
   "source": [
    "# todo: use pandas for calculate mean of data of student\n",
    "student = pd.Series([19,20,21,23,18], index=['63130500001','63130500002','63130500003','63130500004','63130500005'])\n",
    "pd.DataFrame.mean(student)"
   ]
  },
  {
   "cell_type": "markdown",
   "id": "213ca371-3f09-4805-ab74-4a30d2be57a8",
   "metadata": {},
   "source": [
    "### DataFrame"
   ]
  },
  {
   "cell_type": "markdown",
   "id": "ad711637-f6c4-4fe5-bd95-e3740ddc6a24",
   "metadata": {},
   "source": [
    "#### Defining a Dataframe"
   ]
  },
  {
   "cell_type": "code",
   "execution_count": 167,
   "id": "7e1c6e5b-1ca6-476d-8b8c-83b9ccfee05b",
   "metadata": {},
   "outputs": [
    {
     "data": {
      "text/plain": [
       "{'color': ['blue', 'green', 'yellow', 'red', 'white'],\n",
       " 'object': ['ball', 'pen', 'pencil', 'paper', 'mug'],\n",
       " 'price': [1.2, 1.0, 0.6, 0.9, 1.7]}"
      ]
     },
     "execution_count": 167,
     "metadata": {},
     "output_type": "execute_result"
    }
   ],
   "source": [
    "#dict object\n",
    "data = {'color' : ['blue','green','yellow','red','white'],\n",
    " 'object' : ['ball','pen','pencil','paper','mug'],\n",
    " 'price' : [1.2,1.0,0.6,0.9,1.7]}\n",
    "data"
   ]
  },
  {
   "cell_type": "code",
   "execution_count": 168,
   "id": "0e73ac4a-f00e-40a8-b5f4-f6af15da90c1",
   "metadata": {},
   "outputs": [
    {
     "data": {
      "text/html": [
       "<div>\n",
       "<style scoped>\n",
       "    .dataframe tbody tr th:only-of-type {\n",
       "        vertical-align: middle;\n",
       "    }\n",
       "\n",
       "    .dataframe tbody tr th {\n",
       "        vertical-align: top;\n",
       "    }\n",
       "\n",
       "    .dataframe thead th {\n",
       "        text-align: right;\n",
       "    }\n",
       "</style>\n",
       "<table border=\"1\" class=\"dataframe\">\n",
       "  <thead>\n",
       "    <tr style=\"text-align: right;\">\n",
       "      <th></th>\n",
       "      <th>color</th>\n",
       "      <th>object</th>\n",
       "      <th>price</th>\n",
       "    </tr>\n",
       "  </thead>\n",
       "  <tbody>\n",
       "    <tr>\n",
       "      <th>0</th>\n",
       "      <td>blue</td>\n",
       "      <td>ball</td>\n",
       "      <td>1.2</td>\n",
       "    </tr>\n",
       "    <tr>\n",
       "      <th>1</th>\n",
       "      <td>green</td>\n",
       "      <td>pen</td>\n",
       "      <td>1.0</td>\n",
       "    </tr>\n",
       "    <tr>\n",
       "      <th>2</th>\n",
       "      <td>yellow</td>\n",
       "      <td>pencil</td>\n",
       "      <td>0.6</td>\n",
       "    </tr>\n",
       "    <tr>\n",
       "      <th>3</th>\n",
       "      <td>red</td>\n",
       "      <td>paper</td>\n",
       "      <td>0.9</td>\n",
       "    </tr>\n",
       "    <tr>\n",
       "      <th>4</th>\n",
       "      <td>white</td>\n",
       "      <td>mug</td>\n",
       "      <td>1.7</td>\n",
       "    </tr>\n",
       "  </tbody>\n",
       "</table>\n",
       "</div>"
      ],
      "text/plain": [
       "    color  object  price\n",
       "0    blue    ball    1.2\n",
       "1   green     pen    1.0\n",
       "2  yellow  pencil    0.6\n",
       "3     red   paper    0.9\n",
       "4   white     mug    1.7"
      ]
     },
     "execution_count": 168,
     "metadata": {},
     "output_type": "execute_result"
    }
   ],
   "source": [
    "frame = pd.DataFrame(data)\n",
    "frame"
   ]
  },
  {
   "cell_type": "code",
   "execution_count": 170,
   "id": "f27f3908-d16c-4c58-9b47-10bbc7d39244",
   "metadata": {},
   "outputs": [
    {
     "data": {
      "text/html": [
       "<div>\n",
       "<style scoped>\n",
       "    .dataframe tbody tr th:only-of-type {\n",
       "        vertical-align: middle;\n",
       "    }\n",
       "\n",
       "    .dataframe tbody tr th {\n",
       "        vertical-align: top;\n",
       "    }\n",
       "\n",
       "    .dataframe thead th {\n",
       "        text-align: right;\n",
       "    }\n",
       "</style>\n",
       "<table border=\"1\" class=\"dataframe\">\n",
       "  <thead>\n",
       "    <tr style=\"text-align: right;\">\n",
       "      <th></th>\n",
       "      <th>color</th>\n",
       "      <th>object</th>\n",
       "      <th>price</th>\n",
       "    </tr>\n",
       "  </thead>\n",
       "  <tbody>\n",
       "    <tr>\n",
       "      <th>one</th>\n",
       "      <td>blue</td>\n",
       "      <td>ball</td>\n",
       "      <td>1.2</td>\n",
       "    </tr>\n",
       "    <tr>\n",
       "      <th>two</th>\n",
       "      <td>green</td>\n",
       "      <td>pen</td>\n",
       "      <td>1.0</td>\n",
       "    </tr>\n",
       "    <tr>\n",
       "      <th>three</th>\n",
       "      <td>yellow</td>\n",
       "      <td>pencil</td>\n",
       "      <td>0.6</td>\n",
       "    </tr>\n",
       "    <tr>\n",
       "      <th>four</th>\n",
       "      <td>red</td>\n",
       "      <td>paper</td>\n",
       "      <td>0.9</td>\n",
       "    </tr>\n",
       "    <tr>\n",
       "      <th>five</th>\n",
       "      <td>white</td>\n",
       "      <td>mug</td>\n",
       "      <td>1.7</td>\n",
       "    </tr>\n",
       "  </tbody>\n",
       "</table>\n",
       "</div>"
      ],
      "text/plain": [
       "        color  object  price\n",
       "one      blue    ball    1.2\n",
       "two     green     pen    1.0\n",
       "three  yellow  pencil    0.6\n",
       "four      red   paper    0.9\n",
       "five    white     mug    1.7"
      ]
     },
     "execution_count": 170,
     "metadata": {},
     "output_type": "execute_result"
    }
   ],
   "source": [
    "frame2 = pd.DataFrame(data, index=['one','two','three','four','five'])\n",
    "frame2"
   ]
  },
  {
   "cell_type": "code",
   "execution_count": 171,
   "id": "1ff341cf-494d-4dbc-9a74-1241a5be9bd6",
   "metadata": {
    "tags": []
   },
   "outputs": [
    {
     "data": {
      "text/plain": [
       "RangeIndex(start=0, stop=5, step=1)"
      ]
     },
     "execution_count": 171,
     "metadata": {},
     "output_type": "execute_result"
    }
   ],
   "source": [
    "frame.index"
   ]
  },
  {
   "cell_type": "code",
   "execution_count": 172,
   "id": "539eeb71-48be-451c-b8e0-60258571497c",
   "metadata": {},
   "outputs": [
    {
     "data": {
      "text/plain": [
       "array([['blue', 'ball', 1.2],\n",
       "       ['green', 'pen', 1.0],\n",
       "       ['yellow', 'pencil', 0.6],\n",
       "       ['red', 'paper', 0.9],\n",
       "       ['white', 'mug', 1.7]], dtype=object)"
      ]
     },
     "execution_count": 172,
     "metadata": {},
     "output_type": "execute_result"
    }
   ],
   "source": [
    "frame.values"
   ]
  },
  {
   "cell_type": "markdown",
   "id": "5d7a7e6e-65cc-4314-83fc-7c7af1a51014",
   "metadata": {},
   "source": [
    "#### Selecting Elements"
   ]
  },
  {
   "cell_type": "markdown",
   "id": "60f66c62-8904-43e5-a7a7-411527208c42",
   "metadata": {},
   "source": [
    "##### Select columns"
   ]
  },
  {
   "cell_type": "code",
   "execution_count": 173,
   "id": "65af42fa-a766-48fa-ad8f-300b594e9ea4",
   "metadata": {},
   "outputs": [
    {
     "data": {
      "text/plain": [
       "Index(['color', 'object', 'price'], dtype='object')"
      ]
     },
     "execution_count": 173,
     "metadata": {},
     "output_type": "execute_result"
    }
   ],
   "source": [
    "frame.columns"
   ]
  },
  {
   "cell_type": "code",
   "execution_count": 174,
   "id": "bae3c40d-8ed4-47ef-8ad4-7fe324952261",
   "metadata": {},
   "outputs": [
    {
     "data": {
      "text/plain": [
       "0    1.2\n",
       "1    1.0\n",
       "2    0.6\n",
       "3    0.9\n",
       "4    1.7\n",
       "Name: price, dtype: float64"
      ]
     },
     "execution_count": 174,
     "metadata": {},
     "output_type": "execute_result"
    }
   ],
   "source": [
    "frame['price']"
   ]
  },
  {
   "cell_type": "code",
   "execution_count": 175,
   "id": "00c83d6e-c5fe-4f7a-9507-afc226789aba",
   "metadata": {},
   "outputs": [
    {
     "data": {
      "text/plain": [
       "0    1.2\n",
       "1    1.0\n",
       "2    0.6\n",
       "3    0.9\n",
       "4    1.7\n",
       "Name: price, dtype: float64"
      ]
     },
     "execution_count": 175,
     "metadata": {},
     "output_type": "execute_result"
    }
   ],
   "source": [
    "frame.price"
   ]
  },
  {
   "cell_type": "code",
   "execution_count": 176,
   "id": "6d7152d9-2700-4b9d-a530-c8f70fff447a",
   "metadata": {},
   "outputs": [
    {
     "data": {
      "text/html": [
       "<div>\n",
       "<style scoped>\n",
       "    .dataframe tbody tr th:only-of-type {\n",
       "        vertical-align: middle;\n",
       "    }\n",
       "\n",
       "    .dataframe tbody tr th {\n",
       "        vertical-align: top;\n",
       "    }\n",
       "\n",
       "    .dataframe thead th {\n",
       "        text-align: right;\n",
       "    }\n",
       "</style>\n",
       "<table border=\"1\" class=\"dataframe\">\n",
       "  <thead>\n",
       "    <tr style=\"text-align: right;\">\n",
       "      <th></th>\n",
       "      <th>object</th>\n",
       "      <th>price</th>\n",
       "    </tr>\n",
       "  </thead>\n",
       "  <tbody>\n",
       "    <tr>\n",
       "      <th>0</th>\n",
       "      <td>ball</td>\n",
       "      <td>1.2</td>\n",
       "    </tr>\n",
       "    <tr>\n",
       "      <th>1</th>\n",
       "      <td>pen</td>\n",
       "      <td>1.0</td>\n",
       "    </tr>\n",
       "    <tr>\n",
       "      <th>2</th>\n",
       "      <td>pencil</td>\n",
       "      <td>0.6</td>\n",
       "    </tr>\n",
       "    <tr>\n",
       "      <th>3</th>\n",
       "      <td>paper</td>\n",
       "      <td>0.9</td>\n",
       "    </tr>\n",
       "    <tr>\n",
       "      <th>4</th>\n",
       "      <td>mug</td>\n",
       "      <td>1.7</td>\n",
       "    </tr>\n",
       "  </tbody>\n",
       "</table>\n",
       "</div>"
      ],
      "text/plain": [
       "   object  price\n",
       "0    ball    1.2\n",
       "1     pen    1.0\n",
       "2  pencil    0.6\n",
       "3   paper    0.9\n",
       "4     mug    1.7"
      ]
     },
     "execution_count": 176,
     "metadata": {},
     "output_type": "execute_result"
    }
   ],
   "source": [
    "frame[['object','price']]"
   ]
  },
  {
   "cell_type": "markdown",
   "id": "721d02bc-20e4-43b6-bf73-b987d45d1734",
   "metadata": {},
   "source": [
    "##### Select rows"
   ]
  },
  {
   "cell_type": "code",
   "execution_count": 179,
   "id": "1680f520-3091-451c-81da-63c4060035d6",
   "metadata": {},
   "outputs": [
    {
     "data": {
      "text/plain": [
       "color     yellow\n",
       "object    pencil\n",
       "price        0.6\n",
       "Name: 2, dtype: object"
      ]
     },
     "execution_count": 179,
     "metadata": {},
     "output_type": "execute_result"
    }
   ],
   "source": [
    "#frame[2] is not available\n",
    "frame.loc[2]"
   ]
  },
  {
   "cell_type": "code",
   "execution_count": 180,
   "id": "b912be63-691b-4a35-a16c-209b634ece5c",
   "metadata": {},
   "outputs": [
    {
     "data": {
      "text/html": [
       "<div>\n",
       "<style scoped>\n",
       "    .dataframe tbody tr th:only-of-type {\n",
       "        vertical-align: middle;\n",
       "    }\n",
       "\n",
       "    .dataframe tbody tr th {\n",
       "        vertical-align: top;\n",
       "    }\n",
       "\n",
       "    .dataframe thead th {\n",
       "        text-align: right;\n",
       "    }\n",
       "</style>\n",
       "<table border=\"1\" class=\"dataframe\">\n",
       "  <thead>\n",
       "    <tr style=\"text-align: right;\">\n",
       "      <th></th>\n",
       "      <th>color</th>\n",
       "      <th>object</th>\n",
       "      <th>price</th>\n",
       "    </tr>\n",
       "  </thead>\n",
       "  <tbody>\n",
       "    <tr>\n",
       "      <th>0</th>\n",
       "      <td>blue</td>\n",
       "      <td>ball</td>\n",
       "      <td>1.2</td>\n",
       "    </tr>\n",
       "    <tr>\n",
       "      <th>1</th>\n",
       "      <td>green</td>\n",
       "      <td>pen</td>\n",
       "      <td>1.0</td>\n",
       "    </tr>\n",
       "    <tr>\n",
       "      <th>2</th>\n",
       "      <td>yellow</td>\n",
       "      <td>pencil</td>\n",
       "      <td>0.6</td>\n",
       "    </tr>\n",
       "  </tbody>\n",
       "</table>\n",
       "</div>"
      ],
      "text/plain": [
       "    color  object  price\n",
       "0    blue    ball    1.2\n",
       "1   green     pen    1.0\n",
       "2  yellow  pencil    0.6"
      ]
     },
     "execution_count": 180,
     "metadata": {},
     "output_type": "execute_result"
    }
   ],
   "source": [
    "frame[0:3]"
   ]
  },
  {
   "cell_type": "code",
   "execution_count": 184,
   "id": "4230defc-ab3a-4253-9aa2-0fea9662313d",
   "metadata": {},
   "outputs": [
    {
     "data": {
      "text/plain": [
       "color     yellow\n",
       "object    pencil\n",
       "price        0.8\n",
       "Name: 2, dtype: object"
      ]
     },
     "execution_count": 184,
     "metadata": {},
     "output_type": "execute_result"
    }
   ],
   "source": [
    "frame.loc[2] = ['yellow','pencil',0.8]\n",
    "frame.loc[2]"
   ]
  },
  {
   "cell_type": "code",
   "execution_count": 185,
   "id": "83504a0e-ad84-4c32-9cb9-e4858e9e9764",
   "metadata": {},
   "outputs": [
    {
     "data": {
      "text/html": [
       "<div>\n",
       "<style scoped>\n",
       "    .dataframe tbody tr th:only-of-type {\n",
       "        vertical-align: middle;\n",
       "    }\n",
       "\n",
       "    .dataframe tbody tr th {\n",
       "        vertical-align: top;\n",
       "    }\n",
       "\n",
       "    .dataframe thead th {\n",
       "        text-align: right;\n",
       "    }\n",
       "</style>\n",
       "<table border=\"1\" class=\"dataframe\">\n",
       "  <thead>\n",
       "    <tr style=\"text-align: right;\">\n",
       "      <th></th>\n",
       "      <th>color</th>\n",
       "      <th>object</th>\n",
       "      <th>price</th>\n",
       "    </tr>\n",
       "  </thead>\n",
       "  <tbody>\n",
       "    <tr>\n",
       "      <th>1</th>\n",
       "      <td>green</td>\n",
       "      <td>pen</td>\n",
       "      <td>1.0</td>\n",
       "    </tr>\n",
       "    <tr>\n",
       "      <th>2</th>\n",
       "      <td>yellow</td>\n",
       "      <td>pencil</td>\n",
       "      <td>0.8</td>\n",
       "    </tr>\n",
       "  </tbody>\n",
       "</table>\n",
       "</div>"
      ],
      "text/plain": [
       "    color  object  price\n",
       "1   green     pen    1.0\n",
       "2  yellow  pencil    0.8"
      ]
     },
     "execution_count": 185,
     "metadata": {},
     "output_type": "execute_result"
    }
   ],
   "source": [
    "frame.loc[[1,2]]"
   ]
  },
  {
   "cell_type": "code",
   "execution_count": 201,
   "id": "c4a4d3ef-6481-4d5a-af41-451042923e6d",
   "metadata": {},
   "outputs": [
    {
     "data": {
      "text/html": [
       "<div>\n",
       "<style scoped>\n",
       "    .dataframe tbody tr th:only-of-type {\n",
       "        vertical-align: middle;\n",
       "    }\n",
       "\n",
       "    .dataframe tbody tr th {\n",
       "        vertical-align: top;\n",
       "    }\n",
       "\n",
       "    .dataframe thead th {\n",
       "        text-align: right;\n",
       "    }\n",
       "</style>\n",
       "<table border=\"1\" class=\"dataframe\">\n",
       "  <thead>\n",
       "    <tr style=\"text-align: right;\">\n",
       "      <th></th>\n",
       "      <th>color</th>\n",
       "      <th>object</th>\n",
       "      <th>price</th>\n",
       "    </tr>\n",
       "  </thead>\n",
       "  <tbody>\n",
       "    <tr>\n",
       "      <th>one</th>\n",
       "      <td>blue</td>\n",
       "      <td>ball</td>\n",
       "      <td>1.2</td>\n",
       "    </tr>\n",
       "    <tr>\n",
       "      <th>two</th>\n",
       "      <td>green</td>\n",
       "      <td>pen</td>\n",
       "      <td>1.0</td>\n",
       "    </tr>\n",
       "    <tr>\n",
       "      <th>three</th>\n",
       "      <td>yellow</td>\n",
       "      <td>pencil</td>\n",
       "      <td>0.6</td>\n",
       "    </tr>\n",
       "    <tr>\n",
       "      <th>four</th>\n",
       "      <td>red</td>\n",
       "      <td>paper</td>\n",
       "      <td>0.9</td>\n",
       "    </tr>\n",
       "    <tr>\n",
       "      <th>five</th>\n",
       "      <td>white</td>\n",
       "      <td>mug</td>\n",
       "      <td>1.7</td>\n",
       "    </tr>\n",
       "  </tbody>\n",
       "</table>\n",
       "</div>"
      ],
      "text/plain": [
       "        color  object  price\n",
       "one      blue    ball    1.2\n",
       "two     green     pen    1.0\n",
       "three  yellow  pencil    0.6\n",
       "four      red   paper    0.9\n",
       "five    white     mug    1.7"
      ]
     },
     "execution_count": 201,
     "metadata": {},
     "output_type": "execute_result"
    }
   ],
   "source": [
    "frame2  # df with non-number indexing"
   ]
  },
  {
   "cell_type": "code",
   "execution_count": 202,
   "id": "1415ff13-6feb-462b-8b6f-b04993b8ba57",
   "metadata": {},
   "outputs": [
    {
     "data": {
      "text/plain": [
       "color     yellow\n",
       "object    pencil\n",
       "price        0.6\n",
       "Name: three, dtype: object"
      ]
     },
     "execution_count": 202,
     "metadata": {},
     "output_type": "execute_result"
    }
   ],
   "source": [
    "frame2.iloc[2]"
   ]
  },
  {
   "cell_type": "code",
   "execution_count": 203,
   "id": "f33afb16-33c4-4d43-adf8-ec3318946f43",
   "metadata": {},
   "outputs": [
    {
     "data": {
      "text/html": [
       "<div>\n",
       "<style scoped>\n",
       "    .dataframe tbody tr th:only-of-type {\n",
       "        vertical-align: middle;\n",
       "    }\n",
       "\n",
       "    .dataframe tbody tr th {\n",
       "        vertical-align: top;\n",
       "    }\n",
       "\n",
       "    .dataframe thead th {\n",
       "        text-align: right;\n",
       "    }\n",
       "</style>\n",
       "<table border=\"1\" class=\"dataframe\">\n",
       "  <thead>\n",
       "    <tr style=\"text-align: right;\">\n",
       "      <th></th>\n",
       "      <th>color</th>\n",
       "      <th>object</th>\n",
       "      <th>price</th>\n",
       "    </tr>\n",
       "  </thead>\n",
       "  <tbody>\n",
       "    <tr>\n",
       "      <th>one</th>\n",
       "      <td>blue</td>\n",
       "      <td>ball</td>\n",
       "      <td>1.2</td>\n",
       "    </tr>\n",
       "    <tr>\n",
       "      <th>two</th>\n",
       "      <td>green</td>\n",
       "      <td>pen</td>\n",
       "      <td>1.0</td>\n",
       "    </tr>\n",
       "    <tr>\n",
       "      <th>three</th>\n",
       "      <td>yellow</td>\n",
       "      <td>pencil</td>\n",
       "      <td>0.6</td>\n",
       "    </tr>\n",
       "  </tbody>\n",
       "</table>\n",
       "</div>"
      ],
      "text/plain": [
       "        color  object  price\n",
       "one      blue    ball    1.2\n",
       "two     green     pen    1.0\n",
       "three  yellow  pencil    0.6"
      ]
     },
     "execution_count": 203,
     "metadata": {},
     "output_type": "execute_result"
    }
   ],
   "source": [
    "frame2[0:3]"
   ]
  },
  {
   "cell_type": "markdown",
   "id": "1226a887-3ac8-40a6-abb3-fd5f777c06cb",
   "metadata": {},
   "source": [
    "##### Select columns and rows "
   ]
  },
  {
   "cell_type": "code",
   "execution_count": 205,
   "id": "e8cfe338-28c7-48c0-8b2b-50a608b680a7",
   "metadata": {},
   "outputs": [
    {
     "data": {
      "text/plain": [
       "'paper'"
      ]
     },
     "execution_count": 205,
     "metadata": {},
     "output_type": "execute_result"
    }
   ],
   "source": [
    "frame['object'][3]"
   ]
  },
  {
   "cell_type": "code",
   "execution_count": 204,
   "id": "16c4090d-ff33-40c9-be97-f56dc140750a",
   "metadata": {},
   "outputs": [
    {
     "data": {
      "text/plain": [
       "'paper'"
      ]
     },
     "execution_count": 204,
     "metadata": {},
     "output_type": "execute_result"
    }
   ],
   "source": [
    "frame.loc[3]['object']"
   ]
  },
  {
   "cell_type": "code",
   "execution_count": 206,
   "id": "128a8c0f-af1b-4d2d-ba5e-6b367d081560",
   "metadata": {},
   "outputs": [
    {
     "data": {
      "text/plain": [
       "0      ball\n",
       "1       pen\n",
       "2    pencil\n",
       "3     paper\n",
       "Name: object, dtype: object"
      ]
     },
     "execution_count": 206,
     "metadata": {},
     "output_type": "execute_result"
    }
   ],
   "source": [
    "frame['object'][:-1]"
   ]
  },
  {
   "cell_type": "markdown",
   "id": "72cd7624-a24b-4f85-b6bc-03947e15429d",
   "metadata": {
    "tags": []
   },
   "source": [
    "#### Assigning Values"
   ]
  },
  {
   "cell_type": "code",
   "execution_count": 215,
   "id": "a9b197a1-a187-485a-99b7-19a8c6ab5958",
   "metadata": {},
   "outputs": [
    {
     "name": "stderr",
     "output_type": "stream",
     "text": [
      "C:\\Users\\Window10\\AppData\\Local\\Temp\\ipykernel_25136\\3648755736.py:3: SettingWithCopyWarning: \n",
      "A value is trying to be set on a copy of a slice from a DataFrame\n",
      "\n",
      "See the caveats in the documentation: https://pandas.pydata.org/pandas-docs/stable/user_guide/indexing.html#returning-a-view-versus-a-copy\n",
      "  frame3['price'][2] = 3\n"
     ]
    }
   ],
   "source": [
    "# warning bug\n",
    "frame3 = frame\n",
    "frame3['price'][2] = 3"
   ]
  },
  {
   "cell_type": "code",
   "execution_count": 216,
   "id": "7eb8f4a3-2669-466d-bcfc-3cb7b3db668a",
   "metadata": {},
   "outputs": [
    {
     "name": "stderr",
     "output_type": "stream",
     "text": [
      "C:\\Users\\Window10\\AppData\\Local\\Temp\\ipykernel_25136\\3960999299.py:2: SettingWithCopyWarning: \n",
      "A value is trying to be set on a copy of a slice from a DataFrame\n",
      "\n",
      "See the caveats in the documentation: https://pandas.pydata.org/pandas-docs/stable/user_guide/indexing.html#returning-a-view-versus-a-copy\n",
      "  frame3['price'][2] = 3\n"
     ]
    },
    {
     "data": {
      "text/html": [
       "<div>\n",
       "<style scoped>\n",
       "    .dataframe tbody tr th:only-of-type {\n",
       "        vertical-align: middle;\n",
       "    }\n",
       "\n",
       "    .dataframe tbody tr th {\n",
       "        vertical-align: top;\n",
       "    }\n",
       "\n",
       "    .dataframe thead th {\n",
       "        text-align: right;\n",
       "    }\n",
       "</style>\n",
       "<table border=\"1\" class=\"dataframe\">\n",
       "  <thead>\n",
       "    <tr style=\"text-align: right;\">\n",
       "      <th></th>\n",
       "      <th>color</th>\n",
       "      <th>object</th>\n",
       "      <th>price</th>\n",
       "    </tr>\n",
       "  </thead>\n",
       "  <tbody>\n",
       "    <tr>\n",
       "      <th>0</th>\n",
       "      <td>blue</td>\n",
       "      <td>ball</td>\n",
       "      <td>1.2</td>\n",
       "    </tr>\n",
       "    <tr>\n",
       "      <th>1</th>\n",
       "      <td>green</td>\n",
       "      <td>pen</td>\n",
       "      <td>1.0</td>\n",
       "    </tr>\n",
       "    <tr>\n",
       "      <th>2</th>\n",
       "      <td>yellow</td>\n",
       "      <td>pencil</td>\n",
       "      <td>3.0</td>\n",
       "    </tr>\n",
       "    <tr>\n",
       "      <th>3</th>\n",
       "      <td>red</td>\n",
       "      <td>paper</td>\n",
       "      <td>0.9</td>\n",
       "    </tr>\n",
       "    <tr>\n",
       "      <th>4</th>\n",
       "      <td>white</td>\n",
       "      <td>mug</td>\n",
       "      <td>1.7</td>\n",
       "    </tr>\n",
       "  </tbody>\n",
       "</table>\n",
       "</div>"
      ],
      "text/plain": [
       "    color  object  price\n",
       "0    blue    ball    1.2\n",
       "1   green     pen    1.0\n",
       "2  yellow  pencil    3.0\n",
       "3     red   paper    0.9\n",
       "4   white     mug    1.7"
      ]
     },
     "execution_count": 216,
     "metadata": {},
     "output_type": "execute_result"
    }
   ],
   "source": [
    "frame3 = frame.copy()\n",
    "frame3['price'][2] = 3\n",
    "frame3"
   ]
  },
  {
   "cell_type": "code",
   "execution_count": null,
   "id": "2ec50f74-4983-4f1a-8223-e55ac54226ca",
   "metadata": {},
   "outputs": [],
   "source": [
    "frame3.loc[2,'price'] = 1.1"
   ]
  },
  {
   "cell_type": "code",
   "execution_count": null,
   "id": "93086f70-eea5-4976-97d4-92cb02ee14d9",
   "metadata": {},
   "outputs": [],
   "source": [
    "frame3['new'] = [3.0,1.3,2.2,0.8,1.1]"
   ]
  },
  {
   "cell_type": "markdown",
   "id": "dd3544af-7021-4f53-b048-bc12bd8baf07",
   "metadata": {},
   "source": [
    "#### Filtering"
   ]
  },
  {
   "cell_type": "code",
   "execution_count": 217,
   "id": "c8dee848-3d1c-46b3-b103-456b62916dd5",
   "metadata": {
    "tags": []
   },
   "outputs": [
    {
     "data": {
      "text/html": [
       "<div>\n",
       "<style scoped>\n",
       "    .dataframe tbody tr th:only-of-type {\n",
       "        vertical-align: middle;\n",
       "    }\n",
       "\n",
       "    .dataframe tbody tr th {\n",
       "        vertical-align: top;\n",
       "    }\n",
       "\n",
       "    .dataframe thead th {\n",
       "        text-align: right;\n",
       "    }\n",
       "</style>\n",
       "<table border=\"1\" class=\"dataframe\">\n",
       "  <thead>\n",
       "    <tr style=\"text-align: right;\">\n",
       "      <th></th>\n",
       "      <th>color</th>\n",
       "      <th>object</th>\n",
       "      <th>price</th>\n",
       "    </tr>\n",
       "  </thead>\n",
       "  <tbody>\n",
       "    <tr>\n",
       "      <th>2</th>\n",
       "      <td>yellow</td>\n",
       "      <td>pencil</td>\n",
       "      <td>3.0</td>\n",
       "    </tr>\n",
       "  </tbody>\n",
       "</table>\n",
       "</div>"
      ],
      "text/plain": [
       "    color  object  price\n",
       "2  yellow  pencil    3.0"
      ]
     },
     "execution_count": 217,
     "metadata": {},
     "output_type": "execute_result"
    }
   ],
   "source": [
    "frame[frame['price'] > 2]"
   ]
  },
  {
   "cell_type": "code",
   "execution_count": 218,
   "id": "784b7fc4-6c04-41a7-af32-9802569da7f4",
   "metadata": {},
   "outputs": [
    {
     "data": {
      "text/html": [
       "<div>\n",
       "<style scoped>\n",
       "    .dataframe tbody tr th:only-of-type {\n",
       "        vertical-align: middle;\n",
       "    }\n",
       "\n",
       "    .dataframe tbody tr th {\n",
       "        vertical-align: top;\n",
       "    }\n",
       "\n",
       "    .dataframe thead th {\n",
       "        text-align: right;\n",
       "    }\n",
       "</style>\n",
       "<table border=\"1\" class=\"dataframe\">\n",
       "  <thead>\n",
       "    <tr style=\"text-align: right;\">\n",
       "      <th></th>\n",
       "      <th>color</th>\n",
       "      <th>object</th>\n",
       "      <th>price</th>\n",
       "    </tr>\n",
       "  </thead>\n",
       "  <tbody>\n",
       "    <tr>\n",
       "      <th>0</th>\n",
       "      <td>blue</td>\n",
       "      <td>ball</td>\n",
       "      <td>1.2</td>\n",
       "    </tr>\n",
       "    <tr>\n",
       "      <th>1</th>\n",
       "      <td>green</td>\n",
       "      <td>pen</td>\n",
       "      <td>1.0</td>\n",
       "    </tr>\n",
       "  </tbody>\n",
       "</table>\n",
       "</div>"
      ],
      "text/plain": [
       "   color object  price\n",
       "0   blue   ball    1.2\n",
       "1  green    pen    1.0"
      ]
     },
     "execution_count": 218,
     "metadata": {},
     "output_type": "execute_result"
    }
   ],
   "source": [
    "frame[ frame['object'].isin(['ball','pen'])]"
   ]
  },
  {
   "cell_type": "code",
   "execution_count": 220,
   "id": "e1a8103d-6b63-4a03-9f0c-c9c5684dd274",
   "metadata": {},
   "outputs": [
    {
     "data": {
      "text/html": [
       "<div>\n",
       "<style scoped>\n",
       "    .dataframe tbody tr th:only-of-type {\n",
       "        vertical-align: middle;\n",
       "    }\n",
       "\n",
       "    .dataframe tbody tr th {\n",
       "        vertical-align: top;\n",
       "    }\n",
       "\n",
       "    .dataframe thead th {\n",
       "        text-align: right;\n",
       "    }\n",
       "</style>\n",
       "<table border=\"1\" class=\"dataframe\">\n",
       "  <thead>\n",
       "    <tr style=\"text-align: right;\">\n",
       "      <th></th>\n",
       "      <th>color</th>\n",
       "      <th>object</th>\n",
       "      <th>price</th>\n",
       "    </tr>\n",
       "  </thead>\n",
       "  <tbody>\n",
       "    <tr>\n",
       "      <th>0</th>\n",
       "      <td>blue</td>\n",
       "      <td>ball</td>\n",
       "      <td>1.2</td>\n",
       "    </tr>\n",
       "  </tbody>\n",
       "</table>\n",
       "</div>"
      ],
      "text/plain": [
       "  color object  price\n",
       "0  blue   ball    1.2"
      ]
     },
     "execution_count": 220,
     "metadata": {},
     "output_type": "execute_result"
    }
   ],
   "source": [
    "frame[(frame['object'].isin(['ball','pen'])) & (frame['price'] > 1)]"
   ]
  },
  {
   "cell_type": "markdown",
   "id": "5becbfb8-54ef-4ce1-a702-25d8c44d92f5",
   "metadata": {},
   "source": [
    "#### Deleting a Column"
   ]
  },
  {
   "cell_type": "code",
   "execution_count": 221,
   "id": "dae3b1e8-26a1-4c2e-a931-0ef31069527e",
   "metadata": {},
   "outputs": [
    {
     "data": {
      "text/html": [
       "<div>\n",
       "<style scoped>\n",
       "    .dataframe tbody tr th:only-of-type {\n",
       "        vertical-align: middle;\n",
       "    }\n",
       "\n",
       "    .dataframe tbody tr th {\n",
       "        vertical-align: top;\n",
       "    }\n",
       "\n",
       "    .dataframe thead th {\n",
       "        text-align: right;\n",
       "    }\n",
       "</style>\n",
       "<table border=\"1\" class=\"dataframe\">\n",
       "  <thead>\n",
       "    <tr style=\"text-align: right;\">\n",
       "      <th></th>\n",
       "      <th>color</th>\n",
       "      <th>object</th>\n",
       "      <th>price</th>\n",
       "    </tr>\n",
       "  </thead>\n",
       "  <tbody>\n",
       "    <tr>\n",
       "      <th>0</th>\n",
       "      <td>blue</td>\n",
       "      <td>ball</td>\n",
       "      <td>1.2</td>\n",
       "    </tr>\n",
       "    <tr>\n",
       "      <th>1</th>\n",
       "      <td>green</td>\n",
       "      <td>pen</td>\n",
       "      <td>1.0</td>\n",
       "    </tr>\n",
       "    <tr>\n",
       "      <th>2</th>\n",
       "      <td>yellow</td>\n",
       "      <td>pencil</td>\n",
       "      <td>3.0</td>\n",
       "    </tr>\n",
       "    <tr>\n",
       "      <th>3</th>\n",
       "      <td>red</td>\n",
       "      <td>paper</td>\n",
       "      <td>0.9</td>\n",
       "    </tr>\n",
       "    <tr>\n",
       "      <th>4</th>\n",
       "      <td>white</td>\n",
       "      <td>mug</td>\n",
       "      <td>1.7</td>\n",
       "    </tr>\n",
       "  </tbody>\n",
       "</table>\n",
       "</div>"
      ],
      "text/plain": [
       "    color  object  price\n",
       "0    blue    ball    1.2\n",
       "1   green     pen    1.0\n",
       "2  yellow  pencil    3.0\n",
       "3     red   paper    0.9\n",
       "4   white     mug    1.7"
      ]
     },
     "execution_count": 221,
     "metadata": {},
     "output_type": "execute_result"
    }
   ],
   "source": [
    "frame"
   ]
  },
  {
   "cell_type": "code",
   "execution_count": 223,
   "id": "02b4287d-4fc4-42df-ae29-fcfeb2f4a4b7",
   "metadata": {},
   "outputs": [
    {
     "data": {
      "text/html": [
       "<div>\n",
       "<style scoped>\n",
       "    .dataframe tbody tr th:only-of-type {\n",
       "        vertical-align: middle;\n",
       "    }\n",
       "\n",
       "    .dataframe tbody tr th {\n",
       "        vertical-align: top;\n",
       "    }\n",
       "\n",
       "    .dataframe thead th {\n",
       "        text-align: right;\n",
       "    }\n",
       "</style>\n",
       "<table border=\"1\" class=\"dataframe\">\n",
       "  <thead>\n",
       "    <tr style=\"text-align: right;\">\n",
       "      <th></th>\n",
       "      <th>object</th>\n",
       "      <th>price</th>\n",
       "    </tr>\n",
       "  </thead>\n",
       "  <tbody>\n",
       "    <tr>\n",
       "      <th>0</th>\n",
       "      <td>ball</td>\n",
       "      <td>1.2</td>\n",
       "    </tr>\n",
       "    <tr>\n",
       "      <th>1</th>\n",
       "      <td>pen</td>\n",
       "      <td>1.0</td>\n",
       "    </tr>\n",
       "    <tr>\n",
       "      <th>2</th>\n",
       "      <td>pencil</td>\n",
       "      <td>3.0</td>\n",
       "    </tr>\n",
       "    <tr>\n",
       "      <th>3</th>\n",
       "      <td>paper</td>\n",
       "      <td>0.9</td>\n",
       "    </tr>\n",
       "    <tr>\n",
       "      <th>4</th>\n",
       "      <td>mug</td>\n",
       "      <td>1.7</td>\n",
       "    </tr>\n",
       "  </tbody>\n",
       "</table>\n",
       "</div>"
      ],
      "text/plain": [
       "   object  price\n",
       "0    ball    1.2\n",
       "1     pen    1.0\n",
       "2  pencil    3.0\n",
       "3   paper    0.9\n",
       "4     mug    1.7"
      ]
     },
     "execution_count": 223,
     "metadata": {},
     "output_type": "execute_result"
    }
   ],
   "source": [
    "frame.drop(columns= ['color'])"
   ]
  },
  {
   "cell_type": "code",
   "execution_count": 225,
   "id": "762a319f-00ae-4197-a913-744c9325cbe5",
   "metadata": {},
   "outputs": [
    {
     "data": {
      "text/html": [
       "<div>\n",
       "<style scoped>\n",
       "    .dataframe tbody tr th:only-of-type {\n",
       "        vertical-align: middle;\n",
       "    }\n",
       "\n",
       "    .dataframe tbody tr th {\n",
       "        vertical-align: top;\n",
       "    }\n",
       "\n",
       "    .dataframe thead th {\n",
       "        text-align: right;\n",
       "    }\n",
       "</style>\n",
       "<table border=\"1\" class=\"dataframe\">\n",
       "  <thead>\n",
       "    <tr style=\"text-align: right;\">\n",
       "      <th></th>\n",
       "      <th>object</th>\n",
       "      <th>price</th>\n",
       "    </tr>\n",
       "  </thead>\n",
       "  <tbody>\n",
       "    <tr>\n",
       "      <th>0</th>\n",
       "      <td>ball</td>\n",
       "      <td>1.2</td>\n",
       "    </tr>\n",
       "    <tr>\n",
       "      <th>1</th>\n",
       "      <td>pen</td>\n",
       "      <td>1.0</td>\n",
       "    </tr>\n",
       "    <tr>\n",
       "      <th>2</th>\n",
       "      <td>pencil</td>\n",
       "      <td>3.0</td>\n",
       "    </tr>\n",
       "    <tr>\n",
       "      <th>3</th>\n",
       "      <td>paper</td>\n",
       "      <td>0.9</td>\n",
       "    </tr>\n",
       "    <tr>\n",
       "      <th>4</th>\n",
       "      <td>mug</td>\n",
       "      <td>1.7</td>\n",
       "    </tr>\n",
       "  </tbody>\n",
       "</table>\n",
       "</div>"
      ],
      "text/plain": [
       "   object  price\n",
       "0    ball    1.2\n",
       "1     pen    1.0\n",
       "2  pencil    3.0\n",
       "3   paper    0.9\n",
       "4     mug    1.7"
      ]
     },
     "execution_count": 225,
     "metadata": {},
     "output_type": "execute_result"
    }
   ],
   "source": [
    "frame3"
   ]
  },
  {
   "cell_type": "code",
   "execution_count": 224,
   "id": "902e9cb4-7c43-4bef-87d5-bf68fc3f4f46",
   "metadata": {},
   "outputs": [],
   "source": [
    "del frame3['color']"
   ]
  },
  {
   "cell_type": "code",
   "execution_count": 231,
   "id": "657ba032-d57f-4932-a3a1-be4be9003fd2",
   "metadata": {},
   "outputs": [
    {
     "name": "stdout",
     "output_type": "stream",
     "text": [
      "1.56\n"
     ]
    },
    {
     "data": {
      "text/html": [
       "<div>\n",
       "<style scoped>\n",
       "    .dataframe tbody tr th:only-of-type {\n",
       "        vertical-align: middle;\n",
       "    }\n",
       "\n",
       "    .dataframe tbody tr th {\n",
       "        vertical-align: top;\n",
       "    }\n",
       "\n",
       "    .dataframe thead th {\n",
       "        text-align: right;\n",
       "    }\n",
       "</style>\n",
       "<table border=\"1\" class=\"dataframe\">\n",
       "  <thead>\n",
       "    <tr style=\"text-align: right;\">\n",
       "      <th></th>\n",
       "      <th>color</th>\n",
       "      <th>object</th>\n",
       "      <th>price</th>\n",
       "    </tr>\n",
       "  </thead>\n",
       "  <tbody>\n",
       "    <tr>\n",
       "      <th>2</th>\n",
       "      <td>yellow</td>\n",
       "      <td>pencil</td>\n",
       "      <td>3.0</td>\n",
       "    </tr>\n",
       "    <tr>\n",
       "      <th>3</th>\n",
       "      <td>red</td>\n",
       "      <td>paper</td>\n",
       "      <td>0.9</td>\n",
       "    </tr>\n",
       "    <tr>\n",
       "      <th>4</th>\n",
       "      <td>white</td>\n",
       "      <td>mug</td>\n",
       "      <td>1.7</td>\n",
       "    </tr>\n",
       "  </tbody>\n",
       "</table>\n",
       "</div>"
      ],
      "text/plain": [
       "    color  object  price\n",
       "2  yellow  pencil    3.0\n",
       "3     red   paper    0.9\n",
       "4   white     mug    1.7"
      ]
     },
     "execution_count": 231,
     "metadata": {},
     "output_type": "execute_result"
    }
   ],
   "source": [
    "# todo: use frame todo\n",
    "# 1. find sum of price\n",
    "mean = np.mean(frame['price'])\n",
    "print(mean)\n",
    "# 2. find object who is not ball and pen or price less than 1\n",
    "filter = frame[(~frame['object'].isin(['ball','pen'])) | (frame['price'] < 1)]\n",
    "filter"
   ]
  }
 ],
 "metadata": {
  "kernelspec": {
   "display_name": "Python 3 (ipykernel)",
   "language": "python",
   "name": "python3"
  },
  "language_info": {
   "codemirror_mode": {
    "name": "ipython",
    "version": 3
   },
   "file_extension": ".py",
   "mimetype": "text/x-python",
   "name": "python",
   "nbconvert_exporter": "python",
   "pygments_lexer": "ipython3",
   "version": "3.10.5"
  }
 },
 "nbformat": 4,
 "nbformat_minor": 5
}
