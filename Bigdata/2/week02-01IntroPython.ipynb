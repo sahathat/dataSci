{
 "cells": [
  {
   "cell_type": "markdown",
   "id": "a523f520-eaea-454f-b2aa-b5b8255cf517",
   "metadata": {},
   "source": [
    "# INT420-491 : Intro Python Programming\n",
    "45-minutes study\n"
   ]
  },
  {
   "cell_type": "markdown",
   "id": "a7adf162-1b37-4f1e-8a70-32daf9bf9f85",
   "metadata": {},
   "source": [
    "## Variable & Indexing \n",
    "\n",
    "Variables do not need to be declared (ไม่ต้องมีการประกาศตัวแปร)\n"
   ]
  },
  {
   "cell_type": "code",
   "execution_count": null,
   "id": "f2845a41-925c-4048-9a4d-4e79c8871a1c",
   "metadata": {
    "tags": []
   },
   "outputs": [],
   "source": [
    "x = 5.\n",
    "print(x)\n",
    "\n",
    "str = \"niwan\"\n",
    "print(str[1])\n",
    "print(str[-2])\n",
    "type(x)"
   ]
  },
  {
   "cell_type": "markdown",
   "id": "9aeca29f-3625-4162-a696-06904ae5f84d",
   "metadata": {},
   "source": [
    "## List\n",
    "- List values are placed in between  [ ] \n",
    "- Each element separated by , \n"
   ]
  },
  {
   "cell_type": "code",
   "execution_count": null,
   "id": "94e345e1-e584-4a6f-8ed8-7d04ead1b434",
   "metadata": {
    "tags": []
   },
   "outputs": [],
   "source": [
    "color =[\"red\", \"green\",\"blue\"]\n",
    "print(color[1]+color[0])\n",
    "print(color[1],color[0])\n"
   ]
  },
  {
   "cell_type": "code",
   "execution_count": null,
   "id": "a7a3e170-28c5-44a8-95fb-8a1e67699242",
   "metadata": {
    "tags": []
   },
   "outputs": [],
   "source": [
    "fruit = [\"apple\",\"orange\",\"banana\"]\n",
    "fruit.append(\"mango\")\n",
    "fruit.insert(1,\"storeberry\")\n",
    "\n",
    "a = input(\"Enter text >> \")\n",
    "if a in fruit:\n",
    "    print(a + \" is a fruit.\")\n",
    "else:\n",
    "    print(a + \" is not a fruit.\")\n",
    "\n",
    "print(fruit)"
   ]
  },
  {
   "cell_type": "code",
   "execution_count": null,
   "id": "5e2a1f99-a212-4767-8e5b-e754987968c2",
   "metadata": {},
   "outputs": [],
   "source": [
    "num1 = [1,2,3]\n",
    "num2 = [10,20,30]\n",
    "num1+num2"
   ]
  },
  {
   "cell_type": "markdown",
   "id": "ff8c621f-651d-460d-b223-250d312d6e04",
   "metadata": {
    "tags": []
   },
   "source": [
    "## Tuples\n",
    "- Tuple values are placed in between ( )\n",
    "- Each element separated by , \n",
    "- Tuples are unchangeable.\n"
   ]
  },
  {
   "cell_type": "code",
   "execution_count": null,
   "id": "259915fb-03d7-4024-811f-d1f0cd70b66b",
   "metadata": {
    "tags": []
   },
   "outputs": [],
   "source": [
    "#tuples\n",
    "color1 = (\"red\",\"green\",\"blue\") \n",
    "\n",
    "#list\n",
    "color2 = [\"red\",\"green\",\"blue\"]\n",
    "\n",
    "print(type(color1))\n",
    "print(type(color2))\n",
    "\n",
    "color2[1] = \"black\"  #list เปลี่ยนค่าได้ \n",
    "\n",
    "print(color1[1])\n",
    "print(color2[1])"
   ]
  },
  {
   "cell_type": "markdown",
   "id": "ec0f3b34-8bb3-410e-9364-0fa39c712d05",
   "metadata": {},
   "source": [
    "## Set\n",
    "\n",
    "- Set values are placed in between { }\n",
    "- Each element separated by , \n",
    "\n",
    "- non-dupplicated members\n",
    "\n",
    "- index is unable \n"
   ]
  },
  {
   "cell_type": "code",
   "execution_count": null,
   "id": "2114947c-fee9-48c8-a9f6-3fa639bd4f91",
   "metadata": {
    "tags": []
   },
   "outputs": [],
   "source": [
    "#set\n",
    "num1 = {1,5,7,7,10}\n",
    "\n",
    "#list\n",
    "num2 = [1,5,7,7,10]\n",
    "\n",
    "#tuple\n",
    "num3 = (1,5,7,7,10)\n",
    "\n",
    "print(len(num1))\n",
    "print(len(num2))\n",
    "print(len(num3))\n",
    "\n",
    "#print(num1[2]) # set ไม่สามารถ index ได้\n",
    "print(num2[-2])\n",
    "print(num3[2])\n",
    "\n"
   ]
  },
  {
   "cell_type": "markdown",
   "id": "1e9ff3ce-e11f-415d-9de4-3b2a6265e508",
   "metadata": {
    "tags": []
   },
   "source": [
    "## Dictionary\n",
    "\n",
    "- Syntax:  {\"key1\": val1, \"key2\": val2 } \n",
    "\n",
    "- Values in a Python dictionary can be accessed by placing the key within square brackets next to the dictionary.\n"
   ]
  },
  {
   "cell_type": "code",
   "execution_count": null,
   "id": "b21ca196-2efc-4583-a270-f79982f5c0f7",
   "metadata": {},
   "outputs": [],
   "source": [
    "my_dictionary = {\"song\": \"How You Like That\", \"artist\": \"BLACKPINK\"}\n",
    "print(my_dictionary[\"song\"])\n",
    "my_dictionary[\"song\"] = \"Don't Know What To Do\"\n"
   ]
  },
  {
   "cell_type": "code",
   "execution_count": null,
   "id": "5c0a7914-2d71-4c79-be2f-9759c7d8ef67",
   "metadata": {
    "tags": []
   },
   "outputs": [],
   "source": [
    "person = {\"name\":[\"nat\", \"non\", \"nan\", \"noi\", \"niw\"], \n",
    "          \"age\":[15,23,18,19,18]}\n",
    "print(person[\"name\"][2])\n",
    "print(person[\"age\"][2])\n"
   ]
  },
  {
   "cell_type": "markdown",
   "id": "ff50af61-52b7-43a8-9a87-a9dbdf674db8",
   "metadata": {},
   "source": [
    "## For, If-else, While"
   ]
  },
  {
   "cell_type": "code",
   "execution_count": null,
   "id": "90739035-ef0c-4d63-aef6-22ff5ad0ce97",
   "metadata": {
    "tags": []
   },
   "outputs": [],
   "source": [
    "number = [1,2,5,6,8]\n",
    "for x in number:\n",
    "    if x%2 == 0:\n",
    "        print(x)\n",
    "    else:\n",
    "        print(x+1)"
   ]
  },
  {
   "cell_type": "code",
   "execution_count": null,
   "id": "d25b4747-20cb-4519-8a1d-05dd101e6e06",
   "metadata": {},
   "outputs": [],
   "source": [
    "i = 1 \n",
    "while i<5 :\n",
    "    print(\"ans:\",i)\n",
    "    i+=1"
   ]
  },
  {
   "cell_type": "markdown",
   "id": "a41ba240-cbd3-4428-a678-dc58ce751b61",
   "metadata": {},
   "source": [
    "## range() function \n",
    "The range() function returns a sequence of numbers, starting from 0 by default, and increments by 1 (by default), and ends at a specified number.\n"
   ]
  },
  {
   "cell_type": "code",
   "execution_count": null,
   "id": "680441e2-0484-4adf-8e84-a7cab21f0d26",
   "metadata": {
    "tags": []
   },
   "outputs": [],
   "source": [
    "x = [\"A\",\"B\",\"O\",\"AB\"]\n",
    "for i in range(4) :  \n",
    "    print(i,x[i])"
   ]
  },
  {
   "cell_type": "code",
   "execution_count": null,
   "id": "094ac957-7cf9-4080-98ee-5abafb3c5cc6",
   "metadata": {
    "tags": []
   },
   "outputs": [],
   "source": [
    "for i in range(3,5) :  \n",
    "    print(i)\n",
    "    i = i+1"
   ]
  },
  {
   "cell_type": "code",
   "execution_count": null,
   "id": "b3828620-1fde-437a-9280-e3da89f1568b",
   "metadata": {
    "tags": []
   },
   "outputs": [],
   "source": [
    "for i in range(2,10,3) :  \n",
    "    print(i)\n",
    "    i = i+1"
   ]
  },
  {
   "cell_type": "markdown",
   "id": "ba025f92-a597-4b1b-94ba-6bf72ec8636f",
   "metadata": {},
   "source": [
    "## User-Defined Functions"
   ]
  },
  {
   "cell_type": "code",
   "execution_count": null,
   "id": "13c55cdd-5e24-4ac0-b78a-9f555cfffd66",
   "metadata": {},
   "outputs": [],
   "source": [
    "#%%writefile my_py_function.py\n",
    "def myfunc():\n",
    "    print(\"This is a function.\")\n",
    "\n",
    "def myfunc2(n=0):\n",
    "    if n==0 :\n",
    "        print(\"default parameter is \", n)\n",
    "    else:\n",
    "        print(\"n is\", n)\n",
    "        \n",
    "def mul(x,y):\n",
    "    m = x*y\n",
    "    return m\n",
    "\n",
    "myfunc()\n",
    "myfunc2()\n",
    "myfunc2(5)\n",
    "a = mul(2,4)\n",
    "print(a)"
   ]
  },
  {
   "cell_type": "code",
   "execution_count": null,
   "id": "af1cd803-9a60-4d83-acf5-af81a276fa96",
   "metadata": {},
   "outputs": [],
   "source": [
    "myfunc()\n",
    "myfunc2()\n",
    "myfunc2(5)\n",
    "a = mul(2,4)\n",
    "print(a)"
   ]
  },
  {
   "cell_type": "markdown",
   "id": "89e79364-9f07-40f8-9017-06c888120134",
   "metadata": {},
   "source": [
    "## Load User-defined Functions from file\n",
    "\n",
    "We need to load functions from my_py_function.py"
   ]
  },
  {
   "cell_type": "code",
   "execution_count": null,
   "id": "ed58bc45-53e0-4e0c-a514-d9d3419b5ab6",
   "metadata": {
    "tags": []
   },
   "outputs": [],
   "source": [
    "import my_py_function as mf\n"
   ]
  },
  {
   "cell_type": "code",
   "execution_count": null,
   "id": "99202c11-bcfc-4567-8de0-dd8865df3a70",
   "metadata": {},
   "outputs": [],
   "source": [
    "mf.myfunc()\n",
    "mf.myfunc2()\n",
    "mf.myfunc2(5)\n",
    "a = mf.mul(2,4)\n",
    "print(a)"
   ]
  },
  {
   "cell_type": "code",
   "execution_count": null,
   "id": "45458d8e-b04e-493d-9e41-7f44e31a0fcd",
   "metadata": {},
   "outputs": [],
   "source": [
    "from my_py_function import mul\n",
    "mul(5,8)"
   ]
  },
  {
   "cell_type": "markdown",
   "id": "ef903829-642f-45da-a7df-ee9bd835869b",
   "metadata": {},
   "source": [
    "## Classes"
   ]
  },
  {
   "cell_type": "code",
   "execution_count": null,
   "id": "c77335ba-29d7-40c6-82bf-5c1938154536",
   "metadata": {
    "tags": []
   },
   "outputs": [],
   "source": [
    "#Create a Class\n",
    "class myNN:\n",
    "    x = 7\n",
    "    y = 9\n",
    "\n",
    "    def mul(self,a,b):\n",
    "        return a*b\n",
    "        "
   ]
  },
  {
   "cell_type": "code",
   "execution_count": null,
   "id": "d1c526d2-a0f6-4dfe-844c-afb3532b2c4b",
   "metadata": {},
   "outputs": [],
   "source": [
    "#Create Object\n",
    "a = myNN()\n",
    "\n",
    "print(\"x=\",a.x,\" y=\",a.y)\n",
    "\n",
    "a.x = 10\n",
    "a.y = 15\n",
    "print(\"x=\",a.x,\" y=\",a.y)\n",
    "\n",
    "a.mul(3,4)\n"
   ]
  },
  {
   "cell_type": "markdown",
   "id": "d587a23d-0d0f-45c9-8230-66063fdb49c9",
   "metadata": {},
   "source": [
    "### \\_\\_init\\_\\_( ) Function\n",
    "\n",
    "Always executed when the class is being initiated"
   ]
  },
  {
   "cell_type": "code",
   "execution_count": null,
   "id": "6c326426-a6a4-4081-8479-5dc3b3cdaa90",
   "metadata": {},
   "outputs": [],
   "source": [
    "#Create a Class\n",
    "class myNN:\n",
    "    def __init__(self, x, y):\n",
    "        self.x = x\n",
    "        self.y = y\n",
    "        \n",
    "    def weight(self):\n",
    "        w = self.x\n",
    "        for i in range(len(w)):\n",
    "            w[i] = w[i]*w[i]\n",
    "        return w\n",
    "        "
   ]
  },
  {
   "cell_type": "code",
   "execution_count": null,
   "id": "16ebd8be-546b-4e73-b107-f26c2960655e",
   "metadata": {},
   "outputs": [],
   "source": [
    "p = myNN([2,3],[1, 0])"
   ]
  },
  {
   "cell_type": "code",
   "execution_count": null,
   "id": "0a563a9b-7dc6-406e-bbd4-af56456c116a",
   "metadata": {},
   "outputs": [],
   "source": [
    "p.weight()\n"
   ]
  },
  {
   "cell_type": "code",
   "execution_count": null,
   "id": "572f6ba4-c1f8-4e99-a398-4d693b1a928d",
   "metadata": {},
   "outputs": [],
   "source": [
    "class niwanAna:\n",
    "    \n",
    "    def getX(self,x):\n",
    "        self.x = x\n",
    "\n",
    "    def scaleX(self):\n",
    "        minX = min(self.x)\n",
    "        maxX = max(self.x)\n",
    "        \n",
    "        a = self.x\n",
    "        for i in range(len(a)):\n",
    "            a[i] = (a[i]-minX)/(maxX-minX) \n",
    "        \n",
    "        return a\n",
    "        \n",
    "p = niwanAna()\n",
    "p.getX([4,5,2,1,6])\n",
    "\n",
    "p.scaleX()\n"
   ]
  },
  {
   "cell_type": "markdown",
   "id": "45decf6a-6c99-4a3c-9524-a215bb578652",
   "metadata": {},
   "source": [
    "## NumPy\n",
    "\n",
    "NumPy is the fundamental package for scientific computing in Python\n"
   ]
  },
  {
   "cell_type": "code",
   "execution_count": null,
   "id": "a5b550cb-b80d-4d59-96df-8e65c6124f66",
   "metadata": {
    "tags": []
   },
   "outputs": [],
   "source": [
    "import numpy as np"
   ]
  },
  {
   "cell_type": "code",
   "execution_count": null,
   "id": "aa5bef39-f236-4ac1-94fb-7e40db62c43b",
   "metadata": {},
   "outputs": [],
   "source": [
    "#print(dir(np))\n",
    "\n",
    "#List\n",
    "a = [9,1,7,5,6]\n",
    "b = [5,7,8,1,3]\n",
    "\n",
    "#1D-array\n",
    "x = np.array([9,1,7,5,6])\n",
    "y = np.array([5,7,8,1,3])\n",
    "\n",
    "print(a[0]-b[0]) #List cannot be processed as the vector\n",
    "print(x-y)       #numpy array can be processed as the vector \n",
    "print(x.shape)"
   ]
  },
  {
   "cell_type": "code",
   "execution_count": null,
   "id": "b269223a-8174-4738-bc1b-48816a03a737",
   "metadata": {},
   "outputs": [],
   "source": [
    "#2D-array\n",
    "data = np.array([[2,4,5,6,8],[2,7,4,1,9]])\n",
    "print(data[1,4])\n",
    "print(data[0])\n",
    "print(data[0,:])\n",
    "print(data[1,:])\n",
    "print(data[:,3])\n",
    "print(data.shape)"
   ]
  },
  {
   "cell_type": "code",
   "execution_count": null,
   "id": "74bc7678-8b30-4600-b7cf-1d209e63667e",
   "metadata": {},
   "outputs": [],
   "source": [
    "#3D-array\n",
    "data3 = np.array([[[2,4,5,6,8],[2,7,4,1,9]], [[2,4,5,6,8],[2,7,4,1,9]]])\n",
    "data3.shape"
   ]
  },
  {
   "cell_type": "code",
   "execution_count": null,
   "id": "adde8c01-53b2-4dc1-a40c-5ad71800eb2d",
   "metadata": {},
   "outputs": [],
   "source": [
    "x1 = np.zeros([3,3])\n",
    "y1 = np.ones([3,3])\n",
    "I = np.eye(5)\n",
    "print(x1)\n",
    "print(y1)\n",
    "print(I)"
   ]
  },
  {
   "cell_type": "code",
   "execution_count": null,
   "id": "a2a50404-e2ea-42fb-8ad0-32d0c1fa08bc",
   "metadata": {},
   "outputs": [],
   "source": [
    "x = [2,4,5,6]\n",
    "x = np.reshape(x,[2,2])\n",
    "x"
   ]
  },
  {
   "cell_type": "code",
   "execution_count": null,
   "id": "cb05d4f4-c01f-4c07-bc1f-13cca58c6bb5",
   "metadata": {},
   "outputs": [],
   "source": [
    "np.log(x)"
   ]
  },
  {
   "cell_type": "code",
   "execution_count": null,
   "id": "72788d03-51cd-4dbc-8d6f-ce9a2a36c8a1",
   "metadata": {},
   "outputs": [],
   "source": [
    "import numpy as np\n",
    "import matplotlib.pyplot as plt\n",
    "\n",
    "x = np.linspace(0,5,100)\n",
    "y = np.sin(x)\n",
    "\n",
    "plt.plot(x,y)\n"
   ]
  },
  {
   "cell_type": "markdown",
   "id": "f9e78f2e-3fde-4f5d-b3d4-ce85325806ac",
   "metadata": {},
   "source": [
    "## Pandas\n",
    "\n",
    "Powerful data structures for data analysis, time series, and statistics\n",
    "\n",
    "https://pandas.pydata.org/ \n",
    "\n"
   ]
  },
  {
   "cell_type": "code",
   "execution_count": null,
   "id": "b1d9e0c4-9e1a-4270-8dee-27ee4fe53ad4",
   "metadata": {},
   "outputs": [],
   "source": [
    "import pandas as pd"
   ]
  },
  {
   "cell_type": "markdown",
   "id": "0fa132e5-fd20-408b-814e-cf171798146c",
   "metadata": {},
   "source": [
    "### Series "
   ]
  },
  {
   "cell_type": "markdown",
   "id": "bcee11ba-48fe-472f-890c-4d697af719e3",
   "metadata": {},
   "source": [
    "#### Declaring"
   ]
  },
  {
   "cell_type": "code",
   "execution_count": null,
   "id": "1f5b3b23-b444-4375-822a-5a39fd4813c4",
   "metadata": {},
   "outputs": [],
   "source": [
    "s = pd.Series([12,-4,7,9])\n"
   ]
  },
  {
   "cell_type": "code",
   "execution_count": null,
   "id": "f3970ceb-21f9-44d7-8209-6912d888f254",
   "metadata": {},
   "outputs": [],
   "source": [
    "# Check in Consol\n",
    "s\n",
    "s.values\n",
    "s.index"
   ]
  },
  {
   "cell_type": "code",
   "execution_count": null,
   "id": "b2df2ffb-84cf-4fb9-8824-1bc23af84119",
   "metadata": {},
   "outputs": [],
   "source": [
    "s = pd.Series([12,-4,7,9], index=['a','b','c','d'])\n"
   ]
  },
  {
   "cell_type": "markdown",
   "id": "f9ba8b0e-5d41-43f0-9cb1-6f09c957bdce",
   "metadata": {},
   "source": [
    "#### Selecting the Internal Elements"
   ]
  },
  {
   "cell_type": "code",
   "execution_count": null,
   "id": "7ada855b-95b0-44cf-b7b3-3e1deaa2539e",
   "metadata": {},
   "outputs": [],
   "source": [
    "s[2]"
   ]
  },
  {
   "cell_type": "code",
   "execution_count": null,
   "id": "b67a5b68-5990-4a02-896c-ab6cf81da648",
   "metadata": {},
   "outputs": [],
   "source": [
    "s['b']"
   ]
  },
  {
   "cell_type": "code",
   "execution_count": null,
   "id": "5b1feb8e-b241-4c5b-9510-7059330bb416",
   "metadata": {},
   "outputs": [],
   "source": [
    "s[:3]"
   ]
  },
  {
   "cell_type": "code",
   "execution_count": null,
   "id": "2fcabde3-0786-47ff-a05e-f705a689027f",
   "metadata": {},
   "outputs": [],
   "source": [
    "s[['b','d']]"
   ]
  },
  {
   "cell_type": "markdown",
   "id": "3b6f96ac-c553-4d6b-94db-d0b661360413",
   "metadata": {},
   "source": [
    "#### Assigning Values to the Elements"
   ]
  },
  {
   "cell_type": "code",
   "execution_count": null,
   "id": "28fbf81f-0606-4cb4-9847-7d724c2ddc1c",
   "metadata": {},
   "outputs": [],
   "source": [
    "s[2]=0"
   ]
  },
  {
   "cell_type": "code",
   "execution_count": null,
   "id": "6f1cc510-66e0-43ae-a86b-288492f93602",
   "metadata": {},
   "outputs": [],
   "source": [
    "s['c'] = 8"
   ]
  },
  {
   "cell_type": "code",
   "execution_count": null,
   "id": "db2cbf3d-08be-40f2-be53-a7bc392eebc8",
   "metadata": {},
   "outputs": [],
   "source": [
    "s[['a','b']] = [12,14]"
   ]
  },
  {
   "cell_type": "markdown",
   "id": "347cce0f-9247-4aef-b0d9-2d6907093fd2",
   "metadata": {},
   "source": [
    "#### Filtering Values"
   ]
  },
  {
   "cell_type": "code",
   "execution_count": null,
   "id": "d30df699-5782-43cd-a044-cd9e33608a71",
   "metadata": {},
   "outputs": [],
   "source": [
    "s[s<10]"
   ]
  },
  {
   "cell_type": "code",
   "execution_count": null,
   "id": "af6b36e3-a53d-4b4f-9ce0-9b4f2de1c179",
   "metadata": {},
   "outputs": [],
   "source": [
    "s[(s>8) & (s<14)]"
   ]
  },
  {
   "cell_type": "markdown",
   "id": "7960c41a-2fda-43b6-b17c-2dfedf85a69f",
   "metadata": {},
   "source": [
    "#### Operations and Mathematical Functions"
   ]
  },
  {
   "cell_type": "code",
   "execution_count": null,
   "id": "b4ada642-1701-40e5-90a5-f914092b63b6",
   "metadata": {},
   "outputs": [],
   "source": [
    "import numpy as np"
   ]
  },
  {
   "cell_type": "code",
   "execution_count": null,
   "id": "22469116-1dea-4868-bfb2-6bc3fec63d47",
   "metadata": {},
   "outputs": [],
   "source": [
    "s/3"
   ]
  },
  {
   "cell_type": "code",
   "execution_count": null,
   "id": "c16caa77-f2e7-488e-b5a5-57e5bb3b5b4e",
   "metadata": {},
   "outputs": [],
   "source": [
    "np.sqrt(s)"
   ]
  },
  {
   "cell_type": "code",
   "execution_count": null,
   "id": "4219b599-a185-430f-86fb-407ee7232853",
   "metadata": {},
   "outputs": [],
   "source": [
    "np.log(s)"
   ]
  },
  {
   "cell_type": "markdown",
   "id": "4b000513-3550-4f77-952f-bc5dd4d53c62",
   "metadata": {},
   "source": [
    "#### Useful Methods "
   ]
  },
  {
   "cell_type": "code",
   "execution_count": null,
   "id": "227969d4-8981-42c5-82b1-b3b355d2df5f",
   "metadata": {},
   "outputs": [],
   "source": [
    "s = pd.Series([1,0,2,1,2,3], index=['white','white','blue','green','green','yellow'])\n",
    "s"
   ]
  },
  {
   "cell_type": "code",
   "execution_count": null,
   "id": "56c31180-8275-437f-ae99-b68c7c5dfc8b",
   "metadata": {},
   "outputs": [],
   "source": [
    "s.unique()"
   ]
  },
  {
   "cell_type": "code",
   "execution_count": null,
   "id": "884b7404-b106-4a89-a061-48152ac27030",
   "metadata": {},
   "outputs": [],
   "source": [
    "s.value_counts()"
   ]
  },
  {
   "cell_type": "code",
   "execution_count": null,
   "id": "0b0fff54-4cc3-40d9-8aa1-e2ed274061d1",
   "metadata": {},
   "outputs": [],
   "source": [
    "s.isin([2,3])"
   ]
  },
  {
   "cell_type": "code",
   "execution_count": null,
   "id": "bf3cce58-14b3-4237-8a4c-4a9fd86d79a9",
   "metadata": {},
   "outputs": [],
   "source": [
    "s[s.isin([2,3])]"
   ]
  },
  {
   "cell_type": "code",
   "execution_count": null,
   "id": "d93e9f71-7332-4d9d-a715-f0570462f293",
   "metadata": {},
   "outputs": [],
   "source": [
    "#Nan Value\n",
    "s['white'] =  np.NaN"
   ]
  },
  {
   "cell_type": "code",
   "execution_count": null,
   "id": "2797fd35-368d-49cc-9cc4-7826fcdbee16",
   "metadata": {},
   "outputs": [],
   "source": [
    "s.isna()"
   ]
  },
  {
   "cell_type": "code",
   "execution_count": null,
   "id": "1226eda8-54a3-4fd0-890e-f0a48e791bea",
   "metadata": {},
   "outputs": [],
   "source": [
    "s.isnull()"
   ]
  },
  {
   "cell_type": "code",
   "execution_count": null,
   "id": "5e317645-e3b3-490c-975a-4ea36c3d64c8",
   "metadata": {},
   "outputs": [],
   "source": [
    "s.notnull()"
   ]
  },
  {
   "cell_type": "code",
   "execution_count": null,
   "id": "68a40ee8-a232-40fc-b621-c551307c8792",
   "metadata": {},
   "outputs": [],
   "source": [
    "s[s.notnull()]"
   ]
  },
  {
   "cell_type": "code",
   "execution_count": null,
   "id": "7917c206-cd9f-45ef-b232-a05eab8f267f",
   "metadata": {},
   "outputs": [],
   "source": [
    "s.mean()"
   ]
  },
  {
   "cell_type": "markdown",
   "id": "213ca371-3f09-4805-ab74-4a30d2be57a8",
   "metadata": {},
   "source": [
    "### DataFrame"
   ]
  },
  {
   "cell_type": "markdown",
   "id": "ad711637-f6c4-4fe5-bd95-e3740ddc6a24",
   "metadata": {},
   "source": [
    "#### Defining a Dataframe"
   ]
  },
  {
   "cell_type": "code",
   "execution_count": null,
   "id": "7e1c6e5b-1ca6-476d-8b8c-83b9ccfee05b",
   "metadata": {},
   "outputs": [],
   "source": [
    "#dict object\n",
    "data = {'color' : ['blue','green','yellow','red','white'],\n",
    " 'object' : ['ball','pen','pencil','paper','mug'],\n",
    " 'price' : [1.2,1.0,0.6,0.9,1.7]}\n",
    "data"
   ]
  },
  {
   "cell_type": "code",
   "execution_count": null,
   "id": "0e73ac4a-f00e-40a8-b5f4-f6af15da90c1",
   "metadata": {},
   "outputs": [],
   "source": [
    "frame = pd.DataFrame(data)\n",
    "frame"
   ]
  },
  {
   "cell_type": "code",
   "execution_count": null,
   "id": "f27f3908-d16c-4c58-9b47-10bbc7d39244",
   "metadata": {},
   "outputs": [],
   "source": [
    "frame2 = pd.DataFrame(data, index=['one','two','three','four','five'])\n",
    "frame2"
   ]
  },
  {
   "cell_type": "code",
   "execution_count": null,
   "id": "1ff341cf-494d-4dbc-9a74-1241a5be9bd6",
   "metadata": {
    "tags": []
   },
   "outputs": [],
   "source": [
    "frame.index"
   ]
  },
  {
   "cell_type": "code",
   "execution_count": null,
   "id": "539eeb71-48be-451c-b8e0-60258571497c",
   "metadata": {},
   "outputs": [],
   "source": [
    "frame.values"
   ]
  },
  {
   "cell_type": "markdown",
   "id": "5d7a7e6e-65cc-4314-83fc-7c7af1a51014",
   "metadata": {},
   "source": [
    "#### Selecting Elements"
   ]
  },
  {
   "cell_type": "markdown",
   "id": "60f66c62-8904-43e5-a7a7-411527208c42",
   "metadata": {},
   "source": [
    "##### Select columns"
   ]
  },
  {
   "cell_type": "code",
   "execution_count": null,
   "id": "65af42fa-a766-48fa-ad8f-300b594e9ea4",
   "metadata": {},
   "outputs": [],
   "source": [
    "frame.columns"
   ]
  },
  {
   "cell_type": "code",
   "execution_count": null,
   "id": "bae3c40d-8ed4-47ef-8ad4-7fe324952261",
   "metadata": {},
   "outputs": [],
   "source": [
    "frame['price']"
   ]
  },
  {
   "cell_type": "code",
   "execution_count": null,
   "id": "00c83d6e-c5fe-4f7a-9507-afc226789aba",
   "metadata": {},
   "outputs": [],
   "source": [
    "frame.price"
   ]
  },
  {
   "cell_type": "code",
   "execution_count": null,
   "id": "6d7152d9-2700-4b9d-a530-c8f70fff447a",
   "metadata": {},
   "outputs": [],
   "source": [
    "frame[['object','price']]"
   ]
  },
  {
   "cell_type": "markdown",
   "id": "721d02bc-20e4-43b6-bf73-b987d45d1734",
   "metadata": {},
   "source": [
    "##### Select rows"
   ]
  },
  {
   "cell_type": "code",
   "execution_count": null,
   "id": "1680f520-3091-451c-81da-63c4060035d6",
   "metadata": {},
   "outputs": [],
   "source": [
    "#frame[2] is not available\n",
    "frame.loc[2]"
   ]
  },
  {
   "cell_type": "code",
   "execution_count": null,
   "id": "b912be63-691b-4a35-a16c-209b634ece5c",
   "metadata": {},
   "outputs": [],
   "source": [
    "frame[0:3]"
   ]
  },
  {
   "cell_type": "code",
   "execution_count": null,
   "id": "4230defc-ab3a-4253-9aa2-0fea9662313d",
   "metadata": {},
   "outputs": [],
   "source": [
    "frame.loc[2] = ['yellow','pencil',0.7]"
   ]
  },
  {
   "cell_type": "code",
   "execution_count": null,
   "id": "83504a0e-ad84-4c32-9cb9-e4858e9e9764",
   "metadata": {},
   "outputs": [],
   "source": [
    "frame.loc[[1,2]]"
   ]
  },
  {
   "cell_type": "code",
   "execution_count": null,
   "id": "c4a4d3ef-6481-4d5a-af41-451042923e6d",
   "metadata": {},
   "outputs": [],
   "source": [
    "frame2  # df with non-number indexing"
   ]
  },
  {
   "cell_type": "code",
   "execution_count": null,
   "id": "1415ff13-6feb-462b-8b6f-b04993b8ba57",
   "metadata": {},
   "outputs": [],
   "source": [
    "frame2.iloc[2]"
   ]
  },
  {
   "cell_type": "code",
   "execution_count": null,
   "id": "f33afb16-33c4-4d43-adf8-ec3318946f43",
   "metadata": {},
   "outputs": [],
   "source": [
    "frame2[0:3]"
   ]
  },
  {
   "cell_type": "markdown",
   "id": "1226a887-3ac8-40a6-abb3-fd5f777c06cb",
   "metadata": {},
   "source": [
    "##### Select columns and rows "
   ]
  },
  {
   "cell_type": "code",
   "execution_count": null,
   "id": "e8cfe338-28c7-48c0-8b2b-50a608b680a7",
   "metadata": {},
   "outputs": [],
   "source": [
    "frame['object'][3]"
   ]
  },
  {
   "cell_type": "code",
   "execution_count": null,
   "id": "16c4090d-ff33-40c9-be97-f56dc140750a",
   "metadata": {},
   "outputs": [],
   "source": [
    "frame.loc[3]['object']"
   ]
  },
  {
   "cell_type": "code",
   "execution_count": null,
   "id": "128a8c0f-af1b-4d2d-ba5e-6b367d081560",
   "metadata": {},
   "outputs": [],
   "source": [
    "frame['object'][:-1]"
   ]
  },
  {
   "cell_type": "markdown",
   "id": "72cd7624-a24b-4f85-b6bc-03947e15429d",
   "metadata": {
    "tags": []
   },
   "source": [
    "#### Assigning Values"
   ]
  },
  {
   "cell_type": "code",
   "execution_count": null,
   "id": "7eb8f4a3-2669-466d-bcfc-3cb7b3db668a",
   "metadata": {},
   "outputs": [],
   "source": [
    "frame3 = frame.copy()\n",
    "frame3['price'][2] = 3.9"
   ]
  },
  {
   "cell_type": "code",
   "execution_count": null,
   "id": "2ec50f74-4983-4f1a-8223-e55ac54226ca",
   "metadata": {},
   "outputs": [],
   "source": [
    "frame3.loc[2,'price'] = 1.1"
   ]
  },
  {
   "cell_type": "code",
   "execution_count": null,
   "id": "93086f70-eea5-4976-97d4-92cb02ee14d9",
   "metadata": {},
   "outputs": [],
   "source": [
    "frame3['new'] = [3.0,1.3,2.2,0.8,1.1]"
   ]
  },
  {
   "cell_type": "markdown",
   "id": "dd3544af-7021-4f53-b048-bc12bd8baf07",
   "metadata": {},
   "source": [
    "#### Filtering"
   ]
  },
  {
   "cell_type": "code",
   "execution_count": null,
   "id": "c8dee848-3d1c-46b3-b103-456b62916dd5",
   "metadata": {
    "tags": []
   },
   "outputs": [],
   "source": [
    "frame[frame['price'] > 2]"
   ]
  },
  {
   "cell_type": "code",
   "execution_count": null,
   "id": "784b7fc4-6c04-41a7-af32-9802569da7f4",
   "metadata": {},
   "outputs": [],
   "source": [
    "frame[ frame['object'].isin(['ball','pen'])]"
   ]
  },
  {
   "cell_type": "code",
   "execution_count": null,
   "id": "e1a8103d-6b63-4a03-9f0c-c9c5684dd274",
   "metadata": {},
   "outputs": [],
   "source": [
    "frame[(frame['object'].isin(['ball','pen'])) & (frame['price'] > 2)]"
   ]
  },
  {
   "cell_type": "markdown",
   "id": "5becbfb8-54ef-4ce1-a702-25d8c44d92f5",
   "metadata": {},
   "source": [
    "#### Deleting a Column"
   ]
  },
  {
   "cell_type": "code",
   "execution_count": null,
   "id": "dae3b1e8-26a1-4c2e-a931-0ef31069527e",
   "metadata": {},
   "outputs": [],
   "source": [
    "frame"
   ]
  },
  {
   "cell_type": "code",
   "execution_count": null,
   "id": "02b4287d-4fc4-42df-ae29-fcfeb2f4a4b7",
   "metadata": {},
   "outputs": [],
   "source": [
    "frame.drop(columns= ['new'])"
   ]
  },
  {
   "cell_type": "code",
   "execution_count": null,
   "id": "762a319f-00ae-4197-a913-744c9325cbe5",
   "metadata": {},
   "outputs": [],
   "source": [
    "frame3"
   ]
  },
  {
   "cell_type": "code",
   "execution_count": null,
   "id": "902e9cb4-7c43-4bef-87d5-bf68fc3f4f46",
   "metadata": {},
   "outputs": [],
   "source": [
    "del frame3['new']"
   ]
  },
  {
   "cell_type": "code",
   "execution_count": null,
   "id": "657ba032-d57f-4932-a3a1-be4be9003fd2",
   "metadata": {},
   "outputs": [],
   "source": []
  }
 ],
 "metadata": {
  "kernelspec": {
   "display_name": "Python 3 (ipykernel)",
   "language": "python",
   "name": "python3"
  },
  "language_info": {
   "codemirror_mode": {
    "name": "ipython",
    "version": 3
   },
   "file_extension": ".py",
   "mimetype": "text/x-python",
   "name": "python",
   "nbconvert_exporter": "python",
   "pygments_lexer": "ipython3",
   "version": "3.10.4"
  }
 },
 "nbformat": 4,
 "nbformat_minor": 5
}
