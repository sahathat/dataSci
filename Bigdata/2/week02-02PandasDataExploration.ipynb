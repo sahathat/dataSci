{
 "cells": [
  {
   "cell_type": "markdown",
   "id": "d85c8307-0c63-4003-9649-a237a9b68d17",
   "metadata": {},
   "source": [
    "# INT420-491 : pandas Data Exploration\n",
    "45-minutes study\n"
   ]
  },
  {
   "cell_type": "markdown",
   "id": "50df9641-054d-4a18-9412-774af1287f13",
   "metadata": {
    "tags": []
   },
   "source": [
    "### Reading CSV and Textual Files"
   ]
  },
  {
   "cell_type": "code",
   "execution_count": null,
   "id": "7884accf-82a5-47d2-a471-c3380be94909",
   "metadata": {},
   "outputs": [],
   "source": [
    "import pandas as pd"
   ]
  },
  {
   "cell_type": "markdown",
   "id": "fb132d36-db32-4cc7-8a77-dbb74f9c13ef",
   "metadata": {
    "tags": []
   },
   "source": [
    "#### COVID19 Tweets\n",
    "\n",
    "https://www.kaggle.com/datasets/gpreda/covid19-tweets"
   ]
  },
  {
   "cell_type": "code",
   "execution_count": null,
   "id": "a8e30e85-f02f-4d32-8593-da23f79c5b8f",
   "metadata": {},
   "outputs": [],
   "source": [
    "data = pd.read_csv(\"data-sample/tweets-data-covid19/covid19_tweets.csv\")"
   ]
  },
  {
   "cell_type": "code",
   "execution_count": null,
   "id": "e28ef6a5-dac9-4140-9921-0a2b376a10a3",
   "metadata": {},
   "outputs": [],
   "source": [
    "data.head()"
   ]
  },
  {
   "cell_type": "markdown",
   "id": "daac786c-9d5a-47fb-8262-23fdcab0464a",
   "metadata": {
    "tags": []
   },
   "source": [
    "#### E-Shop Clothing Dataset\n"
   ]
  },
  {
   "cell_type": "code",
   "execution_count": null,
   "id": "00f5c1eb-e129-41f0-8138-9871594dcd37",
   "metadata": {},
   "outputs": [],
   "source": [
    "data = pd.read_csv(\"data-sample/e-shop-data/e-shop-clothing-2008.csv\", sep = ';')"
   ]
  },
  {
   "cell_type": "code",
   "execution_count": null,
   "id": "c296f791-80d1-4872-90e7-860841a674f6",
   "metadata": {},
   "outputs": [],
   "source": [
    "data.head()"
   ]
  },
  {
   "cell_type": "markdown",
   "id": "508bdac7-c2b2-46ec-a2eb-a80578a4acb3",
   "metadata": {},
   "source": [
    "#### ข้อมูลการเฝ้าระวังสายพันธุ์ของเชื้อ SAR-CoV-2 ที่พบในประเทศไทย (SARS-CoV-2 variants in Thailand) โดย กรมวิทยาศาสตร์การแพทย์\n",
    "\n",
    "https://data.go.th/dataset/5b1fb1cf-7ddf-4194-89be-c2658fdcd7a8"
   ]
  },
  {
   "cell_type": "code",
   "execution_count": null,
   "id": "3447fa81-7d3c-441b-8408-26849eb17839",
   "metadata": {},
   "outputs": [],
   "source": [
    "data = pd.read_csv(\"https://data.go.th/dataset/5b1fb1cf-7ddf-4194-89be-c2658fdcd7a8/resource/152ed762-3c69-465e-a5ae-e592540559d8/download/sars-cov-2-variants-dmsc_290765.csv\")\n",
    "data.head()\n"
   ]
  },
  {
   "cell_type": "markdown",
   "id": "a32cda51-4e1c-4879-afde-0bf09e8f1cbe",
   "metadata": {},
   "source": [
    "#### ข้อมูลผู้โดยสาร โครงการรถไฟฟ้ามหานคร สายเฉลิมรัชมงคล และสายฉลองรัชธรรม\n",
    "\n",
    "https://data.go.th/dataset/fd781923-6c64-4cbc-90b8-83ad77c96ecd"
   ]
  },
  {
   "cell_type": "code",
   "execution_count": null,
   "id": "5ad9c7fb-40e2-4281-ab3e-438058060fce",
   "metadata": {},
   "outputs": [],
   "source": [
    "data = pd.read_excel(\"https://data.go.th/dataset/fd781923-6c64-4cbc-90b8-83ad77c96ecd/resource/8364f303-8f2f-4693-aa0c-2c96dc7cb075/download/-..-65.xlsx\")\n",
    "data.head()\n"
   ]
  },
  {
   "cell_type": "markdown",
   "id": "94d54e4e-2027-428a-856c-5c6d55d98a78",
   "metadata": {},
   "source": [
    "### Reading Json Files"
   ]
  },
  {
   "cell_type": "markdown",
   "id": "482bfa57-269d-4149-9a12-18e30064dcfb",
   "metadata": {},
   "source": [
    "#### Trending YouTube Video Statistics and Comments\n",
    "\n",
    "https://www.kaggle.com/datasets/datasnaek/youtube"
   ]
  },
  {
   "cell_type": "code",
   "execution_count": null,
   "id": "26aaba13-8db6-4726-9d87-374a968fb010",
   "metadata": {},
   "outputs": [],
   "source": [
    "data = pd.read_json(\"data-sample/datajson/GB_category_id.json\")\n",
    "data.head()"
   ]
  },
  {
   "cell_type": "code",
   "execution_count": null,
   "id": "6ab67a10-71e4-49da-b0a1-633dd171f681",
   "metadata": {},
   "outputs": [],
   "source": [
    "data['items']"
   ]
  },
  {
   "cell_type": "code",
   "execution_count": null,
   "id": "88310646-4e74-4cec-9ef5-85bb3f270f95",
   "metadata": {},
   "outputs": [],
   "source": [
    "data[\"items\"][0]"
   ]
  },
  {
   "cell_type": "code",
   "execution_count": null,
   "id": "bb094a7d-106e-44f1-bb3a-c9b5e3ea71fd",
   "metadata": {},
   "outputs": [],
   "source": [
    "data[\"items\"][0]['snippet']"
   ]
  },
  {
   "cell_type": "code",
   "execution_count": null,
   "id": "ae74cb39-f435-439e-a8fd-746b418b0016",
   "metadata": {},
   "outputs": [],
   "source": [
    "data[\"items\"][0]['snippet']['title']"
   ]
  },
  {
   "cell_type": "markdown",
   "id": "be16b0db-b03b-4c0f-b53c-09616b74b722",
   "metadata": {},
   "source": [
    "## Basic Exploration\n"
   ]
  },
  {
   "cell_type": "markdown",
   "id": "16f61eec-c487-4e7e-8764-5ce70b24dce6",
   "metadata": {},
   "source": [
    "#### Data Overview"
   ]
  },
  {
   "cell_type": "code",
   "execution_count": null,
   "id": "eee626b9-c955-4417-a3bc-cd6dcd0bb51b",
   "metadata": {},
   "outputs": [],
   "source": [
    "data = pd.read_csv(\"data-sample/tweets-data-covid19/covid19_tweets.csv\")\n"
   ]
  },
  {
   "cell_type": "code",
   "execution_count": null,
   "id": "243a5d5a-6c2f-4fca-bef3-b935f298dcf1",
   "metadata": {},
   "outputs": [],
   "source": [
    "#the first-n rows, default n=5\n",
    "data.head()"
   ]
  },
  {
   "cell_type": "code",
   "execution_count": null,
   "id": "979b3015-24a8-43be-bcf5-edbd00a4b239",
   "metadata": {},
   "outputs": [],
   "source": [
    "#the last-n rows, default n=5\n",
    "data.tail()"
   ]
  },
  {
   "cell_type": "code",
   "execution_count": null,
   "id": "8e8651ee-01ee-45ee-a678-2f8fa6c4b32b",
   "metadata": {},
   "outputs": [],
   "source": [
    "#summary info\n",
    "data.info()"
   ]
  },
  {
   "cell_type": "code",
   "execution_count": null,
   "id": "ff3a68d5-23a0-4d9f-89a6-ef503d42b638",
   "metadata": {},
   "outputs": [],
   "source": [
    "#column name\n",
    "data.columns"
   ]
  },
  {
   "cell_type": "code",
   "execution_count": null,
   "id": "32ae7c1c-ecea-4aad-a17c-4c488004d956",
   "metadata": {},
   "outputs": [],
   "source": [
    "#data types for all columns\n",
    "data.dtypes"
   ]
  },
  {
   "cell_type": "code",
   "execution_count": null,
   "id": "7a919519-1a24-4a46-b464-b5d0422ae5a8",
   "metadata": {},
   "outputs": [],
   "source": [
    "#number of rows and columns\n",
    "data.shape"
   ]
  },
  {
   "cell_type": "markdown",
   "id": "2b0efbac-f1b9-4cf8-8e44-f0df0d743347",
   "metadata": {},
   "source": [
    "#### Data Checking Null/NaN"
   ]
  },
  {
   "cell_type": "code",
   "execution_count": null,
   "id": "22533e4a-9d4f-4e13-814f-4cda98fe09b4",
   "metadata": {},
   "outputs": [],
   "source": [
    "data.isna().sum()"
   ]
  },
  {
   "cell_type": "code",
   "execution_count": null,
   "id": "6a5cad75-3332-49a1-a31b-5f099281ff94",
   "metadata": {},
   "outputs": [],
   "source": [
    "data = data.dropna()"
   ]
  },
  {
   "cell_type": "code",
   "execution_count": null,
   "id": "14907fad-faf9-4e78-af93-37ca0176fbf4",
   "metadata": {},
   "outputs": [],
   "source": [
    "data.shape"
   ]
  },
  {
   "cell_type": "markdown",
   "id": "5c1a0d52-08b8-4304-b1f0-d7c6ff90ba0a",
   "metadata": {},
   "source": [
    "#### Columns/Attributes Selecting"
   ]
  },
  {
   "cell_type": "code",
   "execution_count": null,
   "id": "fbd85c5e-3de7-4cd5-9a76-2e10ad082083",
   "metadata": {},
   "outputs": [],
   "source": [
    "data = data.drop(columns=['text'])"
   ]
  },
  {
   "cell_type": "code",
   "execution_count": null,
   "id": "6344739a-d087-459e-b00a-fc577a20a81b",
   "metadata": {},
   "outputs": [],
   "source": [
    "data.columns"
   ]
  },
  {
   "cell_type": "code",
   "execution_count": null,
   "id": "96262f2a-7a1d-4f38-8093-05bba1100bf6",
   "metadata": {},
   "outputs": [],
   "source": [
    "data2= data[['user_followers','user_friends', 'user_favourites']]\n",
    "data2"
   ]
  },
  {
   "cell_type": "markdown",
   "id": "a211c2d8-cbac-4600-8266-cd06ff822e69",
   "metadata": {},
   "source": [
    "#### Basic Stat Summary"
   ]
  },
  {
   "cell_type": "code",
   "execution_count": null,
   "id": "b4eb80b2-5d70-475c-a8ff-67224f1ff675",
   "metadata": {},
   "outputs": [],
   "source": [
    "data2.max()"
   ]
  },
  {
   "cell_type": "code",
   "execution_count": null,
   "id": "a09ee33e-0936-4bc6-b874-8d7b0d4d18de",
   "metadata": {},
   "outputs": [],
   "source": [
    "data2.min()"
   ]
  },
  {
   "cell_type": "code",
   "execution_count": null,
   "id": "c83acc03-5e7a-4de8-ba9d-f7a7fe564ee8",
   "metadata": {},
   "outputs": [],
   "source": [
    "data2.mean()"
   ]
  },
  {
   "cell_type": "markdown",
   "id": "8449ca9d-e5c7-42b7-8af0-67550fa657f6",
   "metadata": {},
   "source": [
    "#### Grouping"
   ]
  },
  {
   "cell_type": "code",
   "execution_count": null,
   "id": "b0fe6b56-1570-41ad-bfab-1d713367d714",
   "metadata": {},
   "outputs": [],
   "source": [
    "data3 = data[['source', 'is_retweet']]\n",
    "data3.groupby('source').count()"
   ]
  },
  {
   "cell_type": "code",
   "execution_count": null,
   "id": "efd30a44-db87-4132-a5c3-0c3297d85178",
   "metadata": {},
   "outputs": [],
   "source": [
    "data3.groupby('source').count().sort_values(by='is_retweet',ascending = False )\n"
   ]
  },
  {
   "cell_type": "code",
   "execution_count": null,
   "id": "54a61044-0a22-4f41-8cc0-2d3255922be6",
   "metadata": {},
   "outputs": [],
   "source": [
    "data4 = data3.groupby('source').count().sort_values(by='is_retweet',ascending = False )['is_retweet'][:10]"
   ]
  },
  {
   "cell_type": "markdown",
   "id": "e77f7b87-c496-45a5-928f-5f7ea95fbe47",
   "metadata": {},
   "source": [
    "### Basic Plotting"
   ]
  },
  {
   "cell_type": "code",
   "execution_count": null,
   "id": "a626c508-d14d-4e77-aa80-008accb68cf3",
   "metadata": {},
   "outputs": [],
   "source": [
    "data4.plot.bar()"
   ]
  },
  {
   "cell_type": "code",
   "execution_count": null,
   "id": "6fb91750-bc36-4743-a3b3-210bd84e6ca9",
   "metadata": {},
   "outputs": [],
   "source": [
    "data['user_friends'].plot()"
   ]
  },
  {
   "cell_type": "code",
   "execution_count": null,
   "id": "7684b4ad-6100-457d-8461-a329c723a143",
   "metadata": {},
   "outputs": [],
   "source": [
    "data['user_friends'][:100].plot()"
   ]
  },
  {
   "cell_type": "code",
   "execution_count": null,
   "id": "f3906f81-cf20-447c-b725-09017a54b864",
   "metadata": {},
   "outputs": [],
   "source": []
  }
 ],
 "metadata": {
  "kernelspec": {
   "display_name": "Python 3 (ipykernel)",
   "language": "python",
   "name": "python3"
  },
  "language_info": {
   "codemirror_mode": {
    "name": "ipython",
    "version": 3
   },
   "file_extension": ".py",
   "mimetype": "text/x-python",
   "name": "python",
   "nbconvert_exporter": "python",
   "pygments_lexer": "ipython3",
   "version": "3.10.4"
  },
  "toc-autonumbering": false,
  "toc-showmarkdowntxt": false
 },
 "nbformat": 4,
 "nbformat_minor": 5
}
