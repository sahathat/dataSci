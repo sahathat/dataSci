{
 "cells": [
  {
   "cell_type": "markdown",
   "id": "b2102503-9d45-43fb-a21c-0ae1478cecd7",
   "metadata": {},
   "source": [
    "# INT420-491 : Intro Plotly & Dash \n",
    "\n",
    "45-minutes study"
   ]
  },
  {
   "cell_type": "markdown",
   "id": "de30dbee-8267-48d5-b23d-544cfaa77afa",
   "metadata": {},
   "source": [
    "\n",
    "## Plotly \n",
    "\n",
    "https://plotly.com/python/plotly-express/"
   ]
  },
  {
   "cell_type": "code",
   "execution_count": null,
   "id": "81437ae7-ed2d-44be-852d-a6a7b49ef8fa",
   "metadata": {},
   "outputs": [],
   "source": [
    "import plotly.express as px\n",
    "import pandas as pd"
   ]
  },
  {
   "cell_type": "code",
   "execution_count": null,
   "id": "ce424aa3-a1fd-4261-9abe-4f2c7f867030",
   "metadata": {},
   "outputs": [],
   "source": [
    "data_canada = px.data.gapminder().query(\"country == 'Canada'\")\n",
    "fig = px.bar(data_canada, x='year', y='pop')\n",
    "fig.show()"
   ]
  },
  {
   "cell_type": "markdown",
   "id": "b1e1ff92-8e79-4388-9b75-6f8eb2c1dfbb",
   "metadata": {},
   "source": [
    "### tweets-data-covid19"
   ]
  },
  {
   "cell_type": "code",
   "execution_count": null,
   "id": "c50bca5b-34ca-4b42-9c64-bea57fdd819c",
   "metadata": {},
   "outputs": [],
   "source": [
    "data = pd.read_csv(\"data-sample/tweets-data-covid19/covid19_tweets.csv\")\n"
   ]
  },
  {
   "cell_type": "code",
   "execution_count": null,
   "id": "9b7b0412-9c38-46db-968f-1357bc466fa2",
   "metadata": {},
   "outputs": [],
   "source": [
    "data3 = data[['source', 'is_retweet']]\n",
    "data3.groupby('source').count()"
   ]
  },
  {
   "cell_type": "code",
   "execution_count": null,
   "id": "66ed93f8-d008-41f9-b684-de0f9029b0b4",
   "metadata": {},
   "outputs": [],
   "source": [
    "data4 = data3.groupby('source').count().sort_values(by='is_retweet',ascending = False )['is_retweet'][:10]"
   ]
  },
  {
   "cell_type": "markdown",
   "id": "ed0b2020-99a8-4241-90f7-c9b917907e6d",
   "metadata": {},
   "source": [
    "### Prepare data frame for plotting"
   ]
  },
  {
   "cell_type": "code",
   "execution_count": null,
   "id": "78f0ca4a-50ee-43bc-93c3-b4f59dae48ee",
   "metadata": {},
   "outputs": [],
   "source": [
    "df = pd.DataFrame()"
   ]
  },
  {
   "cell_type": "code",
   "execution_count": null,
   "id": "aab90ed6-8ebd-44ba-8f64-59abb75fba86",
   "metadata": {},
   "outputs": [],
   "source": [
    "df['source'] = data4.index"
   ]
  },
  {
   "cell_type": "code",
   "execution_count": null,
   "id": "38d46335-9d2e-4856-9446-aa2db74d697e",
   "metadata": {},
   "outputs": [],
   "source": [
    "df['count'] = data4.values"
   ]
  },
  {
   "cell_type": "markdown",
   "id": "f8d11706-2852-4e9a-8667-1f870f164f96",
   "metadata": {},
   "source": [
    "#### Bar Plotting"
   ]
  },
  {
   "cell_type": "code",
   "execution_count": null,
   "id": "c78e5e68-acee-48b5-b6be-f25344cbae26",
   "metadata": {},
   "outputs": [],
   "source": [
    "fig = px.bar(df, x='source', y='count')\n",
    "fig.show()"
   ]
  },
  {
   "cell_type": "markdown",
   "id": "dcaf3747-d302-4339-b4b0-110451fc3cc8",
   "metadata": {},
   "source": [
    "## Dash\n",
    "https://dash.plotly.com/\n",
    "\n",
    "- **app.layout** : Building the layout of the dashboard\n",
    "- **@app.callback** : Adding interactivity to the dashboard"
   ]
  },
  {
   "cell_type": "code",
   "execution_count": null,
   "id": "8532217c-e43d-498f-b71c-7ba65346d147",
   "metadata": {},
   "outputs": [],
   "source": [
    "%%writefile app.py\n",
    "\n",
    "# Run this app with `python app.py` and\n",
    "# visit http://127.0.0.1:8050/ in your web browser.\n",
    "\n",
    "from dash import Dash, html, dcc\n",
    "import plotly.express as px\n",
    "import pandas as pd\n",
    "\n",
    "app = Dash(__name__)\n",
    "\n",
    "df = pd.DataFrame({\n",
    "    \"Fruit\": [\"Apples\", \"Oranges\", \"Bananas\", \"Apples\", \"Oranges\", \"Bananas\"],\n",
    "    \"Amount\": [4, 1, 2, 2, 4, 5],\n",
    "    \"City\": [\"SF\", \"SF\", \"SF\", \"Montreal\", \"Montreal\", \"Montreal\"]\n",
    "})\n",
    "\n",
    "fig = px.bar(df, x=\"Fruit\", y=\"Amount\", color=\"City\", barmode=\"group\")\n",
    "\n",
    "app.layout = html.Div(children=[\n",
    "    html.H1(children='Hello Dash'),\n",
    "\n",
    "    html.Div(children='''\n",
    "        Dash: A web application framework for your data.\n",
    "    '''),\n",
    "\n",
    "    dcc.Graph(\n",
    "        id='example-graph',\n",
    "        figure=fig\n",
    "    )\n",
    "])\n",
    "\n",
    "if __name__ == '__main__':\n",
    "    app.run_server(debug=True)\n"
   ]
  },
  {
   "cell_type": "code",
   "execution_count": null,
   "id": "da24c88a-45f0-4092-aa73-ca7f7a954623",
   "metadata": {},
   "outputs": [],
   "source": []
  }
 ],
 "metadata": {
  "kernelspec": {
   "display_name": "Python 3 (ipykernel)",
   "language": "python",
   "name": "python3"
  },
  "language_info": {
   "codemirror_mode": {
    "name": "ipython",
    "version": 3
   },
   "file_extension": ".py",
   "mimetype": "text/x-python",
   "name": "python",
   "nbconvert_exporter": "python",
   "pygments_lexer": "ipython3",
   "version": "3.10.4"
  }
 },
 "nbformat": 4,
 "nbformat_minor": 5
}
