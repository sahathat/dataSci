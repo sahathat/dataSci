{
 "cells": [
  {
   "cell_type": "markdown",
   "id": "a82c1bbe-b903-4dbc-80e3-7f4addddde2a",
   "metadata": {},
   "source": [
    "## INT420-491 : Categorical Data Encoding\n",
    "45-minutes study"
   ]
  },
  {
   "cell_type": "markdown",
   "id": "ec3f72b4-4127-49b3-a671-1ee55b2d8eb3",
   "metadata": {},
   "source": [
    "### Recap Imputation Missing Values"
   ]
  },
  {
   "cell_type": "markdown",
   "id": "02fd09c0-01b2-49d8-a98f-ad66fe410521",
   "metadata": {},
   "source": [
    "#### Define Functions"
   ]
  },
  {
   "cell_type": "code",
   "execution_count": null,
   "id": "a14fab33-a51c-4f0c-a18a-dd0904cb13d3",
   "metadata": {},
   "outputs": [],
   "source": [
    "import pandas as pd \n",
    "from myfunc6xxxxxxxxx import missing_value_summary\n",
    "import numpy as np\n",
    "from sklearn.impute import KNNImputer\n",
    "#pd.set_option('mode.chained_assignment','warn')\n",
    "#pd.set_option('mode.chained_assignment',None)"
   ]
  },
  {
   "cell_type": "code",
   "execution_count": null,
   "id": "30c8532f-b8be-4981-bcae-7633d34814a0",
   "metadata": {},
   "outputs": [],
   "source": [
    "def fillna_global_mean(df,col_im):\n",
    "    m = df[col_im].mean()\n",
    "    df[col_im] = df[col_im].fillna(m)\n",
    "    return df"
   ]
  },
  {
   "cell_type": "code",
   "execution_count": null,
   "id": "03120647-889f-49a5-b713-a813d5758ddc",
   "metadata": {},
   "outputs": [],
   "source": [
    "def fillna_group_mean(df,col_im,_col_gr):\n",
    "    for g in df[col_gr].unique():\n",
    "        m = df[col_im][df[col_gr]==g].mean()\n",
    "        df[col_im][df[col_gr]==g] = df[col_im][df[col_gr]==g].fillna(m)\n",
    "    return df"
   ]
  },
  {
   "cell_type": "code",
   "execution_count": null,
   "id": "3ca0f6b2-6319-4d44-9920-399fea33e49c",
   "metadata": {},
   "outputs": [],
   "source": [
    "def fillna_global_mode(df,col_im):\n",
    "    m = df[col_im].mode()[0]\n",
    "    df[col_im] = df[col_im].fillna(m)\n",
    "    return df"
   ]
  },
  {
   "cell_type": "code",
   "execution_count": null,
   "id": "6653b464-727b-40b8-83a5-0b56bbe98e30",
   "metadata": {},
   "outputs": [],
   "source": [
    "def fillna_group_mode(df,col_im,_col_gr):\n",
    "    for g in df[col_gr].unique():\n",
    "        m = df[col_im][df[col_gr]==g].mode()\n",
    "        df[col_im][df[col_gr]==g] = df[col_im][df[col_gr]==g].fillna(m)\n",
    "    return df"
   ]
  },
  {
   "cell_type": "code",
   "execution_count": null,
   "id": "72a2f552-7da6-4125-aa57-30f7374bf98c",
   "metadata": {},
   "outputs": [],
   "source": [
    "def fillna_knn(df,k):\n",
    "    #Homework Do something ...\n",
    "    imputer = KNNImputer(n_neighbors=k)\n",
    "    imputer.fit(df)\n",
    "    df = imputer.transform(df)\n",
    "    return df"
   ]
  },
  {
   "cell_type": "markdown",
   "id": "b8cef95e-56d5-4e14-a9c0-f97b733643f7",
   "metadata": {
    "tags": []
   },
   "source": [
    "### Read Data"
   ]
  },
  {
   "cell_type": "code",
   "execution_count": 315,
   "id": "e95c2c00-9640-4180-8e13-87573d7448cb",
   "metadata": {},
   "outputs": [],
   "source": [
    "from sklearn.preprocessing import LabelEncoder\n",
    "df_org = pd.read_csv(\"data/BigMartSales/train.csv\")\n",
    "df = df_org.copy()"
   ]
  },
  {
   "cell_type": "markdown",
   "id": "805fcddd-bbf4-4123-b165-1de38baa840c",
   "metadata": {
    "tags": []
   },
   "source": [
    "### Handle Missing Values "
   ]
  },
  {
   "cell_type": "code",
   "execution_count": null,
   "id": "ab5a0b0d-f532-43a4-94eb-36964293417e",
   "metadata": {},
   "outputs": [],
   "source": [
    "print('Before: ') \n",
    "print(missing_value_summary(df))\n",
    "df = fillna_global_mean(df, 'Item_Weight')\n",
    "df = fillna_global_mode(df, 'Outlet_Size')\n",
    "print('After: ') \n",
    "print(missing_value_summary(df))"
   ]
  },
  {
   "cell_type": "markdown",
   "id": "d7f93b81-0207-445a-9453-5e2088d0605e",
   "metadata": {},
   "source": [
    "## Encoding Categorical Data"
   ]
  },
  {
   "cell_type": "markdown",
   "id": "9e9d6a6d-b915-4dd2-ae47-cd29fafa3945",
   "metadata": {},
   "source": [
    "### Handle Categorical Data by **Replacing values**\n",
    "label as the given values"
   ]
  },
  {
   "cell_type": "code",
   "execution_count": null,
   "id": "f4040eb6-489b-4e08-a230-3ea68f5d5bc9",
   "metadata": {},
   "outputs": [],
   "source": [
    "# 'Outlet_Size'\n",
    "print(df['Outlet_Size'].unique())\n",
    "# 'Small'==>2, 'Medium'=>5, 'High'==> 10\n",
    "\n",
    "df['Outlet_Size'][df['Outlet_Size']=='Small'] = 2\n",
    "df['Outlet_Size'][df['Outlet_Size']=='Medium'] = 5\n",
    "df['Outlet_Size'][df['Outlet_Size']=='High'] = 10\n"
   ]
  },
  {
   "cell_type": "markdown",
   "id": "f903dd30-2f04-45a3-9769-f93b61fe500b",
   "metadata": {},
   "source": [
    "### Handle Categorical Data by **Label Encoding**\n",
    "label as $0$ to $n-1$ where $n$ is the number of categories."
   ]
  },
  {
   "cell_type": "code",
   "execution_count": null,
   "id": "0c96af71-0514-4a01-a4e9-ae9d7af775f5",
   "metadata": {
    "tags": []
   },
   "outputs": [],
   "source": [
    "#'Item_Type'\n",
    "df[['Item_Type']].head()\n",
    "\n",
    "lb_maker = LabelEncoder()\n",
    "df['Item_Type'] = lb_maker.fit_transform(df['Item_Type'])\n",
    "df[['Item_Type']].head()\n",
    "print(lb_maker.classes_)\n"
   ]
  },
  {
   "cell_type": "markdown",
   "id": "6858d895-f891-404c-abb1-4cc355af6156",
   "metadata": {},
   "source": [
    "### Handle Categorical Data by **One-Hot encoding**\n",
    "generate $n$ columns with 0/1 where $n$ is the number of categories. "
   ]
  },
  {
   "cell_type": "code",
   "execution_count": null,
   "id": "8c876452-f5d1-4a3c-a934-46f7eedef53b",
   "metadata": {},
   "outputs": [],
   "source": [
    "df = pd.get_dummies(df, columns=['Item_Fat_Content','Outlet_Type'], \n",
    "                    prefix = ['Item_Fat_Content','Outlet_Type'])"
   ]
  },
  {
   "cell_type": "markdown",
   "id": "d216311a-d0b9-4d71-8de5-72258df4971d",
   "metadata": {},
   "source": [
    "### Handle Categorical Data by **Binary Encoding**\n",
    "generate binary encoded vector, the number of columns = $\\log_2 n$"
   ]
  },
  {
   "cell_type": "code",
   "execution_count": null,
   "id": "3b602921-a816-4722-9002-582750a93ff5",
   "metadata": {},
   "outputs": [],
   "source": [
    "df['Outlet_Location_Type'].unique()"
   ]
  },
  {
   "cell_type": "code",
   "execution_count": null,
   "id": "3d959562-2198-4e5a-baab-fa8583e62ab1",
   "metadata": {},
   "outputs": [],
   "source": [
    "import category_encoders as ce\n",
    "encoder = ce.BinaryEncoder(cols=['Outlet_Location_Type'])\n",
    "df = encoder.fit_transform(df)"
   ]
  }
 ],
 "metadata": {
  "kernelspec": {
   "display_name": "Python 3 (ipykernel)",
   "language": "python",
   "name": "python3"
  },
  "language_info": {
   "codemirror_mode": {
    "name": "ipython",
    "version": 3
   },
   "file_extension": ".py",
   "mimetype": "text/x-python",
   "name": "python",
   "nbconvert_exporter": "python",
   "pygments_lexer": "ipython3",
   "version": "3.10.4"
  }
 },
 "nbformat": 4,
 "nbformat_minor": 5
}
