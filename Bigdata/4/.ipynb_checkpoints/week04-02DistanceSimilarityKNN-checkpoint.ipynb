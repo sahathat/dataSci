{
 "cells": [
  {
   "cell_type": "markdown",
   "id": "b044417d-05a1-4894-965a-d9158e892f52",
   "metadata": {},
   "source": [
    "## INT420-491 : Distance and Similarity + KNN \n",
    "45-minutes study"
   ]
  },
  {
   "cell_type": "code",
   "execution_count": null,
   "id": "5215cfa4-1559-4c4f-bcd5-c41c0a7c9875",
   "metadata": {},
   "outputs": [],
   "source": [
    "import pandas as pd \n",
    "from myfunc6xxxxxxxxx import missing_value_summary\n",
    "import numpy as np\n",
    "from sklearn.impute import KNNImputer\n",
    "#pd.set_option('mode.chained_assignment','warn')\n",
    "#pd.set_option('mode.chained_assignment',None)"
   ]
  },
  {
   "cell_type": "markdown",
   "id": "dc9d454c-7039-4241-8213-a7a3e41c2ef5",
   "metadata": {
    "tags": []
   },
   "source": [
    "### Read Data"
   ]
  },
  {
   "cell_type": "code",
   "execution_count": null,
   "id": "4e896930-f6fe-4e05-8287-30730e406dd0",
   "metadata": {},
   "outputs": [],
   "source": [
    "#Stroke Prediction Dataset\n",
    "df_org = pd.read_csv(\"data/StrokeData/healthcare-dataset-stroke-data.csv\")\n",
    "df = df_org.copy()"
   ]
  },
  {
   "cell_type": "markdown",
   "id": "46115867-f970-417d-886d-a3633ed34181",
   "metadata": {
    "tags": []
   },
   "source": [
    "### Handle Missing Values "
   ]
  },
  {
   "cell_type": "code",
   "execution_count": null,
   "id": "6e6fd645-569b-46fe-a25d-93e9ae103ec5",
   "metadata": {},
   "outputs": [],
   "source": [
    "print(df.shape)\n",
    "print('Before: ') \n",
    "print(missing_value_summary(df))\n",
    "\n",
    "#df['bmi'] = fillna_global_mean(df,'bmi')\n",
    "#df = fillna_group_mean(df,'bmi','stroke')\n",
    "df = df.dropna()\n",
    "\n",
    "print('After: ') \n",
    "print(missing_value_summary(df))\n",
    "print(df.shape)"
   ]
  },
  {
   "cell_type": "markdown",
   "id": "e9eb30e8-ade3-42b5-b588-1b7a39a093f8",
   "metadata": {},
   "source": [
    "### Select Columns with continuous values"
   ]
  },
  {
   "cell_type": "code",
   "execution_count": null,
   "id": "11b2424d-b7cf-4a42-91a0-1705b96297c4",
   "metadata": {},
   "outputs": [],
   "source": [
    "print(df.loc[0])"
   ]
  },
  {
   "cell_type": "code",
   "execution_count": null,
   "id": "667b0517-be03-4363-b709-8ba9d2597777",
   "metadata": {},
   "outputs": [],
   "source": [
    "data = df[['age','hypertension','avg_glucose_level','bmi']]\n",
    "label = df[['stroke']]"
   ]
  },
  {
   "cell_type": "markdown",
   "id": "494b2ce2-3485-4d71-9009-36733f86a066",
   "metadata": {},
   "source": [
    "### Distance"
   ]
  },
  {
   "cell_type": "code",
   "execution_count": null,
   "id": "82f9c888-056c-49bb-896c-860d753cb6fd",
   "metadata": {},
   "outputs": [],
   "source": [
    "import numpy as np "
   ]
  },
  {
   "cell_type": "code",
   "execution_count": null,
   "id": "cbb05c38-51e7-4cef-848e-7f667323a785",
   "metadata": {},
   "outputs": [],
   "source": [
    "v1 = data.iloc[0]\n",
    "v2 = data.iloc[1]"
   ]
  },
  {
   "cell_type": "code",
   "execution_count": null,
   "id": "01cce2ea-c9aa-41dc-befd-371a569c718e",
   "metadata": {},
   "outputs": [],
   "source": [
    "v1"
   ]
  },
  {
   "cell_type": "code",
   "execution_count": null,
   "id": "027cb55e-bc84-4969-8db1-785788be100e",
   "metadata": {},
   "outputs": [],
   "source": [
    "v2"
   ]
  },
  {
   "cell_type": "code",
   "execution_count": null,
   "id": "a7d7203d-61c0-4b7b-a904-359a53fc40d8",
   "metadata": {},
   "outputs": [],
   "source": [
    "v1-v2"
   ]
  },
  {
   "cell_type": "code",
   "execution_count": null,
   "id": "5be0d54c-f6ca-4b39-8ee1-283a39de1ff6",
   "metadata": {},
   "outputs": [],
   "source": [
    "(v1-v2)*(v1-v2)"
   ]
  },
  {
   "cell_type": "code",
   "execution_count": null,
   "id": "c26161a6-7355-47e2-bb96-21ae7bbf99af",
   "metadata": {},
   "outputs": [],
   "source": [
    "np.power(v1-v2,2)"
   ]
  },
  {
   "cell_type": "code",
   "execution_count": null,
   "id": "14ebb5ee-11ec-4e9b-bfbc-e4247e18fa4c",
   "metadata": {},
   "outputs": [],
   "source": [
    "np.sum(np.power(v1-v2,2))"
   ]
  },
  {
   "cell_type": "code",
   "execution_count": null,
   "id": "880c3278-9a5f-4b74-b974-52ecc7d4217a",
   "metadata": {},
   "outputs": [],
   "source": [
    "np.sqrt(np.sum(np.power(v1-v2,2)))"
   ]
  },
  {
   "cell_type": "code",
   "execution_count": null,
   "id": "b0e61183-ad2f-405b-be75-234297bdf568",
   "metadata": {},
   "outputs": [],
   "source": [
    "#Euclidean Distance\n",
    "dist = np.sqrt(np.sum(np.power(v1-v2,2)))"
   ]
  },
  {
   "cell_type": "code",
   "execution_count": null,
   "id": "2b5bd98e-6b75-4c7f-a8d2-7a643360b193",
   "metadata": {},
   "outputs": [],
   "source": [
    "#Manhatan Distance\n",
    "#...Try Coding.."
   ]
  },
  {
   "cell_type": "code",
   "execution_count": null,
   "id": "978bccf9-c8b6-4ef7-8c58-11a8723c2bc7",
   "metadata": {},
   "outputs": [],
   "source": []
  },
  {
   "cell_type": "markdown",
   "id": "19b42d5a-4fa7-4c55-bc7e-9020d5bc1d03",
   "metadata": {},
   "source": [
    "### Similarity"
   ]
  },
  {
   "cell_type": "code",
   "execution_count": null,
   "id": "3d30e836-827b-49f7-a065-88e30f25ba1b",
   "metadata": {},
   "outputs": [],
   "source": [
    "v1"
   ]
  },
  {
   "cell_type": "code",
   "execution_count": null,
   "id": "791e7499-ee66-49cb-8f72-60e680fddd0a",
   "metadata": {},
   "outputs": [],
   "source": [
    "v2"
   ]
  },
  {
   "cell_type": "code",
   "execution_count": null,
   "id": "6826534c-f13a-4a61-b560-cc95ee6c7fda",
   "metadata": {},
   "outputs": [],
   "source": [
    "v1*v1"
   ]
  },
  {
   "cell_type": "code",
   "execution_count": null,
   "id": "a4288941-7db0-408d-b060-81e86f56326a",
   "metadata": {},
   "outputs": [],
   "source": [
    "np.sum(v1*v1)"
   ]
  },
  {
   "cell_type": "code",
   "execution_count": null,
   "id": "bdbe7d90-ef5e-41e7-8e0c-4f3759942e16",
   "metadata": {},
   "outputs": [],
   "source": [
    "np.sqrt(np.sum(v1*v1)) #norm of v1"
   ]
  },
  {
   "cell_type": "code",
   "execution_count": null,
   "id": "a32d9134-cc5c-4b7b-8638-ed98096c0c29",
   "metadata": {},
   "outputs": [],
   "source": [
    "np.sqrt(np.sum(v2*v2)) #norm of v2"
   ]
  },
  {
   "cell_type": "code",
   "execution_count": null,
   "id": "7ab403f8-ede2-4dba-b448-298c7991e99b",
   "metadata": {},
   "outputs": [],
   "source": [
    "v1*v2"
   ]
  },
  {
   "cell_type": "code",
   "execution_count": null,
   "id": "598e8433-81ef-496a-b60e-15cf2fc3b772",
   "metadata": {},
   "outputs": [],
   "source": [
    "np.sum(v1*v2)  # dot product of v1 and v2"
   ]
  },
  {
   "cell_type": "code",
   "execution_count": null,
   "id": "b5c4d8fc-0bd6-4e06-bb61-128e70b0b711",
   "metadata": {},
   "outputs": [],
   "source": [
    "np.sum(v1*v2) / (np.sqrt(np.sum(v1*v1)) * np.sqrt(np.sum(v2*v2)))"
   ]
  },
  {
   "cell_type": "code",
   "execution_count": null,
   "id": "bdeadaac-81f7-4063-bd65-720ca28b03e2",
   "metadata": {},
   "outputs": [],
   "source": [
    "similarity = np.sum(v1*v2) / (np.sqrt(np.sum(v1*v1)) * np.sqrt(np.sum(v2*v2)))"
   ]
  },
  {
   "cell_type": "code",
   "execution_count": null,
   "id": "fdf2eb40-1e9d-423e-9f05-fdf9aaebaaa7",
   "metadata": {},
   "outputs": [],
   "source": [
    "label[0:2]"
   ]
  },
  {
   "cell_type": "code",
   "execution_count": null,
   "id": "a5cfa455-5de2-4799-b2c0-9139d1f30110",
   "metadata": {},
   "outputs": [],
   "source": [
    "data[0:2]"
   ]
  },
  {
   "cell_type": "markdown",
   "id": "a57a71f9-6fb5-48fe-ab70-ceac8ca2191b",
   "metadata": {},
   "source": [
    "### Pairwise Distance Matrix"
   ]
  },
  {
   "cell_type": "code",
   "execution_count": null,
   "id": "98a7efc6-7300-4871-9721-935c31cc1763",
   "metadata": {},
   "outputs": [],
   "source": [
    "#https://scikit-learn.org/stable/modules/classes.html#module-sklearn.metrics.pairwise\n",
    "from sklearn.metrics.pairwise import euclidean_distances"
   ]
  },
  {
   "cell_type": "code",
   "execution_count": null,
   "id": "f1ef74f3-38c0-4fb7-887e-a4d21083bb28",
   "metadata": {},
   "outputs": [],
   "source": [
    "pdist = euclidean_distances(data)"
   ]
  },
  {
   "cell_type": "code",
   "execution_count": null,
   "id": "464cc9c2-5f1a-4293-aaf2-11b777136383",
   "metadata": {},
   "outputs": [],
   "source": [
    "data.shape"
   ]
  },
  {
   "cell_type": "code",
   "execution_count": null,
   "id": "34e06cc6-f912-4386-9b3a-1e840b1929ae",
   "metadata": {},
   "outputs": [],
   "source": [
    "pdist.shape"
   ]
  },
  {
   "cell_type": "code",
   "execution_count": null,
   "id": "e32ad111-8727-4bb8-bd9b-6cb58ca685cc",
   "metadata": {},
   "outputs": [],
   "source": [
    "pdist[0:3,0:3]"
   ]
  },
  {
   "cell_type": "markdown",
   "id": "5c33bb20-55b4-4b8c-b2c1-2c1255e0f78f",
   "metadata": {},
   "source": [
    "### Pairwise Similarity Matrix"
   ]
  },
  {
   "cell_type": "code",
   "execution_count": null,
   "id": "91c74c78-4e73-477e-b539-c8f13d275e84",
   "metadata": {},
   "outputs": [],
   "source": [
    "from sklearn.metrics.pairwise import cosine_similarity"
   ]
  },
  {
   "cell_type": "code",
   "execution_count": null,
   "id": "e17f1200-f506-4dda-8231-28938d25a2f4",
   "metadata": {},
   "outputs": [],
   "source": [
    "psim = cosine_similarity(data)"
   ]
  },
  {
   "cell_type": "code",
   "execution_count": null,
   "id": "8030c62b-437b-4529-85b3-f493fd59a9cc",
   "metadata": {},
   "outputs": [],
   "source": [
    "psim[0:3,0:3]"
   ]
  },
  {
   "cell_type": "markdown",
   "id": "06bae512-023d-4b65-bf18-22bcb3fabe59",
   "metadata": {},
   "source": [
    "### Find Nearest Point"
   ]
  },
  {
   "cell_type": "markdown",
   "id": "31090c8f-ebb0-4b42-b5e6-1d25c5ce808b",
   "metadata": {},
   "source": [
    "### Using Distance"
   ]
  },
  {
   "cell_type": "code",
   "execution_count": null,
   "id": "bc7e2e54-56e8-4e15-aebe-e24991e72972",
   "metadata": {},
   "outputs": [],
   "source": [
    "pdist = pdist+np.max(pdist)*np.eye(4909)"
   ]
  },
  {
   "cell_type": "code",
   "execution_count": null,
   "id": "a6751fa8-779f-4420-a176-2d9603482a87",
   "metadata": {},
   "outputs": [],
   "source": [
    "pdist"
   ]
  },
  {
   "cell_type": "code",
   "execution_count": null,
   "id": "5eda882b-cb48-4f4b-b310-8b85b42ac98c",
   "metadata": {},
   "outputs": [],
   "source": [
    "np.argmin(pdist[1,:])"
   ]
  },
  {
   "cell_type": "code",
   "execution_count": null,
   "id": "4a66fbf5-a5ed-4c96-b062-621df38b06cf",
   "metadata": {},
   "outputs": [],
   "source": [
    "data.iloc[885]"
   ]
  },
  {
   "cell_type": "code",
   "execution_count": null,
   "id": "71f41598-1a10-4260-b8ba-ba5da5a89278",
   "metadata": {},
   "outputs": [],
   "source": [
    "data.iloc[1]"
   ]
  },
  {
   "cell_type": "code",
   "execution_count": null,
   "id": "28700ae8-e67f-41fd-b9d5-28ec1f781d04",
   "metadata": {},
   "outputs": [],
   "source": [
    "label.iloc[1]"
   ]
  },
  {
   "cell_type": "code",
   "execution_count": null,
   "id": "43b2733d-0c22-41e7-9704-2bface1aa3d7",
   "metadata": {},
   "outputs": [],
   "source": [
    "label.iloc[885]"
   ]
  },
  {
   "cell_type": "markdown",
   "id": "15e1bcc5-4ea8-47d7-9207-45b623716241",
   "metadata": {},
   "source": [
    "#### Using Similarity"
   ]
  },
  {
   "cell_type": "code",
   "execution_count": null,
   "id": "a9493c85-3c09-42cd-8ef6-ef82d82520e7",
   "metadata": {},
   "outputs": [],
   "source": [
    "psim = psim-np.eye(4909)"
   ]
  },
  {
   "cell_type": "code",
   "execution_count": null,
   "id": "758675c9-0431-4224-a712-4dcc9e9ed698",
   "metadata": {},
   "outputs": [],
   "source": [
    "psim[0:4,0:4]"
   ]
  },
  {
   "cell_type": "code",
   "execution_count": null,
   "id": "f7e1e0dd-b4de-4a4e-9c66-2aff0b476bb0",
   "metadata": {},
   "outputs": [],
   "source": [
    "np.argmax(psim[1,:])"
   ]
  },
  {
   "cell_type": "code",
   "execution_count": null,
   "id": "7ca0761f-a92c-4bd5-b880-b9f0e4ff11d8",
   "metadata": {},
   "outputs": [],
   "source": [
    "data.iloc[3317]"
   ]
  },
  {
   "cell_type": "code",
   "execution_count": null,
   "id": "0d64f640-fcf2-4a56-aece-93c2014c8995",
   "metadata": {},
   "outputs": [],
   "source": [
    "data.iloc[1]"
   ]
  },
  {
   "cell_type": "code",
   "execution_count": null,
   "id": "1da37060-9a71-4f0b-9d6d-34d189e3a450",
   "metadata": {},
   "outputs": [],
   "source": [
    "label.iloc[3317]"
   ]
  },
  {
   "cell_type": "code",
   "execution_count": null,
   "id": "73561c99-ed4d-447a-bd73-ee7f63a70922",
   "metadata": {},
   "outputs": [],
   "source": [
    "label.iloc[1]"
   ]
  },
  {
   "cell_type": "code",
   "execution_count": null,
   "id": "7fb3df41-b5f0-49e3-952d-a877e8b03083",
   "metadata": {},
   "outputs": [],
   "source": []
  },
  {
   "cell_type": "markdown",
   "id": "c3d9dafa-e519-40f9-9a33-73eb59852c77",
   "metadata": {},
   "source": [
    "### KNN \n"
   ]
  },
  {
   "cell_type": "code",
   "execution_count": null,
   "id": "b3cb457d-1671-4656-940b-fe9e0c82e104",
   "metadata": {},
   "outputs": [],
   "source": [
    "k=3\n",
    "test_id = 1\n",
    "nn = pdist[test_id,:].argsort()[:k]"
   ]
  },
  {
   "cell_type": "code",
   "execution_count": null,
   "id": "7bb810d4-9fe8-4fc6-9de3-a5cded05f3e5",
   "metadata": {},
   "outputs": [],
   "source": [
    "label_neighbor = label.iloc[nn]['stroke']"
   ]
  },
  {
   "cell_type": "code",
   "execution_count": null,
   "id": "3443002e-bd16-46aa-b30c-c4986cf30324",
   "metadata": {},
   "outputs": [],
   "source": [
    "np.sum(label_neighbor==0)"
   ]
  },
  {
   "cell_type": "code",
   "execution_count": null,
   "id": "ec48fa06-f96b-49cb-b90c-9bdf2526424e",
   "metadata": {},
   "outputs": [],
   "source": [
    "np.sum(label_neighbor==1)"
   ]
  },
  {
   "cell_type": "code",
   "execution_count": null,
   "id": "00ba9094-6f8e-45e7-b706-78a850379933",
   "metadata": {},
   "outputs": [],
   "source": [
    "if (np.sum(label_neighbor==0) > np.sum(label_neighbor==1)) :\n",
    "    predict = 0\n",
    "else:\n",
    "    predict = 1"
   ]
  },
  {
   "cell_type": "code",
   "execution_count": null,
   "id": "0ffa3af2-da06-4fe4-ba2e-2b8d36721141",
   "metadata": {},
   "outputs": [],
   "source": [
    "print(\"Predict:\", predict)\n",
    "print(\"ACtual:\", label.iloc[test_id]['stroke'])"
   ]
  },
  {
   "cell_type": "code",
   "execution_count": null,
   "id": "3571251a-3354-4d9c-846b-30102cf100fe",
   "metadata": {},
   "outputs": [],
   "source": [
    "import plotly.express as px\n",
    "import pandas as pd"
   ]
  },
  {
   "cell_type": "code",
   "execution_count": null,
   "id": "7520537e-9e98-4b35-856c-1dc1e8a6275a",
   "metadata": {},
   "outputs": [],
   "source": [
    "df.head()"
   ]
  },
  {
   "cell_type": "code",
   "execution_count": null,
   "id": "10f97d78-ec21-4c44-a21a-a79dacdd1d25",
   "metadata": {},
   "outputs": [],
   "source": []
  },
  {
   "cell_type": "markdown",
   "id": "22e91bb6-e683-4247-8bc8-4e9e884df787",
   "metadata": {},
   "source": [
    "### Visualization \n",
    "- https://plotly.com/python/plotly-express/#gallery"
   ]
  },
  {
   "cell_type": "code",
   "execution_count": null,
   "id": "c23aa02d-9f40-4444-a450-707f513bc493",
   "metadata": {},
   "outputs": [],
   "source": [
    "\n",
    "import plotly.express as px\n",
    "df_plot = df.copy()\n",
    "df_plot[\"stroke\"] = df_plot[\"stroke\"].astype(\"category\")"
   ]
  },
  {
   "cell_type": "code",
   "execution_count": null,
   "id": "ed3bad92-3292-49da-a6a2-0ff96d727e0b",
   "metadata": {},
   "outputs": [],
   "source": [
    "#bar\n",
    "fig = px.bar(df_plot,x='age',y=\"stroke\")\n",
    "fig.show()"
   ]
  },
  {
   "cell_type": "code",
   "execution_count": null,
   "id": "0a289ccf-307d-4c3b-a7bb-82ccbf75ae90",
   "metadata": {},
   "outputs": [],
   "source": [
    "#histogram\n",
    "fig = px.histogram(df_plot,x=\"work_type\",facet_col='stroke')\n",
    "fig.show()"
   ]
  },
  {
   "cell_type": "code",
   "execution_count": null,
   "id": "d38fa132-f448-4b07-85b8-781be8d17ec2",
   "metadata": {},
   "outputs": [],
   "source": [
    "#scatter \n",
    "fig = px.scatter(df_plot[df_plot['age']>60], x=\"avg_glucose_level\", \n",
    "                 y='bmi', color=\"stroke\")  \n",
    "\n",
    "fig.show()"
   ]
  },
  {
   "cell_type": "markdown",
   "id": "6766b9a5-5c14-4d0a-a306-9b8e5a8b13d1",
   "metadata": {},
   "source": [
    "### Dash with Interactive \n",
    "- https://pypi.org/project/dash-tools/ \n",
    "- https://dash.plotly.com/\n",
    "- https://dash-tools.readthedocs.io/en/latest/index.html\n",
    "- https://pypi.org/project/dash-bootstrap-templates/\n"
   ]
  },
  {
   "cell_type": "code",
   "execution_count": null,
   "id": "69e878b1-8463-4d46-b70a-cad9b5e525bc",
   "metadata": {},
   "outputs": [],
   "source": []
  }
 ],
 "metadata": {
  "kernelspec": {
   "display_name": "Python 3 (ipykernel)",
   "language": "python",
   "name": "python3"
  },
  "language_info": {
   "codemirror_mode": {
    "name": "ipython",
    "version": 3
   },
   "file_extension": ".py",
   "mimetype": "text/x-python",
   "name": "python",
   "nbconvert_exporter": "python",
   "pygments_lexer": "ipython3",
   "version": "3.10.4"
  }
 },
 "nbformat": 4,
 "nbformat_minor": 5
}
