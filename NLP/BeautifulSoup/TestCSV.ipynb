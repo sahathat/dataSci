{
 "cells": [
  {
   "cell_type": "code",
   "execution_count": 67,
   "id": "4b4f9fcd-068f-4c1e-9508-6440044f40fd",
   "metadata": {},
   "outputs": [
    {
     "name": "stdout",
     "output_type": "stream",
     "text": [
      "A Light in the Attic: Â£51.77\n",
      "Tipping the Velvet: Â£53.74\n",
      "Soumission: Â£50.10\n",
      "Sharp Objects: Â£47.82\n",
      "Sapiens: A Brief History of Humankind: Â£54.23\n",
      "The Requiem Red: Â£22.65\n",
      "The Dirty Little Secrets of Getting Your Dream Job: Â£33.34\n",
      "The Coming Woman: A Novel Based on the Life of the Infamous Feminist, Victoria Woodhull: Â£17.93\n",
      "The Boys in the Boat: Nine Americans and Their Epic Quest for Gold at the 1936 Berlin Olympics: Â£22.60\n",
      "The Black Maria: Â£52.15\n",
      "Starving Hearts (Triangular Trade Trilogy, #1): Â£13.99\n",
      "Shakespeare's Sonnets: Â£20.66\n",
      "Set Me Free: Â£17.46\n",
      "Scott Pilgrim's Precious Little Life (Scott Pilgrim #1): Â£52.29\n",
      "Rip it Up and Start Again: Â£35.02\n",
      "Our Band Could Be Your Life: Scenes from the American Indie Underground, 1981-1991: Â£57.25\n",
      "Olio: Â£23.88\n",
      "Mesaerion: The Best Science Fiction Stories 1800-1849: Â£37.59\n",
      "Libertarianism for Beginners: Â£51.33\n",
      "It's Only the Himalayas: Â£45.17\n"
     ]
    }
   ],
   "source": [
    "import requests\n",
    "from bs4 import BeautifulSoup\n",
    "\n",
    "# Send a GET request to the website\n",
    "response = requests.get('https://books.toscrape.com/')\n",
    "\n",
    "# Parse the HTML content\n",
    "soup = BeautifulSoup(response.text, 'html.parser')\n",
    "\n",
    "# Find all the books on the page\n",
    "books = soup.find_all(class_='product_pod')\n",
    "\n",
    "# Print the title and price of each book\n",
    "for book in books:\n",
    "    title = book.h3.a['title']\n",
    "    price = book.find(class_='price_color').text\n",
    "    print(f'{title}: {price}')\n",
    "\n",
    "import csv\n",
    "\n",
    "# Open the file in write mode and specify the encoding\n",
    "with open('books.csv', 'w', encoding='utf-8') as csv_file:\n",
    "    # Create a CSV writer\n",
    "    writer = csv.writer(csv_file)\n",
    "\n",
    "    # Write the header row\n",
    "    writer.writerow(['Title', 'Price'])\n",
    "\n",
    "    # Write the data rows\n",
    "    for book in books:\n",
    "        title = book.h3.a['title']\n",
    "        price = book.find(class_='price_color').text\n",
    "        writer.writerow([title, price])"
   ]
  },
  {
   "cell_type": "code",
   "execution_count": 68,
   "id": "66f86bcf-00fa-4937-853c-878d2b8978d8",
   "metadata": {},
   "outputs": [],
   "source": [
    "import requests\n",
    "from bs4 import BeautifulSoup\n",
    "import csv\n",
    "\n",
    "# Send a GET request to the website\n",
    "response = requests.get('https://www.traversymedia.com')\n",
    "\n",
    "# Parse the HTML content\n",
    "soup = BeautifulSoup(response.text, 'html.parser')\n",
    "\n",
    "# Find all the course divs on the page\n",
    "courses = soup.find(id=\"courses\").find_all(class_=\"card\")\n",
    "\n",
    "# Open the file in write mode and specify the encoding\n",
    "with open('courses.csv', 'w', encoding='utf-8') as csv_file:\n",
    "    # Create a CSV writer\n",
    "    writer = csv.writer(csv_file)\n",
    "\n",
    "    # Write the header row\n",
    "    writer.writerow(['Title', 'Level', 'Promo Code'])\n",
    "\n",
    "    # Write the data rows\n",
    "    for course in courses:\n",
    "        title = course.h3.text\n",
    "        level = course.div.find(class_='level').text\n",
    "        promo = course.find(class_=\"promo\").text\n",
    "        writer.writerow([title, level, promo])"
   ]
  },
  {
   "cell_type": "code",
   "execution_count": null,
   "id": "155a1d12-a07e-43ea-acdf-d6c0ba897f28",
   "metadata": {},
   "outputs": [],
   "source": []
  }
 ],
 "metadata": {
  "kernelspec": {
   "display_name": "Python 3 (ipykernel)",
   "language": "python",
   "name": "python3"
  },
  "language_info": {
   "codemirror_mode": {
    "name": "ipython",
    "version": 3
   },
   "file_extension": ".py",
   "mimetype": "text/x-python",
   "name": "python",
   "nbconvert_exporter": "python",
   "pygments_lexer": "ipython3",
   "version": "3.10.5"
  },
  "vscode": {
   "interpreter": {
    "hash": "5aeebee734ec386c7afccc9f932f050ae049d83a28d14fb1964077b7a2f33db9"
   }
  }
 },
 "nbformat": 4,
 "nbformat_minor": 5
}
