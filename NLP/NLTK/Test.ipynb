{
 "cells": [
  {
   "cell_type": "code",
   "execution_count": 35,
   "id": "651e5f0f-311d-43c7-adfa-327f82fc3e26",
   "metadata": {},
   "outputs": [
    {
     "name": "stderr",
     "output_type": "stream",
     "text": [
      "[nltk_data] Downloading package punkt to\n",
      "[nltk_data]     C:\\Users\\Window10\\AppData\\Roaming\\nltk_data...\n",
      "[nltk_data]   Package punkt is already up-to-date!\n",
      "[nltk_data] Downloading package stopwords to\n",
      "[nltk_data]     C:\\Users\\Window10\\AppData\\Roaming\\nltk_data...\n",
      "[nltk_data]   Package stopwords is already up-to-date!\n",
      "[nltk_data] Downloading package averaged_perceptron_tagger to\n",
      "[nltk_data]     C:\\Users\\Window10\\AppData\\Roaming\\nltk_data...\n",
      "[nltk_data]   Package averaged_perceptron_tagger is already up-to-\n",
      "[nltk_data]       date!\n",
      "[nltk_data] Downloading package tagsets to\n",
      "[nltk_data]     C:\\Users\\Window10\\AppData\\Roaming\\nltk_data...\n",
      "[nltk_data]   Package tagsets is already up-to-date!\n",
      "[nltk_data] Downloading package wordnet to\n",
      "[nltk_data]     C:\\Users\\Window10\\AppData\\Roaming\\nltk_data...\n",
      "[nltk_data]   Package wordnet is already up-to-date!\n",
      "[nltk_data] Downloading package maxent_ne_chunker to\n",
      "[nltk_data]     C:\\Users\\Window10\\AppData\\Roaming\\nltk_data...\n",
      "[nltk_data]   Package maxent_ne_chunker is already up-to-date!\n",
      "[nltk_data] Downloading package words to\n",
      "[nltk_data]     C:\\Users\\Window10\\AppData\\Roaming\\nltk_data...\n",
      "[nltk_data]   Package words is already up-to-date!\n",
      "[nltk_data] Downloading collection 'book'\n",
      "[nltk_data]    | \n",
      "[nltk_data]    | Downloading package abc to\n",
      "[nltk_data]    |     C:\\Users\\Window10\\AppData\\Roaming\\nltk_data...\n",
      "[nltk_data]    |   Package abc is already up-to-date!\n",
      "[nltk_data]    | Downloading package brown to\n",
      "[nltk_data]    |     C:\\Users\\Window10\\AppData\\Roaming\\nltk_data...\n",
      "[nltk_data]    |   Package brown is already up-to-date!\n",
      "[nltk_data]    | Downloading package chat80 to\n",
      "[nltk_data]    |     C:\\Users\\Window10\\AppData\\Roaming\\nltk_data...\n",
      "[nltk_data]    |   Package chat80 is already up-to-date!\n",
      "[nltk_data]    | Downloading package cmudict to\n",
      "[nltk_data]    |     C:\\Users\\Window10\\AppData\\Roaming\\nltk_data...\n",
      "[nltk_data]    |   Package cmudict is already up-to-date!\n",
      "[nltk_data]    | Downloading package conll2000 to\n",
      "[nltk_data]    |     C:\\Users\\Window10\\AppData\\Roaming\\nltk_data...\n",
      "[nltk_data]    |   Package conll2000 is already up-to-date!\n",
      "[nltk_data]    | Downloading package conll2002 to\n",
      "[nltk_data]    |     C:\\Users\\Window10\\AppData\\Roaming\\nltk_data...\n",
      "[nltk_data]    |   Package conll2002 is already up-to-date!\n",
      "[nltk_data]    | Downloading package dependency_treebank to\n",
      "[nltk_data]    |     C:\\Users\\Window10\\AppData\\Roaming\\nltk_data...\n",
      "[nltk_data]    |   Package dependency_treebank is already up-to-date!\n",
      "[nltk_data]    | Downloading package genesis to\n",
      "[nltk_data]    |     C:\\Users\\Window10\\AppData\\Roaming\\nltk_data...\n",
      "[nltk_data]    |   Package genesis is already up-to-date!\n",
      "[nltk_data]    | Downloading package gutenberg to\n",
      "[nltk_data]    |     C:\\Users\\Window10\\AppData\\Roaming\\nltk_data...\n",
      "[nltk_data]    |   Package gutenberg is already up-to-date!\n",
      "[nltk_data]    | Downloading package ieer to\n",
      "[nltk_data]    |     C:\\Users\\Window10\\AppData\\Roaming\\nltk_data...\n",
      "[nltk_data]    |   Package ieer is already up-to-date!\n",
      "[nltk_data]    | Downloading package inaugural to\n",
      "[nltk_data]    |     C:\\Users\\Window10\\AppData\\Roaming\\nltk_data...\n",
      "[nltk_data]    |   Package inaugural is already up-to-date!\n",
      "[nltk_data]    | Downloading package movie_reviews to\n",
      "[nltk_data]    |     C:\\Users\\Window10\\AppData\\Roaming\\nltk_data...\n",
      "[nltk_data]    |   Package movie_reviews is already up-to-date!\n",
      "[nltk_data]    | Downloading package nps_chat to\n",
      "[nltk_data]    |     C:\\Users\\Window10\\AppData\\Roaming\\nltk_data...\n",
      "[nltk_data]    |   Package nps_chat is already up-to-date!\n",
      "[nltk_data]    | Downloading package names to\n",
      "[nltk_data]    |     C:\\Users\\Window10\\AppData\\Roaming\\nltk_data...\n",
      "[nltk_data]    |   Package names is already up-to-date!\n",
      "[nltk_data]    | Downloading package ppattach to\n",
      "[nltk_data]    |     C:\\Users\\Window10\\AppData\\Roaming\\nltk_data...\n",
      "[nltk_data]    |   Package ppattach is already up-to-date!\n",
      "[nltk_data]    | Downloading package reuters to\n",
      "[nltk_data]    |     C:\\Users\\Window10\\AppData\\Roaming\\nltk_data...\n",
      "[nltk_data]    |   Package reuters is already up-to-date!\n",
      "[nltk_data]    | Downloading package senseval to\n",
      "[nltk_data]    |     C:\\Users\\Window10\\AppData\\Roaming\\nltk_data...\n",
      "[nltk_data]    |   Package senseval is already up-to-date!\n",
      "[nltk_data]    | Downloading package state_union to\n",
      "[nltk_data]    |     C:\\Users\\Window10\\AppData\\Roaming\\nltk_data...\n",
      "[nltk_data]    |   Package state_union is already up-to-date!\n",
      "[nltk_data]    | Downloading package stopwords to\n",
      "[nltk_data]    |     C:\\Users\\Window10\\AppData\\Roaming\\nltk_data...\n",
      "[nltk_data]    |   Package stopwords is already up-to-date!\n",
      "[nltk_data]    | Downloading package swadesh to\n",
      "[nltk_data]    |     C:\\Users\\Window10\\AppData\\Roaming\\nltk_data...\n",
      "[nltk_data]    |   Package swadesh is already up-to-date!\n",
      "[nltk_data]    | Downloading package timit to\n",
      "[nltk_data]    |     C:\\Users\\Window10\\AppData\\Roaming\\nltk_data...\n",
      "[nltk_data]    |   Package timit is already up-to-date!\n",
      "[nltk_data]    | Downloading package treebank to\n",
      "[nltk_data]    |     C:\\Users\\Window10\\AppData\\Roaming\\nltk_data...\n",
      "[nltk_data]    |   Package treebank is already up-to-date!\n",
      "[nltk_data]    | Downloading package toolbox to\n",
      "[nltk_data]    |     C:\\Users\\Window10\\AppData\\Roaming\\nltk_data...\n",
      "[nltk_data]    |   Package toolbox is already up-to-date!\n",
      "[nltk_data]    | Downloading package udhr to\n",
      "[nltk_data]    |     C:\\Users\\Window10\\AppData\\Roaming\\nltk_data...\n",
      "[nltk_data]    |   Package udhr is already up-to-date!\n",
      "[nltk_data]    | Downloading package udhr2 to\n",
      "[nltk_data]    |     C:\\Users\\Window10\\AppData\\Roaming\\nltk_data...\n",
      "[nltk_data]    |   Package udhr2 is already up-to-date!\n",
      "[nltk_data]    | Downloading package unicode_samples to\n",
      "[nltk_data]    |     C:\\Users\\Window10\\AppData\\Roaming\\nltk_data...\n",
      "[nltk_data]    |   Package unicode_samples is already up-to-date!\n",
      "[nltk_data]    | Downloading package webtext to\n",
      "[nltk_data]    |     C:\\Users\\Window10\\AppData\\Roaming\\nltk_data...\n",
      "[nltk_data]    |   Package webtext is already up-to-date!\n",
      "[nltk_data]    | Downloading package wordnet to\n",
      "[nltk_data]    |     C:\\Users\\Window10\\AppData\\Roaming\\nltk_data...\n",
      "[nltk_data]    |   Package wordnet is already up-to-date!\n",
      "[nltk_data]    | Downloading package wordnet_ic to\n",
      "[nltk_data]    |     C:\\Users\\Window10\\AppData\\Roaming\\nltk_data...\n",
      "[nltk_data]    |   Package wordnet_ic is already up-to-date!\n",
      "[nltk_data]    | Downloading package words to\n",
      "[nltk_data]    |     C:\\Users\\Window10\\AppData\\Roaming\\nltk_data...\n",
      "[nltk_data]    |   Package words is already up-to-date!\n",
      "[nltk_data]    | Downloading package maxent_treebank_pos_tagger to\n",
      "[nltk_data]    |     C:\\Users\\Window10\\AppData\\Roaming\\nltk_data...\n",
      "[nltk_data]    |   Package maxent_treebank_pos_tagger is already up-\n",
      "[nltk_data]    |       to-date!\n",
      "[nltk_data]    | Downloading package maxent_ne_chunker to\n",
      "[nltk_data]    |     C:\\Users\\Window10\\AppData\\Roaming\\nltk_data...\n",
      "[nltk_data]    |   Package maxent_ne_chunker is already up-to-date!\n",
      "[nltk_data]    | Downloading package universal_tagset to\n",
      "[nltk_data]    |     C:\\Users\\Window10\\AppData\\Roaming\\nltk_data...\n",
      "[nltk_data]    |   Package universal_tagset is already up-to-date!\n",
      "[nltk_data]    | Downloading package punkt to\n",
      "[nltk_data]    |     C:\\Users\\Window10\\AppData\\Roaming\\nltk_data...\n",
      "[nltk_data]    |   Package punkt is already up-to-date!\n",
      "[nltk_data]    | Downloading package book_grammars to\n",
      "[nltk_data]    |     C:\\Users\\Window10\\AppData\\Roaming\\nltk_data...\n",
      "[nltk_data]    |   Package book_grammars is already up-to-date!\n",
      "[nltk_data]    | Downloading package city_database to\n",
      "[nltk_data]    |     C:\\Users\\Window10\\AppData\\Roaming\\nltk_data...\n",
      "[nltk_data]    |   Package city_database is already up-to-date!\n",
      "[nltk_data]    | Downloading package tagsets to\n",
      "[nltk_data]    |     C:\\Users\\Window10\\AppData\\Roaming\\nltk_data...\n",
      "[nltk_data]    |   Package tagsets is already up-to-date!\n",
      "[nltk_data]    | Downloading package panlex_swadesh to\n",
      "[nltk_data]    |     C:\\Users\\Window10\\AppData\\Roaming\\nltk_data...\n",
      "[nltk_data]    |   Package panlex_swadesh is already up-to-date!\n",
      "[nltk_data]    | Downloading package averaged_perceptron_tagger to\n",
      "[nltk_data]    |     C:\\Users\\Window10\\AppData\\Roaming\\nltk_data...\n",
      "[nltk_data]    |   Package averaged_perceptron_tagger is already up-\n",
      "[nltk_data]    |       to-date!\n",
      "[nltk_data]    | \n",
      "[nltk_data]  Done downloading collection book\n"
     ]
    }
   ],
   "source": [
    "from nltk.tokenize import sent_tokenize, word_tokenize\n",
    "import nltk\n",
    "nltk.download(\"punkt\")\n",
    "nltk.download(\"stopwords\")\n",
    "nltk.download('averaged_perceptron_tagger')\n",
    "nltk.download('tagsets')\n",
    "nltk.download('wordnet')\n",
    "nltk.download(\"maxent_ne_chunker\")\n",
    "nltk.download(\"words\")\n",
    "nltk.download(\"book\")\n",
    "from nltk.book import *\n",
    "from nltk.corpus import stopwords\n",
    "from nltk.stem import PorterStemmer, WordNetLemmatizer\n",
    "from nltk import FreqDist"
   ]
  },
  {
   "cell_type": "code",
   "execution_count": 9,
   "id": "e6b47279-c6bd-40c1-a105-b833c303f60d",
   "metadata": {},
   "outputs": [],
   "source": [
    "example_string = \"\"\"\n",
    "Muad'Dib learned rapidly because his first training was in how to learn.\n",
    "And the first lesson of all was the basic trust that he could learn.\n",
    "It's shocking to find how many people do not believe they can learn,\n",
    "and how many more believe learning to be difficult.\n",
    "The chart showed the data clearly, allowing us to easily understand the trends and patterns in the information.\"\"\""
   ]
  },
  {
   "cell_type": "code",
   "execution_count": 10,
   "id": "8bb5d827-df18-4068-9fcd-efd1d12743b5",
   "metadata": {},
   "outputs": [
    {
     "data": {
      "text/plain": [
       "[\"\\nMuad'Dib learned rapidly because his first training was in how to learn.\",\n",
       " 'And the first lesson of all was the basic trust that he could learn.',\n",
       " \"It's shocking to find how many people do not believe they can learn,\\nand how many more believe learning to be difficult.\",\n",
       " 'The chart showed the data clearly, allowing us to easily understand the trends and patterns in the information.']"
      ]
     },
     "execution_count": 10,
     "metadata": {},
     "output_type": "execute_result"
    }
   ],
   "source": [
    "sent_tokenize(example_string)"
   ]
  },
  {
   "cell_type": "code",
   "execution_count": 13,
   "id": "b2e7affb-f4fe-4a6a-8cfc-8e9ea3a4fa0e",
   "metadata": {},
   "outputs": [
    {
     "data": {
      "text/plain": [
       "[\"Muad'Dib\",\n",
       " 'learned',\n",
       " 'rapidly',\n",
       " 'because',\n",
       " 'his',\n",
       " 'first',\n",
       " 'training',\n",
       " 'was',\n",
       " 'in',\n",
       " 'how',\n",
       " 'to',\n",
       " 'learn',\n",
       " '.',\n",
       " 'And',\n",
       " 'the',\n",
       " 'first',\n",
       " 'lesson',\n",
       " 'of',\n",
       " 'all',\n",
       " 'was',\n",
       " 'the',\n",
       " 'basic',\n",
       " 'trust',\n",
       " 'that',\n",
       " 'he',\n",
       " 'could',\n",
       " 'learn',\n",
       " '.',\n",
       " 'It',\n",
       " \"'s\",\n",
       " 'shocking',\n",
       " 'to',\n",
       " 'find',\n",
       " 'how',\n",
       " 'many',\n",
       " 'people',\n",
       " 'do',\n",
       " 'not',\n",
       " 'believe',\n",
       " 'they',\n",
       " 'can',\n",
       " 'learn',\n",
       " ',',\n",
       " 'and',\n",
       " 'how',\n",
       " 'many',\n",
       " 'more',\n",
       " 'believe',\n",
       " 'learning',\n",
       " 'to',\n",
       " 'be',\n",
       " 'difficult',\n",
       " '.',\n",
       " 'The',\n",
       " 'chart',\n",
       " 'showed',\n",
       " 'the',\n",
       " 'data',\n",
       " 'clearly',\n",
       " ',',\n",
       " 'allowing',\n",
       " 'us',\n",
       " 'to',\n",
       " 'easily',\n",
       " 'understand',\n",
       " 'the',\n",
       " 'trends',\n",
       " 'and',\n",
       " 'patterns',\n",
       " 'in',\n",
       " 'the',\n",
       " 'information',\n",
       " '.']"
      ]
     },
     "execution_count": 13,
     "metadata": {},
     "output_type": "execute_result"
    }
   ],
   "source": [
    "word_tokenize(example_string)"
   ]
  },
  {
   "cell_type": "code",
   "execution_count": 15,
   "id": "e2f91fe7-4d8f-4798-99a3-1316138e3de1",
   "metadata": {},
   "outputs": [
    {
     "data": {
      "text/plain": [
       "['Sir', ',', 'I', 'protest', '.', 'I', 'am', 'not', 'a', 'merry', 'man', '!']"
      ]
     },
     "execution_count": 15,
     "metadata": {},
     "output_type": "execute_result"
    }
   ],
   "source": [
    "worf_quote = \"Sir, I protest. I am not a merry man!\"\n",
    "words_in_quote = word_tokenize(worf_quote)\n",
    "words_in_quote"
   ]
  },
  {
   "cell_type": "code",
   "execution_count": 44,
   "id": "57c03beb-d89c-487b-be6f-66fef1539ab1",
   "metadata": {},
   "outputs": [
    {
     "data": {
      "text/plain": [
       "{'a',\n",
       " 'about',\n",
       " 'above',\n",
       " 'after',\n",
       " 'again',\n",
       " 'against',\n",
       " 'ain',\n",
       " 'all',\n",
       " 'am',\n",
       " 'an',\n",
       " 'and',\n",
       " 'any',\n",
       " 'are',\n",
       " 'aren',\n",
       " \"aren't\",\n",
       " 'as',\n",
       " 'at',\n",
       " 'be',\n",
       " 'because',\n",
       " 'been',\n",
       " 'before',\n",
       " 'being',\n",
       " 'below',\n",
       " 'between',\n",
       " 'both',\n",
       " 'but',\n",
       " 'by',\n",
       " 'can',\n",
       " 'couldn',\n",
       " \"couldn't\",\n",
       " 'd',\n",
       " 'did',\n",
       " 'didn',\n",
       " \"didn't\",\n",
       " 'do',\n",
       " 'does',\n",
       " 'doesn',\n",
       " \"doesn't\",\n",
       " 'doing',\n",
       " 'don',\n",
       " \"don't\",\n",
       " 'down',\n",
       " 'during',\n",
       " 'each',\n",
       " 'few',\n",
       " 'for',\n",
       " 'from',\n",
       " 'further',\n",
       " 'had',\n",
       " 'hadn',\n",
       " \"hadn't\",\n",
       " 'has',\n",
       " 'hasn',\n",
       " \"hasn't\",\n",
       " 'have',\n",
       " 'haven',\n",
       " \"haven't\",\n",
       " 'having',\n",
       " 'he',\n",
       " 'her',\n",
       " 'here',\n",
       " 'hers',\n",
       " 'herself',\n",
       " 'him',\n",
       " 'himself',\n",
       " 'his',\n",
       " 'how',\n",
       " 'i',\n",
       " 'if',\n",
       " 'in',\n",
       " 'into',\n",
       " 'is',\n",
       " 'isn',\n",
       " \"isn't\",\n",
       " 'it',\n",
       " \"it's\",\n",
       " 'its',\n",
       " 'itself',\n",
       " 'just',\n",
       " 'll',\n",
       " 'm',\n",
       " 'ma',\n",
       " 'me',\n",
       " 'mightn',\n",
       " \"mightn't\",\n",
       " 'more',\n",
       " 'most',\n",
       " 'mustn',\n",
       " \"mustn't\",\n",
       " 'my',\n",
       " 'myself',\n",
       " 'needn',\n",
       " \"needn't\",\n",
       " 'no',\n",
       " 'nor',\n",
       " 'not',\n",
       " 'now',\n",
       " 'o',\n",
       " 'of',\n",
       " 'off',\n",
       " 'on',\n",
       " 'once',\n",
       " 'only',\n",
       " 'or',\n",
       " 'other',\n",
       " 'our',\n",
       " 'ours',\n",
       " 'ourselves',\n",
       " 'out',\n",
       " 'over',\n",
       " 'own',\n",
       " 're',\n",
       " 's',\n",
       " 'same',\n",
       " 'shan',\n",
       " \"shan't\",\n",
       " 'she',\n",
       " \"she's\",\n",
       " 'should',\n",
       " \"should've\",\n",
       " 'shouldn',\n",
       " \"shouldn't\",\n",
       " 'so',\n",
       " 'some',\n",
       " 'such',\n",
       " 't',\n",
       " 'than',\n",
       " 'that',\n",
       " \"that'll\",\n",
       " 'the',\n",
       " 'their',\n",
       " 'theirs',\n",
       " 'them',\n",
       " 'themselves',\n",
       " 'then',\n",
       " 'there',\n",
       " 'these',\n",
       " 'they',\n",
       " 'this',\n",
       " 'those',\n",
       " 'through',\n",
       " 'to',\n",
       " 'too',\n",
       " 'under',\n",
       " 'until',\n",
       " 'up',\n",
       " 've',\n",
       " 'very',\n",
       " 'was',\n",
       " 'wasn',\n",
       " \"wasn't\",\n",
       " 'we',\n",
       " 'were',\n",
       " 'weren',\n",
       " \"weren't\",\n",
       " 'what',\n",
       " 'when',\n",
       " 'where',\n",
       " 'which',\n",
       " 'while',\n",
       " 'who',\n",
       " 'whom',\n",
       " 'why',\n",
       " 'will',\n",
       " 'with',\n",
       " 'won',\n",
       " \"won't\",\n",
       " 'wouldn',\n",
       " \"wouldn't\",\n",
       " 'y',\n",
       " 'you',\n",
       " \"you'd\",\n",
       " \"you'll\",\n",
       " \"you're\",\n",
       " \"you've\",\n",
       " 'your',\n",
       " 'yours',\n",
       " 'yourself',\n",
       " 'yourselves'}"
      ]
     },
     "execution_count": 44,
     "metadata": {},
     "output_type": "execute_result"
    }
   ],
   "source": [
    "stop_words = set(stopwords.words(\"english\"))\n",
    "stop_words"
   ]
  },
  {
   "cell_type": "code",
   "execution_count": 21,
   "id": "cca63d79-5dae-4669-a29f-61f33a111e0e",
   "metadata": {},
   "outputs": [],
   "source": [
    "filtered_list = []"
   ]
  },
  {
   "cell_type": "code",
   "execution_count": 24,
   "id": "7b397eb6-ecd1-4b44-9065-c8485ee74849",
   "metadata": {},
   "outputs": [
    {
     "data": {
      "text/plain": [
       "['Sir', ',', 'protest', '.', 'merry', 'man', '!']"
      ]
     },
     "execution_count": 24,
     "metadata": {},
     "output_type": "execute_result"
    }
   ],
   "source": [
    "filtered_list = [word for word in words_in_quote if word.casefold() not in stop_words]\n",
    "filtered_list"
   ]
  },
  {
   "cell_type": "code",
   "execution_count": 69,
   "id": "d062f106-c576-4acb-a57d-9ac9011fd090",
   "metadata": {},
   "outputs": [],
   "source": [
    "message = \"\"\"\n",
    "The Porter stemming algorithm dates from 1979, \n",
    "so it’s a little on the older side. The Snowball stemmer, \n",
    "which is also called Porter2, is an improvement on the original \n",
    "and is also available through NLTK, so you can use that one in \n",
    "your own projects. It’s also worth noting that the purpose of the \n",
    "Porter stemmer is not to produce complete words but to find variant \n",
    "forms of a word.\"\"\"\n",
    "words = word_tokenize(message)"
   ]
  },
  {
   "cell_type": "code",
   "execution_count": 76,
   "id": "9158b547-334b-47a2-bee1-d8a3c52b69bb",
   "metadata": {},
   "outputs": [
    {
     "data": {
      "text/plain": [
       "['the',\n",
       " 'porter',\n",
       " 'stem',\n",
       " 'algorithm',\n",
       " 'date',\n",
       " 'from',\n",
       " '1979',\n",
       " ',',\n",
       " 'so',\n",
       " 'it',\n",
       " '’',\n",
       " 's',\n",
       " 'a',\n",
       " 'littl',\n",
       " 'on',\n",
       " 'the',\n",
       " 'older',\n",
       " 'side',\n",
       " '.',\n",
       " 'the',\n",
       " 'snowbal',\n",
       " 'stemmer',\n",
       " ',',\n",
       " 'which',\n",
       " 'is',\n",
       " 'also',\n",
       " 'call',\n",
       " 'porter2',\n",
       " ',',\n",
       " 'is',\n",
       " 'an',\n",
       " 'improv',\n",
       " 'on',\n",
       " 'the',\n",
       " 'origin',\n",
       " 'and',\n",
       " 'is',\n",
       " 'also',\n",
       " 'avail',\n",
       " 'through',\n",
       " 'nltk',\n",
       " ',',\n",
       " 'so',\n",
       " 'you',\n",
       " 'can',\n",
       " 'use',\n",
       " 'that',\n",
       " 'one',\n",
       " 'in',\n",
       " 'your',\n",
       " 'own',\n",
       " 'project',\n",
       " '.',\n",
       " 'It',\n",
       " '’',\n",
       " 's',\n",
       " 'also',\n",
       " 'worth',\n",
       " 'note',\n",
       " 'that',\n",
       " 'the',\n",
       " 'purpos',\n",
       " 'of',\n",
       " 'the',\n",
       " 'porter',\n",
       " 'stemmer',\n",
       " 'is',\n",
       " 'not',\n",
       " 'to',\n",
       " 'produc',\n",
       " 'complet',\n",
       " 'word',\n",
       " 'but',\n",
       " 'to',\n",
       " 'find',\n",
       " 'variant',\n",
       " 'form',\n",
       " 'of',\n",
       " 'a',\n",
       " 'word',\n",
       " '.']"
      ]
     },
     "execution_count": 76,
     "metadata": {},
     "output_type": "execute_result"
    }
   ],
   "source": [
    "stemmer = PorterStemmer()\n",
    "stemmed_words = [stemmer.stem(word) for word in words]\n",
    "stemmed_words"
   ]
  },
  {
   "cell_type": "code",
   "execution_count": 71,
   "id": "4a779ba1-8799-4386-a1a7-8dbd2a5c7abf",
   "metadata": {},
   "outputs": [
    {
     "data": {
      "text/plain": [
       "['The',\n",
       " 'Porter',\n",
       " 'stemming',\n",
       " 'algorithm',\n",
       " 'dates',\n",
       " 'from',\n",
       " '1979',\n",
       " ',',\n",
       " 'so',\n",
       " 'it',\n",
       " '’',\n",
       " 's',\n",
       " 'a',\n",
       " 'little',\n",
       " 'on',\n",
       " 'the',\n",
       " 'old',\n",
       " 'side',\n",
       " '.',\n",
       " 'The',\n",
       " 'Snowball',\n",
       " 'stemmer',\n",
       " ',',\n",
       " 'which',\n",
       " 'is',\n",
       " 'also',\n",
       " 'called',\n",
       " 'Porter2',\n",
       " ',',\n",
       " 'is',\n",
       " 'an',\n",
       " 'improvement',\n",
       " 'on',\n",
       " 'the',\n",
       " 'original',\n",
       " 'and',\n",
       " 'is',\n",
       " 'also',\n",
       " 'available',\n",
       " 'through',\n",
       " 'NLTK',\n",
       " ',',\n",
       " 'so',\n",
       " 'you',\n",
       " 'can',\n",
       " 'use',\n",
       " 'that',\n",
       " 'one',\n",
       " 'in',\n",
       " 'your',\n",
       " 'own',\n",
       " 'projects',\n",
       " '.',\n",
       " 'It',\n",
       " '’',\n",
       " 's',\n",
       " 'also',\n",
       " 'worth',\n",
       " 'noting',\n",
       " 'that',\n",
       " 'the',\n",
       " 'purpose',\n",
       " 'of',\n",
       " 'the',\n",
       " 'Porter',\n",
       " 'stemmer',\n",
       " 'is',\n",
       " 'not',\n",
       " 'to',\n",
       " 'produce',\n",
       " 'complete',\n",
       " 'words',\n",
       " 'but',\n",
       " 'to',\n",
       " 'find',\n",
       " 'variant',\n",
       " 'forms',\n",
       " 'of',\n",
       " 'a',\n",
       " 'word',\n",
       " '.']"
      ]
     },
     "execution_count": 71,
     "metadata": {},
     "output_type": "execute_result"
    }
   ],
   "source": [
    "lemmatizer = WordNetLemmatizer()\n",
    "lemmatized_words = [lemmatizer.lemmatize(word, pos=\"a\") for word in words]\n",
    "lemmatized_words"
   ]
  },
  {
   "cell_type": "code",
   "execution_count": 65,
   "id": "3c728289-ead2-454f-89b6-16c816e2eb6f",
   "metadata": {},
   "outputs": [
    {
     "data": {
      "text/plain": [
       "[('The', 'DT'),\n",
       " ('Porter', 'NNP'),\n",
       " ('stemming', 'VBG'),\n",
       " ('algorithm', 'JJ'),\n",
       " ('dates', 'NNS'),\n",
       " ('from', 'IN'),\n",
       " ('1979', 'CD'),\n",
       " (',', ','),\n",
       " ('so', 'IN'),\n",
       " ('it', 'PRP'),\n",
       " ('’', 'VBZ'),\n",
       " ('s', 'VBZ'),\n",
       " ('a', 'DT'),\n",
       " ('little', 'JJ'),\n",
       " ('on', 'IN'),\n",
       " ('the', 'DT'),\n",
       " ('older', 'JJR'),\n",
       " ('side', 'NN'),\n",
       " ('.', '.'),\n",
       " ('The', 'DT'),\n",
       " ('Snowball', 'NNP'),\n",
       " ('stemmer', 'NN'),\n",
       " (',', ','),\n",
       " ('which', 'WDT'),\n",
       " ('is', 'VBZ'),\n",
       " ('also', 'RB'),\n",
       " ('called', 'VBN'),\n",
       " ('Porter2', 'NNP'),\n",
       " (',', ','),\n",
       " ('is', 'VBZ'),\n",
       " ('an', 'DT'),\n",
       " ('improvement', 'NN'),\n",
       " ('on', 'IN'),\n",
       " ('the', 'DT'),\n",
       " ('original', 'JJ'),\n",
       " ('and', 'CC'),\n",
       " ('is', 'VBZ'),\n",
       " ('also', 'RB'),\n",
       " ('available', 'JJ'),\n",
       " ('through', 'IN'),\n",
       " ('NLTK', 'NNP'),\n",
       " (',', ','),\n",
       " ('so', 'IN'),\n",
       " ('you', 'PRP'),\n",
       " ('can', 'MD'),\n",
       " ('use', 'VB'),\n",
       " ('that', 'DT'),\n",
       " ('one', 'CD'),\n",
       " ('in', 'IN'),\n",
       " ('your', 'PRP$'),\n",
       " ('own', 'JJ'),\n",
       " ('projects', 'NNS'),\n",
       " ('.', '.'),\n",
       " ('It', 'PRP'),\n",
       " ('’', 'VBD'),\n",
       " ('s', 'NN'),\n",
       " ('also', 'RB'),\n",
       " ('worth', 'JJ'),\n",
       " ('noting', 'VBG'),\n",
       " ('that', 'IN'),\n",
       " ('the', 'DT'),\n",
       " ('purpose', 'NN'),\n",
       " ('of', 'IN'),\n",
       " ('the', 'DT'),\n",
       " ('Porter', 'NNP'),\n",
       " ('stemmer', 'NN'),\n",
       " ('is', 'VBZ'),\n",
       " ('not', 'RB'),\n",
       " ('to', 'TO'),\n",
       " ('produce', 'VB'),\n",
       " ('complete', 'JJ'),\n",
       " ('words', 'NNS'),\n",
       " ('but', 'CC'),\n",
       " ('to', 'TO'),\n",
       " ('find', 'VB'),\n",
       " ('variant', 'JJ'),\n",
       " ('forms', 'NNS'),\n",
       " ('of', 'IN'),\n",
       " ('a', 'DT'),\n",
       " ('word', 'NN'),\n",
       " ('.', '.')]"
      ]
     },
     "execution_count": 65,
     "metadata": {},
     "output_type": "execute_result"
    }
   ],
   "source": [
    "pos_word_on_tag = nltk.pos_tag(words)\n",
    "pos_word_on_tag"
   ]
  },
  {
   "cell_type": "code",
   "execution_count": 2,
   "id": "7d912b67-b471-4cb0-96de-d91a3877d281",
   "metadata": {},
   "outputs": [],
   "source": [
    "sentence = \"\"\"The chart showed a clear trend in the data, \n",
    "indicating a significant increase in sales over the past year.\"\"\"\n",
    "words = word_tokenize(sentence)\n",
    "pos_word_on_tag = nltk.pos_tag(words)\n",
    "pos_word_on_tag\n",
    "\n",
    "grammar = \"NNP: {<DT>?<JJ>*<NN>}\"\n",
    "chunk_parser = nltk.RegexpParser(grammar)\n",
    "tree = chunk_parser.parse(pos_word_on_tag)\n",
    "tree.draw()"
   ]
  },
  {
   "cell_type": "code",
   "execution_count": 3,
   "id": "9da98692-6bd2-4bf8-8008-049a7b3fc596",
   "metadata": {},
   "outputs": [],
   "source": [
    "grammar = \"\"\"Chunk: {<.*>+}\n",
    "       }<JJ>{\n",
    "       }<IN>{\"\"\"\n",
    "chunk_parser = nltk.RegexpParser(grammar)\n",
    "tree = chunk_parser.parse(pos_word_on_tag)\n",
    "tree.draw()"
   ]
  },
  {
   "cell_type": "code",
   "execution_count": 10,
   "id": "accf166d-4c25-4bbf-abb2-8dab4449a4c6",
   "metadata": {},
   "outputs": [],
   "source": [
    "sentence = \"\"\"President Obama made a statement on the government's\n",
    "response to the economic crisis in an interview with the BBC.\"\"\"\n",
    "words = word_tokenize(sentence)\n",
    "pos_word_on_tag = nltk.pos_tag(words)\n",
    "pos_word_on_tag\n",
    "tree = nltk.ne_chunk(pos_word_on_tag)\n",
    "tree.draw()\n",
    "''' https://www.nltk.org/book/ch07.html#sec-ner '''"
   ]
  },
  {
   "cell_type": "code",
   "execution_count": 22,
   "id": "fdc2accf-0583-44bd-8fe0-0269bfbeeec8",
   "metadata": {},
   "outputs": [],
   "source": [
    "def extract_ne(quote):\n",
    "    words = word_tokenize(quote, language=\"english\")\n",
    "    tags = nltk.pos_tag(words)\n",
    "    tree = nltk.ne_chunk(tags, binary=True)\n",
    "    return set(\n",
    "        \" \".join(i[0] for i in t)\n",
    "        for t in tree\n",
    "        if hasattr(t, \"label\") and t.label() == \"NE\"\n",
    "    )"
   ]
  },
  {
   "cell_type": "code",
   "execution_count": 21,
   "id": "39ce8d88-2465-4efa-b4e7-5b2997969081",
   "metadata": {},
   "outputs": [
    {
     "data": {
      "text/plain": [
       "{'American', 'BBC', 'Obama'}"
      ]
     },
     "execution_count": 21,
     "metadata": {},
     "output_type": "execute_result"
    }
   ],
   "source": [
    "article = \"\"\"President Obama and the government have been closely\n",
    "monitoring the economic situation in the country, particularly the\n",
    "stock and financial markets. In a breaking news interview with the BBC,\n",
    "President Obama addressed concerns about social security and assured\n",
    "the public that steps are being taken to stabilize the economy.\n",
    "The government is working tirelessly to find solutions to the current\n",
    "economic challenges and President Obama emphasized the importance of\n",
    "working together as a nation to overcome these obstacles. Despite the\n",
    "difficulties, he remained optimistic about the future and emphasized\n",
    "the resilience of the American people.\"\"\"\n",
    "extract_ne(article)"
   ]
  },
  {
   "cell_type": "code",
   "execution_count": 32,
   "id": "dd71429d-8ac9-4e80-9252-c74f3a456ae3",
   "metadata": {},
   "outputs": [
    {
     "name": "stdout",
     "output_type": "stream",
     "text": [
      "Displaying 25 of 9397 matches:\n",
      "led in Sussex . Their estate was large , and their residence was at Norland Par\n",
      "nd their residence was at Norland Park , in the centre of their property , wher\n",
      "Park , in the centre of their property , where , for many generations , they ha\n",
      "n the centre of their property , where , for many generations , they had lived \n",
      "roperty , where , for many generations , they had lived in so respectable a man\n",
      " owner of this estate was a single man , who lived to a very advanced age , and\n",
      "man , who lived to a very advanced age , and who for many years of his life , h\n",
      "e , and who for many years of his life , had a constant companion and housekeep\n",
      "sekeeper in his sister . But her death , which happened ten years before his ow\n",
      "hich happened ten years before his own , produced a great alteration in his hom\n",
      "n in his home ; for to supply her loss , he invited and received into his house\n",
      "mily of his nephew Mr . Henry Dashwood , the legal inheritor of the Norland est\n",
      " legal inheritor of the Norland estate , and the person to whom he intended to \n",
      "In the society of his nephew and niece , and their children , the old Gentleman\n",
      " nephew and niece , and their children , the old Gentleman ' s days were comfor\n",
      "and Mrs . Henry Dashwood to his wishes , which proceeded not merely from intere\n",
      "ich proceeded not merely from interest , but from goodness of heart , gave him \n",
      " interest , but from goodness of heart , gave him every degree of solid comfort\n",
      "o his existence . By a former marriage , Mr . Henry Dashwood had one son : by h\n",
      "wood had one son : by his present lady , three daughters . The son , a steady r\n",
      "esent lady , three daughters . The son , a steady respectable young man , was a\n",
      "e son , a steady respectable young man , was amply provided for by the fortune \n",
      "vided for by the fortune of his mother , which had been large , and half of whi\n",
      "e of his mother , which had been large , and half of which devolved on him on h\n",
      "is coming of age . By his own marriage , likewise , which happened soon afterwa\n"
     ]
    }
   ],
   "source": [
    "text2.concordance(\",\")"
   ]
  },
  {
   "cell_type": "code",
   "execution_count": 34,
   "id": "9e149a9c-66a6-4759-aa46-456d459f6ddc",
   "metadata": {},
   "outputs": [
    {
     "data": {
      "image/png": "[encoded data removed]",
      "text/plain": [
       "<Figure size 432x288 with 1 Axes>"
      ]
     },
     "metadata": {
      "needs_background": "light"
     },
     "output_type": "display_data"
    }
   ],
   "source": [
    "text2.dispersion_plot(\n",
    "    [\"man\", \"woman\", \"girl\", \"boy\", \"lady\", \"gentleman\"]\n",
    ")"
   ]
  },
  {
   "cell_type": "code",
   "execution_count": 42,
   "id": "548b49a7-9213-4029-bce4-b9aa661b324d",
   "metadata": {},
   "outputs": [
    {
     "name": "stdout",
     "output_type": "stream",
     "text": [
      "<bound method Text.count of <Text: Sense and Sensibility by Jane Austen 1811>>\n",
      "<FreqDist with 6833 samples and 141576 outcomes>\n"
     ]
    }
   ],
   "source": [
    "print(text2.count)\n",
    "frequency_distribution = FreqDist(text2)\n",
    "print(frequency_distribution)"
   ]
  },
  {
   "cell_type": "code",
   "execution_count": 41,
   "id": "ef875010-d105-4987-a670-576c5dd0cc2c",
   "metadata": {},
   "outputs": [
    {
     "data": {
      "text/plain": [
       "[(',', 9397),\n",
       " ('to', 4063),\n",
       " ('.', 3975),\n",
       " ('the', 3861),\n",
       " ('of', 3565),\n",
       " ('and', 3350),\n",
       " ('her', 2436),\n",
       " ('a', 2043),\n",
       " ('I', 2004),\n",
       " ('in', 1904)]"
      ]
     },
     "execution_count": 41,
     "metadata": {},
     "output_type": "execute_result"
    }
   ],
   "source": [
    "frequency_distribution.most_common(10)"
   ]
  },
  {
   "cell_type": "code",
   "execution_count": 52,
   "id": "2fec17a4-4143-439b-8e43-4e870cc0daf9",
   "metadata": {},
   "outputs": [
    {
     "data": {
      "image/png": "[encoded data removed]",
      "text/plain": [
       "<Figure size 432x288 with 1 Axes>"
      ]
     },
     "metadata": {
      "needs_background": "light"
     },
     "output_type": "display_data"
    },
    {
     "data": {
      "text/plain": [
       "<AxesSubplot:xlabel='Samples', ylabel='Counts'>"
      ]
     },
     "execution_count": 52,
     "metadata": {},
     "output_type": "execute_result"
    }
   ],
   "source": [
    "frequency_distribution.plot(20, cumulative=False)"
   ]
  },
  {
   "cell_type": "code",
   "execution_count": 50,
   "id": "516688c3-7d17-4e24-b916-4b43ecfc0317",
   "metadata": {},
   "outputs": [
    {
     "data": {
      "text/plain": [
       "4018"
      ]
     },
     "execution_count": 50,
     "metadata": {},
     "output_type": "execute_result"
    }
   ],
   "source": [
    "meaningful_words = [\n",
    "    word for word in text8 if word.casefold() not in stop_words\n",
    "]\n",
    "len(meaningful_words)"
   ]
  },
  {
   "cell_type": "code",
   "execution_count": 53,
   "id": "1afc1bd4-de2a-48dd-84f9-9a3ba5c8be05",
   "metadata": {},
   "outputs": [
    {
     "name": "stdout",
     "output_type": "stream",
     "text": [
      "Colonel Brandon; Sir John; Lady Middleton; Miss Dashwood; every thing;\n",
      "thousand pounds; dare say; Miss Steeles; said Elinor; Miss Steele;\n",
      "every body; John Dashwood; great deal; Harley Street; Berkeley Street;\n",
      "Miss Dashwoods; young man; Combe Magna; every day; next morning\n"
     ]
    }
   ],
   "source": [
    "text2.collocations()"
   ]
  },
  {
   "cell_type": "code",
   "execution_count": 65,
   "id": "81128ca7-b357-446c-a7ee-5c811914eee3",
   "metadata": {},
   "outputs": [
    {
     "name": "stdout",
     "output_type": "stream",
     "text": [
      "colonel brandon; sir john; ladi middleton; miss dashwood; everi thing;\n",
      "miss steel; ani thing; thousand pound; dare say; everi bodi; said\n",
      "elinor; great deal; john dashwood; berkeley street; harley street;\n",
      "young man; veri well; young ladi; comb magna; veri much\n",
      "\n",
      "\n",
      "Colonel Brandon; Sir John; Lady Middleton; Miss Dashwood; every thing;\n",
      "thousand pound; dare say; Miss Steeles; said Elinor; Miss Steele;\n",
      "every body; John Dashwood; great deal; young lady; Harley Street;\n",
      "Berkeley Street; Miss Dashwoods; young man; Combe Magna; next morning\n"
     ]
    }
   ],
   "source": [
    "stemmed_words = [stemmer.stem(word) for word in text2]\n",
    "lemmatized_words = [lemmatizer.lemmatize(word) for word in text2]\n",
    "new_text_stemmed = nltk.Text(stemmed_words)\n",
    "new_text_stemmed.collocations()\n",
    "print(\"\\n\")\n",
    "new_text_lemmatized = nltk.Text(lemmatized_words)\n",
    "new_text_lemmatized.collocations()"
   ]
  },
  {
   "cell_type": "code",
   "execution_count": null,
   "id": "25ddda31-2826-4bb9-ad67-b45c52a37da1",
   "metadata": {},
   "outputs": [],
   "source": []
  }
 ],
 "metadata": {
  "kernelspec": {
   "display_name": "Python 3 (ipykernel)",
   "language": "python",
   "name": "python3"
  },
  "language_info": {
   "codemirror_mode": {
    "name": "ipython",
    "version": 3
   },
   "file_extension": ".py",
   "mimetype": "text/x-python",
   "name": "python",
   "nbconvert_exporter": "python",
   "pygments_lexer": "ipython3",
   "version": "3.10.5"
  }
 },
 "nbformat": 4,
 "nbformat_minor": 5
}
